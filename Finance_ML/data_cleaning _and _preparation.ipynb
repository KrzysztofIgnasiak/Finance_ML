{
 "cells": [
  {
   "cell_type": "code",
   "execution_count": 17,
   "metadata": {},
   "outputs": [],
   "source": [
    "import numpy as np\n",
    "import pandas as pd\n",
    "import re\n",
    "import yfinance as yf\n",
    "import pandas_market_calendars as mcal"
   ]
  },
  {
   "cell_type": "markdown",
   "metadata": {},
   "source": [
    "Loading data"
   ]
  },
  {
   "cell_type": "code",
   "execution_count": 2,
   "metadata": {},
   "outputs": [],
   "source": [
    "convictions = pd.read_csv('Assets\\CONVICTIONSUMMARY_270_opt3_best2(1).csv', sep='|') "
   ]
  },
  {
   "cell_type": "code",
   "execution_count": 3,
   "metadata": {},
   "outputs": [],
   "source": [
    "convictions = convictions.loc[convictions['TYPE'] == 'MERGED']"
   ]
  },
  {
   "cell_type": "markdown",
   "metadata": {},
   "source": [
    "Extracting Time and Data"
   ]
  },
  {
   "cell_type": "code",
   "execution_count": null,
   "metadata": {},
   "outputs": [],
   "source": [
    "convictions[\"Time\"] = convictions.apply(lambda row: re.split(\" \",row.DATE)[0], axis=1)\n",
    "\n",
    "convictions[\"DATE\"] = convictions.apply(lambda row: re.split(\" \",row.DATE)[-1],axis=1)"
   ]
  },
  {
   "cell_type": "markdown",
   "metadata": {},
   "source": [
    "Cleaning and organizing"
   ]
  },
  {
   "cell_type": "code",
   "execution_count": 6,
   "metadata": {},
   "outputs": [],
   "source": [
    "## formating data\n",
    "convictions['DATE'] = pd.to_datetime(\n",
    "                          convictions['DATE'],\n",
    "                          format='%Y-%m-%d')"
   ]
  },
  {
   "cell_type": "code",
   "execution_count": 7,
   "metadata": {},
   "outputs": [],
   "source": [
    "convictions = convictions.sort_values(by=\"DATE\")"
   ]
  },
  {
   "cell_type": "code",
   "execution_count": 8,
   "metadata": {},
   "outputs": [],
   "source": [
    "# renaming columns\n",
    "convictions.columns = ['DATE', 'ID', 'STOCK',\"SECTOR\",\"TYPE\",\"SCORE\",\"TIME\"]"
   ]
  },
  {
   "cell_type": "code",
   "execution_count": 9,
   "metadata": {},
   "outputs": [],
   "source": [
    "# replace 0 with na in 'SCORE' column\n",
    "convictions['SCORE']=convictions['SCORE'].replace(0, np.nan)"
   ]
  },
  {
   "cell_type": "markdown",
   "metadata": {},
   "source": [
    "Adding Returns"
   ]
  },
  {
   "cell_type": "code",
   "execution_count": 10,
   "metadata": {},
   "outputs": [],
   "source": [
    "list_of_companies = convictions[\"STOCK\"].unique()\n",
    "list_of_dates = convictions[\"DATE\"].unique()"
   ]
  },
  {
   "cell_type": "code",
   "execution_count": 11,
   "metadata": {},
   "outputs": [],
   "source": [
    "start_date = convictions.DATE.min()\n",
    "end_date = convictions.DATE.max()"
   ]
  },
  {
   "cell_type": "code",
   "execution_count": 12,
   "metadata": {},
   "outputs": [
    {
     "name": "stdout",
     "output_type": "stream",
     "text": [
      "2005-07-14 00:00:00\n"
     ]
    }
   ],
   "source": [
    "final_date = end_date + pd.DateOffset(months=12)\n",
    "print(final_date)"
   ]
  },
  {
   "cell_type": "code",
   "execution_count": 19,
   "metadata": {},
   "outputs": [],
   "source": [
    "Columns_names = ['DATE','STOCK','1MReturn','3MReturn','6MReturn','12MReturn']"
   ]
  },
  {
   "cell_type": "code",
   "execution_count": 13,
   "metadata": {},
   "outputs": [],
   "source": [
    "# extract information about historical prices of stocks for given time period and stock\n",
    "def get_history_data(ticker_symbol, start_date, end_date):\n",
    "    tickerData = yf.Ticker(ticker_symbol)\n",
    "    tickerDf = tickerData.history(period='1d', start=start_date, end=end_date)\n",
    "    tickerDf[\"STOCK\"] = ticker_symbol\n",
    "\n",
    "    return tickerDf"
   ]
  },
  {
   "cell_type": "code",
   "execution_count": 14,
   "metadata": {},
   "outputs": [],
   "source": [
    "# find the trading day which is the same as current date or the closest future day\n",
    "def get_closest_trading_day(day,trading_days):\n",
    "    trading_days = trading_days[trading_days>=pd.to_datetime(day, utc=True)]\n",
    "    return trading_days.sort_values()[0]"
   ]
  },
  {
   "cell_type": "code",
   "execution_count": 18,
   "metadata": {},
   "outputs": [],
   "source": [
    "# get list of all trading dates between and start and end date on particular market\n",
    "def get_traning_days(start_date, end_date,stock_market_name):\n",
    "    nyse = mcal.get_calendar(stock_market_name)\n",
    "    valid_days = nyse.valid_days(start_date=start_date, end_date=end_date)\n",
    "    return valid_days"
   ]
  },
  {
   "cell_type": "code",
   "execution_count": 73,
   "metadata": {},
   "outputs": [],
   "source": [
    "#extracting close price on given data and formating it in case of non such data\n",
    "\n",
    "def get_price_on_date(date,df):\n",
    "  try:\n",
    "    x = df.loc[date]\n",
    "    x = float(x['Close'])\n",
    "  except:\n",
    "    x = 0.0\n",
    "  return x"
   ]
  },
  {
   "cell_type": "code",
   "execution_count": 70,
   "metadata": {},
   "outputs": [],
   "source": [
    "# calculate returns for given company for given time aka one row in main dataframe\n",
    "def calculate_returns(start_date, df, trading_days):\n",
    "    returns = pd.DataFrame(columns= Columns_names)\n",
    "    \n",
    "    # get closes trading dates for specify periods\n",
    "    date1m = get_closest_trading_day(start_date + pd.DateOffset(months=1),trading_days)\n",
    "    date3m = get_closest_trading_day(start_date + pd.DateOffset(months=3),trading_days)\n",
    "    date6m = get_closest_trading_day(start_date + pd.DateOffset(months=6),trading_days)\n",
    "    date12m = get_closest_trading_day(start_date + pd.DateOffset(months=12),trading_days)\n",
    "\n",
    "    # if there is no data on the start date return empty data frame\n",
    "    name = df['STOCK']\n",
    "    try:\n",
    "        current = df.loc[start_date]\n",
    "    except:\n",
    "        return returns\n",
    "    \n",
    "    # get prices\n",
    "    data1m = get_price_on_date(date1m,df)\n",
    "    data3m = get_price_on_date(date3m,df)\n",
    "    data6m = get_price_on_date(date6m,df)\n",
    "    data12m = get_price_on_date(date12m,df)\n",
    "\n",
    "    # calculate arithmetic returns\n",
    "    current = float(current['Close'])\n",
    "\n",
    "    return1m = (data1m - current)/current\n",
    "    return3m = (data3m - current)/current\n",
    "    return6m = (data6m - current)/current\n",
    "    return12m = (data12m - current)/current\n",
    "\n",
    "    # to dataframe\n",
    "    returns = pd.DataFrame([[start_date,name[0],return1m, return3m, return6m,return12m]], columns= Columns_names)\n",
    "\n",
    " \n",
    "\n",
    "    return returns"
   ]
  },
  {
   "cell_type": "code",
   "execution_count": 25,
   "metadata": {},
   "outputs": [],
   "source": [
    "def calculate_returns_for_date(list_of_dates,df,trading_days):\n",
    "    returns = pd.DataFrame(columns=Columns_names)\n",
    "    for d in list_of_dates:\n",
    "        temp = calculate_returns(pd.to_datetime(d),df,trading_days)\n",
    "        \n",
    "        returns = returns.append(temp, ignore_index=True)\n",
    "    \n",
    "    return returns"
   ]
  },
  {
   "cell_type": "code",
   "execution_count": 68,
   "metadata": {},
   "outputs": [],
   "source": [
    "def calculate_returns_for_companies(list_of_dates,list_of_companies,start_date, end_date):\n",
    "    returns = pd.DataFrame(columns=['DATE','STOCK','1MReturn','3MReturn','6MReturn','12MReturn'])\n",
    "    trading_days = get_traning_days(start_date,end_date, \"NYSE\")\n",
    "    for c in list_of_companies:\n",
    "        c = c.replace(\".XX1\",\"\")\n",
    "        c = c.replace(\".XX2\",\"\")\n",
    "        data = get_history_data(c,start_date, end_date)\n",
    "        len_of_data = data.shape[0]\n",
    "        if len_of_data !=0:\n",
    "            returns_for_company = calculate_returns_for_date(list_of_dates,data,trading_days)\n",
    "            returns = returns.append(returns_for_company, ignore_index=True)\n",
    "        \n",
    "    return returns"
   ]
  },
  {
   "cell_type": "markdown",
   "metadata": {},
   "source": [
    "Downloading Data"
   ]
  },
  {
   "cell_type": "code",
   "execution_count": 35,
   "metadata": {},
   "outputs": [],
   "source": [
    "trading_days = get_traning_days(start_date, final_date,\"NYSE\")"
   ]
  },
  {
   "cell_type": "code",
   "execution_count": 36,
   "metadata": {},
   "outputs": [
    {
     "data": {
      "text/plain": [
       "DatetimeIndex(['2004-02-11 00:00:00+00:00', '2004-02-12 00:00:00+00:00',\n",
       "               '2004-02-13 00:00:00+00:00', '2004-02-17 00:00:00+00:00',\n",
       "               '2004-02-18 00:00:00+00:00', '2004-02-19 00:00:00+00:00',\n",
       "               '2004-02-20 00:00:00+00:00', '2004-02-23 00:00:00+00:00',\n",
       "               '2004-02-24 00:00:00+00:00', '2004-02-25 00:00:00+00:00',\n",
       "               ...\n",
       "               '2005-06-30 00:00:00+00:00', '2005-07-01 00:00:00+00:00',\n",
       "               '2005-07-05 00:00:00+00:00', '2005-07-06 00:00:00+00:00',\n",
       "               '2005-07-07 00:00:00+00:00', '2005-07-08 00:00:00+00:00',\n",
       "               '2005-07-11 00:00:00+00:00', '2005-07-12 00:00:00+00:00',\n",
       "               '2005-07-13 00:00:00+00:00', '2005-07-14 00:00:00+00:00'],\n",
       "              dtype='datetime64[ns, UTC]', length=359, freq=None)"
      ]
     },
     "execution_count": 36,
     "metadata": {},
     "output_type": "execute_result"
    }
   ],
   "source": [
    "trading_days"
   ]
  },
  {
   "cell_type": "code",
   "execution_count": null,
   "metadata": {},
   "outputs": [],
   "source": [
    "companies_returns = calculate_returns_for_companies(list_of_dates, list_of_companies,start_date, final_date)"
   ]
  },
  {
   "cell_type": "code",
   "execution_count": 80,
   "metadata": {},
   "outputs": [
    {
     "data": {
      "text/html": [
       "<div>\n",
       "<style scoped>\n",
       "    .dataframe tbody tr th:only-of-type {\n",
       "        vertical-align: middle;\n",
       "    }\n",
       "\n",
       "    .dataframe tbody tr th {\n",
       "        vertical-align: top;\n",
       "    }\n",
       "\n",
       "    .dataframe thead th {\n",
       "        text-align: right;\n",
       "    }\n",
       "</style>\n",
       "<table border=\"1\" class=\"dataframe\">\n",
       "  <thead>\n",
       "    <tr style=\"text-align: right;\">\n",
       "      <th></th>\n",
       "      <th>DATE</th>\n",
       "      <th>STOCK</th>\n",
       "      <th>1MReturn</th>\n",
       "      <th>3MReturn</th>\n",
       "      <th>6MReturn</th>\n",
       "      <th>12MReturn</th>\n",
       "    </tr>\n",
       "  </thead>\n",
       "  <tbody>\n",
       "    <tr>\n",
       "      <th>0</th>\n",
       "      <td>2004-02-11 00:00:00</td>\n",
       "      <td>SU</td>\n",
       "      <td>0.017659</td>\n",
       "      <td>-0.083391</td>\n",
       "      <td>0.052675</td>\n",
       "      <td>0.416997</td>\n",
       "    </tr>\n",
       "    <tr>\n",
       "      <th>1</th>\n",
       "      <td>2004-02-18 00:00:00</td>\n",
       "      <td>SU</td>\n",
       "      <td>0.071475</td>\n",
       "      <td>-0.078276</td>\n",
       "      <td>0.077998</td>\n",
       "      <td>0.479119</td>\n",
       "    </tr>\n",
       "    <tr>\n",
       "      <th>2</th>\n",
       "      <td>2004-02-25 00:00:00</td>\n",
       "      <td>SU</td>\n",
       "      <td>0.03862</td>\n",
       "      <td>-0.04447</td>\n",
       "      <td>0.089185</td>\n",
       "      <td>0.572897</td>\n",
       "    </tr>\n",
       "    <tr>\n",
       "      <th>3</th>\n",
       "      <td>2004-03-03 00:00:00</td>\n",
       "      <td>SU</td>\n",
       "      <td>-0.01419</td>\n",
       "      <td>-0.107854</td>\n",
       "      <td>0.085261</td>\n",
       "      <td>0.47845</td>\n",
       "    </tr>\n",
       "    <tr>\n",
       "      <th>4</th>\n",
       "      <td>2004-03-10 00:00:00</td>\n",
       "      <td>SU</td>\n",
       "      <td>0.002599</td>\n",
       "      <td>-0.093852</td>\n",
       "      <td>0.062814</td>\n",
       "      <td>0.433562</td>\n",
       "    </tr>\n",
       "    <tr>\n",
       "      <th>...</th>\n",
       "      <td>...</td>\n",
       "      <td>...</td>\n",
       "      <td>...</td>\n",
       "      <td>...</td>\n",
       "      <td>...</td>\n",
       "      <td>...</td>\n",
       "    </tr>\n",
       "    <tr>\n",
       "      <th>95</th>\n",
       "      <td>2004-03-03 00:00:00</td>\n",
       "      <td>APA</td>\n",
       "      <td>-0.002836</td>\n",
       "      <td>-0.028006</td>\n",
       "      <td>0.095016</td>\n",
       "      <td>0.509062</td>\n",
       "    </tr>\n",
       "    <tr>\n",
       "      <th>96</th>\n",
       "      <td>2004-03-10 00:00:00</td>\n",
       "      <td>APA</td>\n",
       "      <td>0.052862</td>\n",
       "      <td>0.016214</td>\n",
       "      <td>0.141106</td>\n",
       "      <td>0.488864</td>\n",
       "    </tr>\n",
       "    <tr>\n",
       "      <th>97</th>\n",
       "      <td>2004-03-17 00:00:00</td>\n",
       "      <td>APA</td>\n",
       "      <td>0.05063</td>\n",
       "      <td>0.019324</td>\n",
       "      <td>0.122391</td>\n",
       "      <td>0.468461</td>\n",
       "    </tr>\n",
       "    <tr>\n",
       "      <th>98</th>\n",
       "      <td>2004-03-24 00:00:00</td>\n",
       "      <td>APA</td>\n",
       "      <td>0.061662</td>\n",
       "      <td>0.08787</td>\n",
       "      <td>0.226167</td>\n",
       "      <td>0.48152</td>\n",
       "    </tr>\n",
       "    <tr>\n",
       "      <th>99</th>\n",
       "      <td>2004-03-31 00:00:00</td>\n",
       "      <td>APA</td>\n",
       "      <td>-0.02882</td>\n",
       "      <td>0.010149</td>\n",
       "      <td>0.163801</td>\n",
       "      <td>0.426465</td>\n",
       "    </tr>\n",
       "  </tbody>\n",
       "</table>\n",
       "<p>100 rows × 6 columns</p>\n",
       "</div>"
      ],
      "text/plain": [
       "                   DATE STOCK  1MReturn  3MReturn  6MReturn 12MReturn\n",
       "0   2004-02-11 00:00:00    SU  0.017659 -0.083391  0.052675  0.416997\n",
       "1   2004-02-18 00:00:00    SU  0.071475 -0.078276  0.077998  0.479119\n",
       "2   2004-02-25 00:00:00    SU   0.03862  -0.04447  0.089185  0.572897\n",
       "3   2004-03-03 00:00:00    SU  -0.01419 -0.107854  0.085261   0.47845\n",
       "4   2004-03-10 00:00:00    SU  0.002599 -0.093852  0.062814  0.433562\n",
       "..                  ...   ...       ...       ...       ...       ...\n",
       "95  2004-03-03 00:00:00   APA -0.002836 -0.028006  0.095016  0.509062\n",
       "96  2004-03-10 00:00:00   APA  0.052862  0.016214  0.141106  0.488864\n",
       "97  2004-03-17 00:00:00   APA   0.05063  0.019324  0.122391  0.468461\n",
       "98  2004-03-24 00:00:00   APA  0.061662   0.08787  0.226167   0.48152\n",
       "99  2004-03-31 00:00:00   APA  -0.02882  0.010149  0.163801  0.426465\n",
       "\n",
       "[100 rows x 6 columns]"
      ]
     },
     "execution_count": 80,
     "metadata": {},
     "output_type": "execute_result"
    }
   ],
   "source": [
    "companies_returns.head(100)"
   ]
  },
  {
   "cell_type": "markdown",
   "metadata": {},
   "source": [
    "saving dowloaded data"
   ]
  },
  {
   "cell_type": "code",
   "execution_count": 82,
   "metadata": {},
   "outputs": [],
   "source": [
    "companies_returns.to_csv(r'C:\\Users\\Krzysztof\\Desktop\\Universe2\\Studia\\Przedmioty\\ML w finansach\\projekt\\Finance_ML\\Assets\\returns.csv')"
   ]
  },
  {
   "cell_type": "markdown",
   "metadata": {},
   "source": [
    "merging and saving"
   ]
  },
  {
   "cell_type": "code",
   "execution_count": 86,
   "metadata": {},
   "outputs": [],
   "source": [
    "## formating data\n",
    "companies_returns['DATE'] = pd.to_datetime(\n",
    "                          companies_returns['DATE'],\n",
    "                          format='%Y-%m-%d')"
   ]
  },
  {
   "cell_type": "code",
   "execution_count": 87,
   "metadata": {},
   "outputs": [],
   "source": [
    "convictions_and_returns = pd.merge(convictions, companies_returns,  how='right', left_on=['DATE','STOCK'], right_on = ['DATE','STOCK'])"
   ]
  },
  {
   "cell_type": "code",
   "execution_count": 88,
   "metadata": {},
   "outputs": [
    {
     "data": {
      "text/html": [
       "<div>\n",
       "<style scoped>\n",
       "    .dataframe tbody tr th:only-of-type {\n",
       "        vertical-align: middle;\n",
       "    }\n",
       "\n",
       "    .dataframe tbody tr th {\n",
       "        vertical-align: top;\n",
       "    }\n",
       "\n",
       "    .dataframe thead th {\n",
       "        text-align: right;\n",
       "    }\n",
       "</style>\n",
       "<table border=\"1\" class=\"dataframe\">\n",
       "  <thead>\n",
       "    <tr style=\"text-align: right;\">\n",
       "      <th></th>\n",
       "      <th>DATE</th>\n",
       "      <th>ID</th>\n",
       "      <th>STOCK</th>\n",
       "      <th>SECTOR</th>\n",
       "      <th>TYPE</th>\n",
       "      <th>SCORE</th>\n",
       "      <th>TIME</th>\n",
       "      <th>1MReturn</th>\n",
       "      <th>3MReturn</th>\n",
       "      <th>6MReturn</th>\n",
       "      <th>12MReturn</th>\n",
       "    </tr>\n",
       "  </thead>\n",
       "  <tbody>\n",
       "    <tr>\n",
       "      <th>0</th>\n",
       "      <td>2004-02-11</td>\n",
       "      <td>GN63J3-R</td>\n",
       "      <td>SU</td>\n",
       "      <td>Energy Minerals</td>\n",
       "      <td>MERGED</td>\n",
       "      <td>0.953727</td>\n",
       "      <td>10:01:54.391</td>\n",
       "      <td>0.017659</td>\n",
       "      <td>-0.083391</td>\n",
       "      <td>0.052675</td>\n",
       "      <td>0.416997</td>\n",
       "    </tr>\n",
       "    <tr>\n",
       "      <th>1</th>\n",
       "      <td>2004-02-18</td>\n",
       "      <td>GN63J3-R</td>\n",
       "      <td>SU</td>\n",
       "      <td>Energy Minerals</td>\n",
       "      <td>MERGED</td>\n",
       "      <td>0.953686</td>\n",
       "      <td>10:01:55.714</td>\n",
       "      <td>0.071475</td>\n",
       "      <td>-0.078276</td>\n",
       "      <td>0.077998</td>\n",
       "      <td>0.479119</td>\n",
       "    </tr>\n",
       "    <tr>\n",
       "      <th>2</th>\n",
       "      <td>2004-02-25</td>\n",
       "      <td>GN63J3-R</td>\n",
       "      <td>SU</td>\n",
       "      <td>Energy Minerals</td>\n",
       "      <td>MERGED</td>\n",
       "      <td>0.940502</td>\n",
       "      <td>10:01:56.304</td>\n",
       "      <td>0.03862</td>\n",
       "      <td>-0.04447</td>\n",
       "      <td>0.089185</td>\n",
       "      <td>0.572897</td>\n",
       "    </tr>\n",
       "    <tr>\n",
       "      <th>3</th>\n",
       "      <td>2004-03-03</td>\n",
       "      <td>GN63J3-R</td>\n",
       "      <td>SU</td>\n",
       "      <td>Energy Minerals</td>\n",
       "      <td>MERGED</td>\n",
       "      <td>0.943390</td>\n",
       "      <td>10:01:57.217</td>\n",
       "      <td>-0.01419</td>\n",
       "      <td>-0.107854</td>\n",
       "      <td>0.085261</td>\n",
       "      <td>0.47845</td>\n",
       "    </tr>\n",
       "    <tr>\n",
       "      <th>4</th>\n",
       "      <td>2004-03-10</td>\n",
       "      <td>GN63J3-R</td>\n",
       "      <td>SU</td>\n",
       "      <td>Energy Minerals</td>\n",
       "      <td>MERGED</td>\n",
       "      <td>0.942921</td>\n",
       "      <td>10:01:58.759</td>\n",
       "      <td>0.002599</td>\n",
       "      <td>-0.093852</td>\n",
       "      <td>0.062814</td>\n",
       "      <td>0.433562</td>\n",
       "    </tr>\n",
       "  </tbody>\n",
       "</table>\n",
       "</div>"
      ],
      "text/plain": [
       "        DATE        ID STOCK           SECTOR    TYPE     SCORE          TIME  \\\n",
       "0 2004-02-11  GN63J3-R    SU  Energy Minerals  MERGED  0.953727  10:01:54.391   \n",
       "1 2004-02-18  GN63J3-R    SU  Energy Minerals  MERGED  0.953686  10:01:55.714   \n",
       "2 2004-02-25  GN63J3-R    SU  Energy Minerals  MERGED  0.940502  10:01:56.304   \n",
       "3 2004-03-03  GN63J3-R    SU  Energy Minerals  MERGED  0.943390  10:01:57.217   \n",
       "4 2004-03-10  GN63J3-R    SU  Energy Minerals  MERGED  0.942921  10:01:58.759   \n",
       "\n",
       "   1MReturn  3MReturn  6MReturn 12MReturn  \n",
       "0  0.017659 -0.083391  0.052675  0.416997  \n",
       "1  0.071475 -0.078276  0.077998  0.479119  \n",
       "2   0.03862  -0.04447  0.089185  0.572897  \n",
       "3  -0.01419 -0.107854  0.085261   0.47845  \n",
       "4  0.002599 -0.093852  0.062814  0.433562  "
      ]
     },
     "execution_count": 88,
     "metadata": {},
     "output_type": "execute_result"
    }
   ],
   "source": [
    "convictions_and_returns.head()"
   ]
  },
  {
   "cell_type": "code",
   "execution_count": 89,
   "metadata": {},
   "outputs": [],
   "source": [
    "convictions_and_returns.to_csv(r'C:\\Users\\Krzysztof\\Desktop\\Universe2\\Studia\\Przedmioty\\ML w finansach\\projekt\\Finance_ML\\Assets\\convictions_and_returns.csv')"
   ]
  }
 ],
 "metadata": {
  "interpreter": {
   "hash": "e1810f1b07ff6a9bd6e2ce811cb2206e3ea7393940b0ab24041e8daedbafedfc"
  },
  "kernelspec": {
   "display_name": "Python 3.10.4 64-bit",
   "language": "python",
   "name": "python3"
  },
  "language_info": {
   "codemirror_mode": {
    "name": "ipython",
    "version": 3
   },
   "file_extension": ".py",
   "mimetype": "text/x-python",
   "name": "python",
   "nbconvert_exporter": "python",
   "pygments_lexer": "ipython3",
   "version": "3.10.4"
  },
  "orig_nbformat": 4
 },
 "nbformat": 4,
 "nbformat_minor": 2
}
