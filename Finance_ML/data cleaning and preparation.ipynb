{
 "cells": [
  {
   "cell_type": "code",
   "execution_count": 17,
   "metadata": {},
   "outputs": [],
   "source": [
    "import numpy as np\n",
    "import pandas as pd\n",
    "import re\n",
    "import yfinance as yf\n",
    "import pandas_market_calendars as mcal"
   ]
  },
  {
   "cell_type": "markdown",
   "metadata": {},
   "source": [
    "Loading data"
   ]
  },
  {
   "cell_type": "code",
   "execution_count": 2,
   "metadata": {},
   "outputs": [],
   "source": [
    "df = pd.read_csv('Assets\\CONVICTIONSUMMARY_270_opt3_best2(1).csv', sep='|')"
   ]
  },
  {
   "cell_type": "code",
   "execution_count": 3,
   "metadata": {},
   "outputs": [],
   "source": [
    "df = df.loc[df['TYPE'] == 'MERGED']"
   ]
  },
  {
   "cell_type": "markdown",
   "metadata": {},
   "source": [
    "Extracting Time and Data"
   ]
  },
  {
   "cell_type": "code",
   "execution_count": 4,
   "metadata": {},
   "outputs": [],
   "source": [
    "df[\"Time\"] = df.apply(lambda row: re.split(\" \",row.DATE)[0], axis=1)\n",
    "\n",
    "df[\"DATE\"] = df.apply(lambda row: re.split(\" \",row.DATE)[-1],axis=1)"
   ]
  },
  {
   "cell_type": "markdown",
   "metadata": {},
   "source": [
    "Cleaning and organizing"
   ]
  },
  {
   "cell_type": "code",
   "execution_count": 6,
   "metadata": {},
   "outputs": [],
   "source": [
    "df['DATE'] = pd.to_datetime(\n",
    "                          df['DATE'],\n",
    "                          format='%Y-%m-%d')"
   ]
  },
  {
   "cell_type": "code",
   "execution_count": 7,
   "metadata": {},
   "outputs": [],
   "source": [
    "df = df.sort_values(by=\"DATE\")"
   ]
  },
  {
   "cell_type": "code",
   "execution_count": 8,
   "metadata": {},
   "outputs": [],
   "source": [
    "df.columns = ['DATE', 'ID', 'STOCK',\"SECTOR\",\"TYPE\",\"SCORE\",\"TIME\"]"
   ]
  },
  {
   "cell_type": "code",
   "execution_count": 9,
   "metadata": {},
   "outputs": [],
   "source": [
    "df['SCORE']=df['SCORE'].replace(0, np.nan)"
   ]
  },
  {
   "cell_type": "markdown",
   "metadata": {},
   "source": [
    "Adding Returns"
   ]
  },
  {
   "cell_type": "code",
   "execution_count": 10,
   "metadata": {},
   "outputs": [],
   "source": [
    "list_of_companies = df[\"STOCK\"].unique()\n",
    "list_of_dates = df[\"DATE\"].unique()"
   ]
  },
  {
   "cell_type": "code",
   "execution_count": 11,
   "metadata": {},
   "outputs": [],
   "source": [
    "start_date = df.DATE.min()\n",
    "end_date = df.DATE.max()"
   ]
  },
  {
   "cell_type": "code",
   "execution_count": 12,
   "metadata": {},
   "outputs": [
    {
     "name": "stdout",
     "output_type": "stream",
     "text": [
      "2005-07-14 00:00:00\n"
     ]
    }
   ],
   "source": [
    "final_date = end_date + pd.DateOffset(months=12)\n",
    "print(final_date)"
   ]
  },
  {
   "cell_type": "code",
   "execution_count": null,
   "metadata": {},
   "outputs": [],
   "source": [
    "Columns_names = ['DATE','STOCK','1MReturn','3MReturn','6MReturn','12MReturn']"
   ]
  },
  {
   "cell_type": "code",
   "execution_count": 13,
   "metadata": {},
   "outputs": [],
   "source": [
    "# extract information about historical prices of stocks for given time period and stock\n",
    "def get_history_data(ticker_symbol, start_date, end_date):\n",
    "    tickerData = yf.Ticker(ticker_symbol)\n",
    "    tickerDf = tickerData.history(period='1d', start=start_date, end=end_date)\n",
    "    tickerDf[\"STOCK\"] = ticker_symbol\n",
    "\n",
    "    return tickerDf"
   ]
  },
  {
   "cell_type": "code",
   "execution_count": 14,
   "metadata": {},
   "outputs": [],
   "source": [
    "# find the trading day which is the same as current date or the closest future day\n",
    "def get_closest_trading_day(day,trading_days):\n",
    "    trading_days = trading_days[trading_days>=pd.to_datetime(day, utc=True)]\n",
    "    return trading_days.sort_values()[0]"
   ]
  },
  {
   "cell_type": "code",
   "execution_count": 18,
   "metadata": {},
   "outputs": [],
   "source": [
    "# get list of all trading dates between and start and end date on particular market\n",
    "def get_traning_days(start_date, end_date,stock_market_name):\n",
    "    nyse = mcal.get_calendar(stock_market_name)\n",
    "    valid_days = nyse.valid_days(start_date=start_date, end_date=end_date)\n",
    "    return valid_days"
   ]
  },
  {
   "cell_type": "code",
   "execution_count": null,
   "metadata": {},
   "outputs": [],
   "source": [
    "#extracting close price on given data and formating it in case of non such data\n",
    "\n",
    "def get_return_on_date(date,df):\n",
    "  try:\n",
    "    x = df.loc[date]\n",
    "    x = float(x['Close'])\n",
    "  except:\n",
    "    x = 0.0\n",
    "  return x"
   ]
  }
 ],
 "metadata": {
  "interpreter": {
   "hash": "6e80456951234980edfab71de2304017cb3048c0e3f8dfc95b911503131a602e"
  },
  "kernelspec": {
   "display_name": "Python 3.10.4 64-bit",
   "language": "python",
   "name": "python3"
  },
  "language_info": {
   "codemirror_mode": {
    "name": "ipython",
    "version": 3
   },
   "file_extension": ".py",
   "mimetype": "text/x-python",
   "name": "python",
   "nbconvert_exporter": "python",
   "pygments_lexer": "ipython3",
   "version": "3.10.4"
  },
  "orig_nbformat": 4
 },
 "nbformat": 4,
 "nbformat_minor": 2
}
