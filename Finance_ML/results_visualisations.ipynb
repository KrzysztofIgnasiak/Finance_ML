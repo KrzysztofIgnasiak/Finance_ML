{
 "cells": [
  {
   "cell_type": "code",
   "execution_count": 1,
   "metadata": {},
   "outputs": [],
   "source": [
    "import numpy as np\n",
    "import pandas as pd\n",
    "import plotly.graph_objects as go\n",
    "import dataframe_image as dfi"
   ]
  },
  {
   "cell_type": "markdown",
   "metadata": {},
   "source": [
    "Benchmark model results"
   ]
  },
  {
   "cell_type": "code",
   "execution_count": 2,
   "metadata": {},
   "outputs": [],
   "source": [
    "benchmark_performance_train = pd.read_csv('benchmark_performance_train.csv')"
   ]
  },
  {
   "cell_type": "code",
   "execution_count": 3,
   "metadata": {},
   "outputs": [],
   "source": [
    "benchmark_performance_test = pd.read_csv('benchmark_performance_test.csv')"
   ]
  },
  {
   "cell_type": "code",
   "execution_count": 12,
   "metadata": {},
   "outputs": [
    {
     "data": {
      "text/html": [
       "<div>\n",
       "<style scoped>\n",
       "    .dataframe tbody tr th:only-of-type {\n",
       "        vertical-align: middle;\n",
       "    }\n",
       "\n",
       "    .dataframe tbody tr th {\n",
       "        vertical-align: top;\n",
       "    }\n",
       "\n",
       "    .dataframe thead th {\n",
       "        text-align: right;\n",
       "    }\n",
       "</style>\n",
       "<table border=\"1\" class=\"dataframe\">\n",
       "  <thead>\n",
       "    <tr style=\"text-align: right;\">\n",
       "      <th></th>\n",
       "      <th>Unnamed: 0</th>\n",
       "      <th>MSE</th>\n",
       "      <th>RMSE</th>\n",
       "      <th>MAE</th>\n",
       "      <th>RMSLE</th>\n",
       "      <th>R^2</th>\n",
       "      <th>Mean Residual Deviance</th>\n",
       "      <th>Residual deviance</th>\n",
       "      <th>AIC</th>\n",
       "      <th>model</th>\n",
       "    </tr>\n",
       "  </thead>\n",
       "  <tbody>\n",
       "    <tr>\n",
       "      <th>0</th>\n",
       "      <td>1</td>\n",
       "      <td>0.0081</td>\n",
       "      <td>0.0902</td>\n",
       "      <td>0.0652</td>\n",
       "      <td>0.0976</td>\n",
       "      <td>0.0015</td>\n",
       "      <td>0.0081</td>\n",
       "      <td>47.6701</td>\n",
       "      <td>-11571.9137</td>\n",
       "      <td>Benchmark linear regression 1m train</td>\n",
       "    </tr>\n",
       "    <tr>\n",
       "      <th>1</th>\n",
       "      <td>1</td>\n",
       "      <td>0.0197</td>\n",
       "      <td>0.1402</td>\n",
       "      <td>0.1067</td>\n",
       "      <td>0.1440</td>\n",
       "      <td>0.0038</td>\n",
       "      <td>0.0197</td>\n",
       "      <td>115.2344</td>\n",
       "      <td>-6395.9739</td>\n",
       "      <td>Benchmark linear regression 3m train</td>\n",
       "    </tr>\n",
       "    <tr>\n",
       "      <th>2</th>\n",
       "      <td>1</td>\n",
       "      <td>0.0490</td>\n",
       "      <td>0.2213</td>\n",
       "      <td>0.1652</td>\n",
       "      <td>0.2118</td>\n",
       "      <td>0.0080</td>\n",
       "      <td>0.0490</td>\n",
       "      <td>287.0872</td>\n",
       "      <td>-1043.2117</td>\n",
       "      <td>Benchmark linear regression 6m train</td>\n",
       "    </tr>\n",
       "    <tr>\n",
       "      <th>3</th>\n",
       "      <td>1</td>\n",
       "      <td>0.1207</td>\n",
       "      <td>0.3474</td>\n",
       "      <td>0.2450</td>\n",
       "      <td>0.2888</td>\n",
       "      <td>0.0096</td>\n",
       "      <td>0.1207</td>\n",
       "      <td>707.5166</td>\n",
       "      <td>4245.9706</td>\n",
       "      <td>Benchmark linear regression 12m train</td>\n",
       "    </tr>\n",
       "  </tbody>\n",
       "</table>\n",
       "</div>"
      ],
      "text/plain": [
       "   Unnamed: 0     MSE    RMSE     MAE   RMSLE     R^2  Mean Residual Deviance  \\\n",
       "0           1  0.0081  0.0902  0.0652  0.0976  0.0015                  0.0081   \n",
       "1           1  0.0197  0.1402  0.1067  0.1440  0.0038                  0.0197   \n",
       "2           1  0.0490  0.2213  0.1652  0.2118  0.0080                  0.0490   \n",
       "3           1  0.1207  0.3474  0.2450  0.2888  0.0096                  0.1207   \n",
       "\n",
       "   Residual deviance         AIC                                  model  \n",
       "0            47.6701 -11571.9137   Benchmark linear regression 1m train  \n",
       "1           115.2344  -6395.9739   Benchmark linear regression 3m train  \n",
       "2           287.0872  -1043.2117   Benchmark linear regression 6m train  \n",
       "3           707.5166   4245.9706  Benchmark linear regression 12m train  "
      ]
     },
     "execution_count": 12,
     "metadata": {},
     "output_type": "execute_result"
    }
   ],
   "source": [
    "benchmark_performance_train"
   ]
  },
  {
   "cell_type": "code",
   "execution_count": 25,
   "metadata": {},
   "outputs": [],
   "source": [
    "benchmark_performance_train = benchmark_performance_train.drop(['Unnamed: 0'], axis=1)\n",
    "benchmark_performance_test = benchmark_performance_test.drop(['Unnamed: 0'], axis=1)"
   ]
  },
  {
   "cell_type": "code",
   "execution_count": 26,
   "metadata": {},
   "outputs": [],
   "source": [
    "benchmark_perfromance_train_instyle = benchmark_performance_train.style.background_gradient(axis=0, gmap=benchmark_performance_train['R^2'], cmap='Blues')"
   ]
  },
  {
   "cell_type": "code",
   "execution_count": 27,
   "metadata": {},
   "outputs": [
    {
     "data": {
      "text/html": [
       "<style type=\"text/css\">\n",
       "#T_febf3_row0_col0, #T_febf3_row0_col1, #T_febf3_row0_col2, #T_febf3_row0_col3, #T_febf3_row0_col4, #T_febf3_row0_col5, #T_febf3_row0_col6, #T_febf3_row0_col7, #T_febf3_row0_col8 {\n",
       "  background-color: #f7fbff;\n",
       "  color: #000000;\n",
       "}\n",
       "#T_febf3_row1_col0, #T_febf3_row1_col1, #T_febf3_row1_col2, #T_febf3_row1_col3, #T_febf3_row1_col4, #T_febf3_row1_col5, #T_febf3_row1_col6, #T_febf3_row1_col7, #T_febf3_row1_col8 {\n",
       "  background-color: #bcd7eb;\n",
       "  color: #000000;\n",
       "}\n",
       "#T_febf3_row2_col0, #T_febf3_row2_col1, #T_febf3_row2_col2, #T_febf3_row2_col3, #T_febf3_row2_col4, #T_febf3_row2_col5, #T_febf3_row2_col6, #T_febf3_row2_col7, #T_febf3_row2_col8 {\n",
       "  background-color: #1663aa;\n",
       "  color: #f1f1f1;\n",
       "}\n",
       "#T_febf3_row3_col0, #T_febf3_row3_col1, #T_febf3_row3_col2, #T_febf3_row3_col3, #T_febf3_row3_col4, #T_febf3_row3_col5, #T_febf3_row3_col6, #T_febf3_row3_col7, #T_febf3_row3_col8 {\n",
       "  background-color: #08306b;\n",
       "  color: #f1f1f1;\n",
       "}\n",
       "</style>\n",
       "<table id=\"T_febf3\">\n",
       "  <thead>\n",
       "    <tr>\n",
       "      <th class=\"blank level0\" >&nbsp;</th>\n",
       "      <th id=\"T_febf3_level0_col0\" class=\"col_heading level0 col0\" >MSE</th>\n",
       "      <th id=\"T_febf3_level0_col1\" class=\"col_heading level0 col1\" >RMSE</th>\n",
       "      <th id=\"T_febf3_level0_col2\" class=\"col_heading level0 col2\" >MAE</th>\n",
       "      <th id=\"T_febf3_level0_col3\" class=\"col_heading level0 col3\" >RMSLE</th>\n",
       "      <th id=\"T_febf3_level0_col4\" class=\"col_heading level0 col4\" >R^2</th>\n",
       "      <th id=\"T_febf3_level0_col5\" class=\"col_heading level0 col5\" >Mean Residual Deviance</th>\n",
       "      <th id=\"T_febf3_level0_col6\" class=\"col_heading level0 col6\" >Residual deviance</th>\n",
       "      <th id=\"T_febf3_level0_col7\" class=\"col_heading level0 col7\" >AIC</th>\n",
       "      <th id=\"T_febf3_level0_col8\" class=\"col_heading level0 col8\" >model</th>\n",
       "    </tr>\n",
       "  </thead>\n",
       "  <tbody>\n",
       "    <tr>\n",
       "      <th id=\"T_febf3_level0_row0\" class=\"row_heading level0 row0\" >0</th>\n",
       "      <td id=\"T_febf3_row0_col0\" class=\"data row0 col0\" >0.008129</td>\n",
       "      <td id=\"T_febf3_row0_col1\" class=\"data row0 col1\" >0.090163</td>\n",
       "      <td id=\"T_febf3_row0_col2\" class=\"data row0 col2\" >0.065222</td>\n",
       "      <td id=\"T_febf3_row0_col3\" class=\"data row0 col3\" >0.097584</td>\n",
       "      <td id=\"T_febf3_row0_col4\" class=\"data row0 col4\" >0.001513</td>\n",
       "      <td id=\"T_febf3_row0_col5\" class=\"data row0 col5\" >0.008129</td>\n",
       "      <td id=\"T_febf3_row0_col6\" class=\"data row0 col6\" >47.670116</td>\n",
       "      <td id=\"T_febf3_row0_col7\" class=\"data row0 col7\" >-11571.913671</td>\n",
       "      <td id=\"T_febf3_row0_col8\" class=\"data row0 col8\" >Benchmark linear regression 1m train</td>\n",
       "    </tr>\n",
       "    <tr>\n",
       "      <th id=\"T_febf3_level0_row1\" class=\"row_heading level0 row1\" >1</th>\n",
       "      <td id=\"T_febf3_row1_col0\" class=\"data row1 col0\" >0.019651</td>\n",
       "      <td id=\"T_febf3_row1_col1\" class=\"data row1 col1\" >0.140183</td>\n",
       "      <td id=\"T_febf3_row1_col2\" class=\"data row1 col2\" >0.106700</td>\n",
       "      <td id=\"T_febf3_row1_col3\" class=\"data row1 col3\" >0.143964</td>\n",
       "      <td id=\"T_febf3_row1_col4\" class=\"data row1 col4\" >0.003801</td>\n",
       "      <td id=\"T_febf3_row1_col5\" class=\"data row1 col5\" >0.019651</td>\n",
       "      <td id=\"T_febf3_row1_col6\" class=\"data row1 col6\" >115.234407</td>\n",
       "      <td id=\"T_febf3_row1_col7\" class=\"data row1 col7\" >-6395.973929</td>\n",
       "      <td id=\"T_febf3_row1_col8\" class=\"data row1 col8\" >Benchmark linear regression 3m train</td>\n",
       "    </tr>\n",
       "    <tr>\n",
       "      <th id=\"T_febf3_level0_row2\" class=\"row_heading level0 row2\" >2</th>\n",
       "      <td id=\"T_febf3_row2_col0\" class=\"data row2 col0\" >0.048958</td>\n",
       "      <td id=\"T_febf3_row2_col1\" class=\"data row2 col1\" >0.221264</td>\n",
       "      <td id=\"T_febf3_row2_col2\" class=\"data row2 col2\" >0.165151</td>\n",
       "      <td id=\"T_febf3_row2_col3\" class=\"data row2 col3\" >0.211789</td>\n",
       "      <td id=\"T_febf3_row2_col4\" class=\"data row2 col4\" >0.008019</td>\n",
       "      <td id=\"T_febf3_row2_col5\" class=\"data row2 col5\" >0.048958</td>\n",
       "      <td id=\"T_febf3_row2_col6\" class=\"data row2 col6\" >287.087181</td>\n",
       "      <td id=\"T_febf3_row2_col7\" class=\"data row2 col7\" >-1043.211748</td>\n",
       "      <td id=\"T_febf3_row2_col8\" class=\"data row2 col8\" >Benchmark linear regression 6m train</td>\n",
       "    </tr>\n",
       "    <tr>\n",
       "      <th id=\"T_febf3_level0_row3\" class=\"row_heading level0 row3\" >3</th>\n",
       "      <td id=\"T_febf3_row3_col0\" class=\"data row3 col0\" >0.120654</td>\n",
       "      <td id=\"T_febf3_row3_col1\" class=\"data row3 col1\" >0.347353</td>\n",
       "      <td id=\"T_febf3_row3_col2\" class=\"data row3 col2\" >0.244971</td>\n",
       "      <td id=\"T_febf3_row3_col3\" class=\"data row3 col3\" >0.288756</td>\n",
       "      <td id=\"T_febf3_row3_col4\" class=\"data row3 col4\" >0.009602</td>\n",
       "      <td id=\"T_febf3_row3_col5\" class=\"data row3 col5\" >0.120654</td>\n",
       "      <td id=\"T_febf3_row3_col6\" class=\"data row3 col6\" >707.516602</td>\n",
       "      <td id=\"T_febf3_row3_col7\" class=\"data row3 col7\" >4245.970580</td>\n",
       "      <td id=\"T_febf3_row3_col8\" class=\"data row3 col8\" >Benchmark linear regression 12m train</td>\n",
       "    </tr>\n",
       "  </tbody>\n",
       "</table>\n"
      ],
      "text/plain": [
       "<pandas.io.formats.style.Styler at 0x20193c0e320>"
      ]
     },
     "execution_count": 27,
     "metadata": {},
     "output_type": "execute_result"
    }
   ],
   "source": [
    "benchmark_perfromance_train_instyle"
   ]
  },
  {
   "cell_type": "code",
   "execution_count": 28,
   "metadata": {},
   "outputs": [],
   "source": [
    "benchmark_perfromance_test_instyle = benchmark_performance_test.style.background_gradient(axis=0, gmap=benchmark_performance_train['R^2'], cmap='Blues')"
   ]
  },
  {
   "cell_type": "code",
   "execution_count": 29,
   "metadata": {},
   "outputs": [
    {
     "data": {
      "text/html": [
       "<style type=\"text/css\">\n",
       "#T_af906_row0_col0, #T_af906_row0_col1, #T_af906_row0_col2, #T_af906_row0_col3, #T_af906_row0_col4, #T_af906_row0_col5, #T_af906_row0_col6, #T_af906_row0_col7, #T_af906_row0_col8 {\n",
       "  background-color: #f7fbff;\n",
       "  color: #000000;\n",
       "}\n",
       "#T_af906_row1_col0, #T_af906_row1_col1, #T_af906_row1_col2, #T_af906_row1_col3, #T_af906_row1_col4, #T_af906_row1_col5, #T_af906_row1_col6, #T_af906_row1_col7, #T_af906_row1_col8 {\n",
       "  background-color: #bcd7eb;\n",
       "  color: #000000;\n",
       "}\n",
       "#T_af906_row2_col0, #T_af906_row2_col1, #T_af906_row2_col2, #T_af906_row2_col3, #T_af906_row2_col4, #T_af906_row2_col5, #T_af906_row2_col6, #T_af906_row2_col7, #T_af906_row2_col8 {\n",
       "  background-color: #1663aa;\n",
       "  color: #f1f1f1;\n",
       "}\n",
       "#T_af906_row3_col0, #T_af906_row3_col1, #T_af906_row3_col2, #T_af906_row3_col3, #T_af906_row3_col4, #T_af906_row3_col5, #T_af906_row3_col6, #T_af906_row3_col7, #T_af906_row3_col8 {\n",
       "  background-color: #08306b;\n",
       "  color: #f1f1f1;\n",
       "}\n",
       "</style>\n",
       "<table id=\"T_af906\">\n",
       "  <thead>\n",
       "    <tr>\n",
       "      <th class=\"blank level0\" >&nbsp;</th>\n",
       "      <th id=\"T_af906_level0_col0\" class=\"col_heading level0 col0\" >MSE</th>\n",
       "      <th id=\"T_af906_level0_col1\" class=\"col_heading level0 col1\" >RMSE</th>\n",
       "      <th id=\"T_af906_level0_col2\" class=\"col_heading level0 col2\" >MAE</th>\n",
       "      <th id=\"T_af906_level0_col3\" class=\"col_heading level0 col3\" >RMSLE</th>\n",
       "      <th id=\"T_af906_level0_col4\" class=\"col_heading level0 col4\" >R^2</th>\n",
       "      <th id=\"T_af906_level0_col5\" class=\"col_heading level0 col5\" >Mean Residual Deviance</th>\n",
       "      <th id=\"T_af906_level0_col6\" class=\"col_heading level0 col6\" >Residual deviance</th>\n",
       "      <th id=\"T_af906_level0_col7\" class=\"col_heading level0 col7\" >AIC</th>\n",
       "      <th id=\"T_af906_level0_col8\" class=\"col_heading level0 col8\" >model</th>\n",
       "    </tr>\n",
       "  </thead>\n",
       "  <tbody>\n",
       "    <tr>\n",
       "      <th id=\"T_af906_level0_row0\" class=\"row_heading level0 row0\" >0</th>\n",
       "      <td id=\"T_af906_row0_col0\" class=\"data row0 col0\" >0.008385</td>\n",
       "      <td id=\"T_af906_row0_col1\" class=\"data row0 col1\" >0.091569</td>\n",
       "      <td id=\"T_af906_row0_col2\" class=\"data row0 col2\" >0.067875</td>\n",
       "      <td id=\"T_af906_row0_col3\" class=\"data row0 col3\" >0.096225</td>\n",
       "      <td id=\"T_af906_row0_col4\" class=\"data row0 col4\" >-0.082290</td>\n",
       "      <td id=\"T_af906_row0_col5\" class=\"data row0 col5\" >0.008385</td>\n",
       "      <td id=\"T_af906_row0_col6\" class=\"data row0 col6\" >19.645671</td>\n",
       "      <td id=\"T_af906_row0_col7\" class=\"data row0 col7\" >-4547.511283</td>\n",
       "      <td id=\"T_af906_row0_col8\" class=\"data row0 col8\" >Benchmark linear regression 1m test</td>\n",
       "    </tr>\n",
       "    <tr>\n",
       "      <th id=\"T_af906_level0_row1\" class=\"row_heading level0 row1\" >1</th>\n",
       "      <td id=\"T_af906_row1_col0\" class=\"data row1 col0\" >0.023115</td>\n",
       "      <td id=\"T_af906_row1_col1\" class=\"data row1 col1\" >0.152035</td>\n",
       "      <td id=\"T_af906_row1_col2\" class=\"data row1 col2\" >0.110979</td>\n",
       "      <td id=\"T_af906_row1_col3\" class=\"data row1 col3\" >0.149934</td>\n",
       "      <td id=\"T_af906_row1_col4\" class=\"data row1 col4\" >-0.003807</td>\n",
       "      <td id=\"T_af906_row1_col5\" class=\"data row1 col5\" >0.023115</td>\n",
       "      <td id=\"T_af906_row1_col6\" class=\"data row1 col6\" >54.157831</td>\n",
       "      <td id=\"T_af906_row1_col7\" class=\"data row1 col7\" >-2171.602445</td>\n",
       "      <td id=\"T_af906_row1_col8\" class=\"data row1 col8\" >Benchmark linear regression 3m test</td>\n",
       "    </tr>\n",
       "    <tr>\n",
       "      <th id=\"T_af906_level0_row2\" class=\"row_heading level0 row2\" >2</th>\n",
       "      <td id=\"T_af906_row2_col0\" class=\"data row2 col0\" >0.057266</td>\n",
       "      <td id=\"T_af906_row2_col1\" class=\"data row2 col1\" >0.239304</td>\n",
       "      <td id=\"T_af906_row2_col2\" class=\"data row2 col2\" >0.171791</td>\n",
       "      <td id=\"T_af906_row2_col3\" class=\"data row2 col3\" >0.204001</td>\n",
       "      <td id=\"T_af906_row2_col4\" class=\"data row2 col4\" >-0.113019</td>\n",
       "      <td id=\"T_af906_row2_col5\" class=\"data row2 col5\" >0.057266</td>\n",
       "      <td id=\"T_af906_row2_col6\" class=\"data row2 col6\" >134.175165</td>\n",
       "      <td id=\"T_af906_row2_col7\" class=\"data row2 col7\" >-45.930784</td>\n",
       "      <td id=\"T_af906_row2_col8\" class=\"data row2 col8\" >Benchmark linear regression 6m test</td>\n",
       "    </tr>\n",
       "    <tr>\n",
       "      <th id=\"T_af906_level0_row3\" class=\"row_heading level0 row3\" >3</th>\n",
       "      <td id=\"T_af906_row3_col0\" class=\"data row3 col0\" >0.135841</td>\n",
       "      <td id=\"T_af906_row3_col1\" class=\"data row3 col1\" >0.368566</td>\n",
       "      <td id=\"T_af906_row3_col2\" class=\"data row3 col2\" >0.260128</td>\n",
       "      <td id=\"T_af906_row3_col3\" class=\"data row3 col3\" >0.297425</td>\n",
       "      <td id=\"T_af906_row3_col4\" class=\"data row3 col4\" >0.009684</td>\n",
       "      <td id=\"T_af906_row3_col5\" class=\"data row3 col5\" >0.135841</td>\n",
       "      <td id=\"T_af906_row3_col6\" class=\"data row3 col6\" >318.275929</td>\n",
       "      <td id=\"T_af906_row3_col7\" class=\"data row3 col7\" >1977.888330</td>\n",
       "      <td id=\"T_af906_row3_col8\" class=\"data row3 col8\" >Benchmark linear regression 12m test</td>\n",
       "    </tr>\n",
       "  </tbody>\n",
       "</table>\n"
      ],
      "text/plain": [
       "<pandas.io.formats.style.Styler at 0x20193c0fee0>"
      ]
     },
     "execution_count": 29,
     "metadata": {},
     "output_type": "execute_result"
    }
   ],
   "source": [
    "benchmark_perfromance_test_instyle"
   ]
  },
  {
   "cell_type": "code",
   "execution_count": 30,
   "metadata": {},
   "outputs": [
    {
     "name": "stderr",
     "output_type": "stream",
     "text": [
      "c:\\Users\\Krzysztof\\AppData\\Local\\Programs\\Python\\Python310\\lib\\site-packages\\dataframe_image\\_pandas_accessor.py:69: FutureWarning: this method is deprecated in favour of `Styler.to_html()`\n",
      "  html = '<div>' + obj.render() + '</div>'\n"
     ]
    }
   ],
   "source": [
    "dfi.export(benchmark_perfromance_train_instyle,\"benchmark_perfromance_train.png\")"
   ]
  },
  {
   "cell_type": "code",
   "execution_count": 31,
   "metadata": {},
   "outputs": [],
   "source": [
    "dfi.export(benchmark_perfromance_test_instyle,\"benchmark_perfromance_test.png\")"
   ]
  },
  {
   "cell_type": "markdown",
   "metadata": {},
   "source": [
    "1M Results"
   ]
  },
  {
   "cell_type": "code",
   "execution_count": 43,
   "metadata": {},
   "outputs": [],
   "source": [
    "performance_train_1m = pd.read_csv('models_results_train_1m.csv')\n",
    "performance_test_1m = pd.read_csv('models_results_test_1m.csv')"
   ]
  },
  {
   "cell_type": "code",
   "execution_count": 44,
   "metadata": {},
   "outputs": [],
   "source": [
    "performance_train_1m  = performance_train_1m.drop(['Residual deviance'], axis=1)\n",
    "performance_test_1m = performance_test_1m.drop(['Residual deviance'], axis=1)"
   ]
  },
  {
   "cell_type": "code",
   "execution_count": 45,
   "metadata": {},
   "outputs": [],
   "source": [
    "performance_train_1m_instyle = performance_train_1m.style.background_gradient(axis=0, gmap=benchmark_performance_train['R^2'], cmap='Blues')\n",
    "performance_test_1m_instyle = performance_test_1m.style.background_gradient(axis=0, gmap=benchmark_performance_train['R^2'], cmap='Blues')"
   ]
  },
  {
   "cell_type": "code",
   "execution_count": 46,
   "metadata": {},
   "outputs": [
    {
     "name": "stderr",
     "output_type": "stream",
     "text": [
      "c:\\Users\\Krzysztof\\AppData\\Local\\Programs\\Python\\Python310\\lib\\site-packages\\dataframe_image\\_pandas_accessor.py:69: FutureWarning: this method is deprecated in favour of `Styler.to_html()`\n",
      "  html = '<div>' + obj.render() + '</div>'\n"
     ]
    }
   ],
   "source": [
    "dfi.export(performance_train_1m_instyle,\"performance_train_1m_train.png\")\n",
    "dfi.export(performance_test_1m_instyle,\"performance_test_1m_train.png\")"
   ]
  },
  {
   "cell_type": "markdown",
   "metadata": {},
   "source": [
    "3M Results"
   ]
  },
  {
   "cell_type": "code",
   "execution_count": 47,
   "metadata": {},
   "outputs": [],
   "source": [
    "performance_train_3m = pd.read_csv('models_results_train_3m.csv')\n",
    "performance_test_3m = pd.read_csv('models_results_test_3m.csv')"
   ]
  },
  {
   "cell_type": "code",
   "execution_count": 49,
   "metadata": {},
   "outputs": [
    {
     "data": {
      "text/html": [
       "<div>\n",
       "<style scoped>\n",
       "    .dataframe tbody tr th:only-of-type {\n",
       "        vertical-align: middle;\n",
       "    }\n",
       "\n",
       "    .dataframe tbody tr th {\n",
       "        vertical-align: top;\n",
       "    }\n",
       "\n",
       "    .dataframe thead th {\n",
       "        text-align: right;\n",
       "    }\n",
       "</style>\n",
       "<table border=\"1\" class=\"dataframe\">\n",
       "  <thead>\n",
       "    <tr style=\"text-align: right;\">\n",
       "      <th></th>\n",
       "      <th>Unnamed: 0</th>\n",
       "      <th>MSE</th>\n",
       "      <th>RMSE</th>\n",
       "      <th>MAE</th>\n",
       "      <th>RMSLE</th>\n",
       "      <th>R^2</th>\n",
       "      <th>Mean Residual Deviance</th>\n",
       "      <th>Residual deviance</th>\n",
       "      <th>model</th>\n",
       "    </tr>\n",
       "  </thead>\n",
       "  <tbody>\n",
       "    <tr>\n",
       "      <th>0</th>\n",
       "      <td>1</td>\n",
       "      <td>0.016326</td>\n",
       "      <td>0.127772</td>\n",
       "      <td>0.097540</td>\n",
       "      <td>0.131841</td>\n",
       "      <td>0.172389</td>\n",
       "      <td>0.016326</td>\n",
       "      <td>95.733179</td>\n",
       "      <td>StackedEnsemble_BestOfFamily_1_AutoML_2_202206...</td>\n",
       "    </tr>\n",
       "    <tr>\n",
       "      <th>1</th>\n",
       "      <td>1</td>\n",
       "      <td>0.016318</td>\n",
       "      <td>0.127741</td>\n",
       "      <td>0.097535</td>\n",
       "      <td>0.131796</td>\n",
       "      <td>0.172781</td>\n",
       "      <td>0.016318</td>\n",
       "      <td>95.687828</td>\n",
       "      <td>StackedEnsemble_AllModels_1_AutoML_2_20220610_...</td>\n",
       "    </tr>\n",
       "    <tr>\n",
       "      <th>2</th>\n",
       "      <td>1</td>\n",
       "      <td>0.018101</td>\n",
       "      <td>0.134542</td>\n",
       "      <td>0.102573</td>\n",
       "      <td>0.138379</td>\n",
       "      <td>0.082364</td>\n",
       "      <td>0.018101</td>\n",
       "      <td>NaN</td>\n",
       "      <td>GBM_2_AutoML_2_20220610_174632</td>\n",
       "    </tr>\n",
       "    <tr>\n",
       "      <th>3</th>\n",
       "      <td>1</td>\n",
       "      <td>0.017791</td>\n",
       "      <td>0.133383</td>\n",
       "      <td>0.101758</td>\n",
       "      <td>0.137240</td>\n",
       "      <td>0.098103</td>\n",
       "      <td>0.017791</td>\n",
       "      <td>NaN</td>\n",
       "      <td>GBM_3_AutoML_2_20220610_174632</td>\n",
       "    </tr>\n",
       "    <tr>\n",
       "      <th>4</th>\n",
       "      <td>1</td>\n",
       "      <td>0.018833</td>\n",
       "      <td>0.137233</td>\n",
       "      <td>0.104765</td>\n",
       "      <td>0.140970</td>\n",
       "      <td>0.045285</td>\n",
       "      <td>0.018833</td>\n",
       "      <td>NaN</td>\n",
       "      <td>GBM_1_AutoML_2_20220610_174632</td>\n",
       "    </tr>\n",
       "    <tr>\n",
       "      <th>5</th>\n",
       "      <td>1</td>\n",
       "      <td>0.017275</td>\n",
       "      <td>0.131436</td>\n",
       "      <td>0.100264</td>\n",
       "      <td>0.135241</td>\n",
       "      <td>0.124242</td>\n",
       "      <td>0.017275</td>\n",
       "      <td>NaN</td>\n",
       "      <td>GBM_4_AutoML_2_20220610_174632</td>\n",
       "    </tr>\n",
       "    <tr>\n",
       "      <th>6</th>\n",
       "      <td>1</td>\n",
       "      <td>0.019651</td>\n",
       "      <td>0.140183</td>\n",
       "      <td>0.106703</td>\n",
       "      <td>0.143966</td>\n",
       "      <td>0.003798</td>\n",
       "      <td>0.019651</td>\n",
       "      <td>115.234799</td>\n",
       "      <td>GLM_1_AutoML_2_20220610_174632</td>\n",
       "    </tr>\n",
       "    <tr>\n",
       "      <th>7</th>\n",
       "      <td>1</td>\n",
       "      <td>0.005221</td>\n",
       "      <td>0.072260</td>\n",
       "      <td>0.055151</td>\n",
       "      <td>0.075619</td>\n",
       "      <td>0.735301</td>\n",
       "      <td>0.005221</td>\n",
       "      <td>NaN</td>\n",
       "      <td>XRT_1_AutoML_2_20220610_174632</td>\n",
       "    </tr>\n",
       "    <tr>\n",
       "      <th>8</th>\n",
       "      <td>1</td>\n",
       "      <td>0.005065</td>\n",
       "      <td>0.071172</td>\n",
       "      <td>0.053923</td>\n",
       "      <td>0.074434</td>\n",
       "      <td>0.743212</td>\n",
       "      <td>0.005065</td>\n",
       "      <td>NaN</td>\n",
       "      <td>DRF_1_AutoML_2_20220610_174632</td>\n",
       "    </tr>\n",
       "  </tbody>\n",
       "</table>\n",
       "</div>"
      ],
      "text/plain": [
       "   Unnamed: 0       MSE      RMSE       MAE     RMSLE       R^2  \\\n",
       "0           1  0.016326  0.127772  0.097540  0.131841  0.172389   \n",
       "1           1  0.016318  0.127741  0.097535  0.131796  0.172781   \n",
       "2           1  0.018101  0.134542  0.102573  0.138379  0.082364   \n",
       "3           1  0.017791  0.133383  0.101758  0.137240  0.098103   \n",
       "4           1  0.018833  0.137233  0.104765  0.140970  0.045285   \n",
       "5           1  0.017275  0.131436  0.100264  0.135241  0.124242   \n",
       "6           1  0.019651  0.140183  0.106703  0.143966  0.003798   \n",
       "7           1  0.005221  0.072260  0.055151  0.075619  0.735301   \n",
       "8           1  0.005065  0.071172  0.053923  0.074434  0.743212   \n",
       "\n",
       "   Mean Residual Deviance  Residual deviance  \\\n",
       "0                0.016326          95.733179   \n",
       "1                0.016318          95.687828   \n",
       "2                0.018101                NaN   \n",
       "3                0.017791                NaN   \n",
       "4                0.018833                NaN   \n",
       "5                0.017275                NaN   \n",
       "6                0.019651         115.234799   \n",
       "7                0.005221                NaN   \n",
       "8                0.005065                NaN   \n",
       "\n",
       "                                               model  \n",
       "0  StackedEnsemble_BestOfFamily_1_AutoML_2_202206...  \n",
       "1  StackedEnsemble_AllModels_1_AutoML_2_20220610_...  \n",
       "2                     GBM_2_AutoML_2_20220610_174632  \n",
       "3                     GBM_3_AutoML_2_20220610_174632  \n",
       "4                     GBM_1_AutoML_2_20220610_174632  \n",
       "5                     GBM_4_AutoML_2_20220610_174632  \n",
       "6                     GLM_1_AutoML_2_20220610_174632  \n",
       "7                     XRT_1_AutoML_2_20220610_174632  \n",
       "8                     DRF_1_AutoML_2_20220610_174632  "
      ]
     },
     "execution_count": 49,
     "metadata": {},
     "output_type": "execute_result"
    }
   ],
   "source": [
    "performance_train_3m"
   ]
  },
  {
   "cell_type": "code",
   "execution_count": 50,
   "metadata": {},
   "outputs": [],
   "source": [
    "performance_train_3m  = performance_train_3m.drop(['Residual deviance', 'Unnamed: 0'], axis=1)\n",
    "performance_test_3m = performance_test_3m.drop(['Residual deviance', 'Unnamed: 0'], axis=1)"
   ]
  },
  {
   "cell_type": "code",
   "execution_count": 51,
   "metadata": {},
   "outputs": [],
   "source": [
    "performance_train_3m_instyle = performance_train_3m.style.background_gradient(axis=0, gmap=benchmark_performance_train['R^2'], cmap='Blues')\n",
    "performance_test_3m_instyle = performance_test_3m.style.background_gradient(axis=0, gmap=benchmark_performance_train['R^2'], cmap='Blues')"
   ]
  },
  {
   "cell_type": "code",
   "execution_count": 52,
   "metadata": {},
   "outputs": [
    {
     "name": "stderr",
     "output_type": "stream",
     "text": [
      "c:\\Users\\Krzysztof\\AppData\\Local\\Programs\\Python\\Python310\\lib\\site-packages\\dataframe_image\\_pandas_accessor.py:69: FutureWarning: this method is deprecated in favour of `Styler.to_html()`\n",
      "  html = '<div>' + obj.render() + '</div>'\n"
     ]
    }
   ],
   "source": [
    "dfi.export(performance_train_3m_instyle,\"performance_train_3m_train.png\")\n",
    "dfi.export(performance_test_3m_instyle,\"performance_test_3m_train.png\")"
   ]
  },
  {
   "cell_type": "markdown",
   "metadata": {},
   "source": [
    "6M Results"
   ]
  },
  {
   "cell_type": "code",
   "execution_count": 55,
   "metadata": {},
   "outputs": [],
   "source": [
    "performance_train_6m = pd.read_csv('models_results_train_6m.csv')\n",
    "performance_test_6m = pd.read_csv('models_results_test_6m.csv')"
   ]
  },
  {
   "cell_type": "code",
   "execution_count": 56,
   "metadata": {},
   "outputs": [],
   "source": [
    "performance_train_6m_instyle = performance_train_6m.style.background_gradient(axis=0, gmap=benchmark_performance_train['R^2'], cmap='Blues')\n",
    "performance_test_6m_instyle = performance_test_6m.style.background_gradient(axis=0, gmap=benchmark_performance_train['R^2'], cmap='Blues')"
   ]
  },
  {
   "cell_type": "code",
   "execution_count": 57,
   "metadata": {},
   "outputs": [
    {
     "name": "stderr",
     "output_type": "stream",
     "text": [
      "c:\\Users\\Krzysztof\\AppData\\Local\\Programs\\Python\\Python310\\lib\\site-packages\\dataframe_image\\_pandas_accessor.py:69: FutureWarning: this method is deprecated in favour of `Styler.to_html()`\n",
      "  html = '<div>' + obj.render() + '</div>'\n"
     ]
    }
   ],
   "source": [
    "dfi.export(performance_train_6m_instyle,\"performance_train_6m_train.png\")\n",
    "dfi.export(performance_test_6m_instyle,\"performance_test_6m_train.png\")"
   ]
  },
  {
   "cell_type": "markdown",
   "metadata": {},
   "source": [
    "12M Results"
   ]
  },
  {
   "cell_type": "code",
   "execution_count": 58,
   "metadata": {},
   "outputs": [],
   "source": [
    "performance_train_12m = pd.read_csv('models_results_train_12m.csv')\n",
    "performance_test_12m = pd.read_csv('models_results_test_12m.csv')"
   ]
  },
  {
   "cell_type": "code",
   "execution_count": 59,
   "metadata": {},
   "outputs": [],
   "source": [
    "performance_train_12m_instyle = performance_train_12m.style.background_gradient(axis=0, gmap=benchmark_performance_train['R^2'], cmap='Blues')\n",
    "performance_test_12m_instyle = performance_test_12m.style.background_gradient(axis=0, gmap=benchmark_performance_train['R^2'], cmap='Blues')"
   ]
  },
  {
   "cell_type": "code",
   "execution_count": 60,
   "metadata": {},
   "outputs": [
    {
     "name": "stderr",
     "output_type": "stream",
     "text": [
      "c:\\Users\\Krzysztof\\AppData\\Local\\Programs\\Python\\Python310\\lib\\site-packages\\dataframe_image\\_pandas_accessor.py:69: FutureWarning: this method is deprecated in favour of `Styler.to_html()`\n",
      "  html = '<div>' + obj.render() + '</div>'\n"
     ]
    }
   ],
   "source": [
    "dfi.export(performance_train_6m_instyle,\"performance_train_12m_train.png\")\n",
    "dfi.export(performance_test_6m_instyle,\"performance_test_12m_train.png\")"
   ]
  }
 ],
 "metadata": {
  "interpreter": {
   "hash": "e1810f1b07ff6a9bd6e2ce811cb2206e3ea7393940b0ab24041e8daedbafedfc"
  },
  "kernelspec": {
   "display_name": "Python 3.10.4 64-bit",
   "language": "python",
   "name": "python3"
  },
  "language_info": {
   "codemirror_mode": {
    "name": "ipython",
    "version": 3
   },
   "file_extension": ".py",
   "mimetype": "text/x-python",
   "name": "python",
   "nbconvert_exporter": "python",
   "pygments_lexer": "ipython3",
   "version": "3.10.4"
  },
  "orig_nbformat": 4
 },
 "nbformat": 4,
 "nbformat_minor": 2
}
