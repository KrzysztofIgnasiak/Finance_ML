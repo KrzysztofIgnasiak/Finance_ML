{
 "cells": [
  {
   "cell_type": "code",
   "execution_count": 1,
   "metadata": {},
   "outputs": [],
   "source": [
    "import numpy as np\n",
    "import pandas as pd\n",
    "import plotly.graph_objects as go\n",
    "import dataframe_image as dfi"
   ]
  },
  {
   "cell_type": "markdown",
   "metadata": {},
   "source": [
    "Benchmark model results"
   ]
  },
  {
   "cell_type": "code",
   "execution_count": 2,
   "metadata": {},
   "outputs": [],
   "source": [
    "benchmark_performance_train = pd.read_csv('benchmark_performance_train.csv')"
   ]
  },
  {
   "cell_type": "code",
   "execution_count": 3,
   "metadata": {},
   "outputs": [],
   "source": [
    "benchmark_performance_test = pd.read_csv('benchmark_performance_test.csv')"
   ]
  },
  {
   "cell_type": "code",
   "execution_count": 12,
   "metadata": {},
   "outputs": [
    {
     "data": {
      "text/html": [
       "<div>\n",
       "<style scoped>\n",
       "    .dataframe tbody tr th:only-of-type {\n",
       "        vertical-align: middle;\n",
       "    }\n",
       "\n",
       "    .dataframe tbody tr th {\n",
       "        vertical-align: top;\n",
       "    }\n",
       "\n",
       "    .dataframe thead th {\n",
       "        text-align: right;\n",
       "    }\n",
       "</style>\n",
       "<table border=\"1\" class=\"dataframe\">\n",
       "  <thead>\n",
       "    <tr style=\"text-align: right;\">\n",
       "      <th></th>\n",
       "      <th>Unnamed: 0</th>\n",
       "      <th>MSE</th>\n",
       "      <th>RMSE</th>\n",
       "      <th>MAE</th>\n",
       "      <th>RMSLE</th>\n",
       "      <th>R^2</th>\n",
       "      <th>Mean Residual Deviance</th>\n",
       "      <th>Residual deviance</th>\n",
       "      <th>AIC</th>\n",
       "      <th>model</th>\n",
       "    </tr>\n",
       "  </thead>\n",
       "  <tbody>\n",
       "    <tr>\n",
       "      <th>0</th>\n",
       "      <td>1</td>\n",
       "      <td>0.0081</td>\n",
       "      <td>0.0902</td>\n",
       "      <td>0.0652</td>\n",
       "      <td>0.0976</td>\n",
       "      <td>0.0015</td>\n",
       "      <td>0.0081</td>\n",
       "      <td>47.6701</td>\n",
       "      <td>-11571.9137</td>\n",
       "      <td>Benchmark linear regression 1m train</td>\n",
       "    </tr>\n",
       "    <tr>\n",
       "      <th>1</th>\n",
       "      <td>1</td>\n",
       "      <td>0.0197</td>\n",
       "      <td>0.1402</td>\n",
       "      <td>0.1067</td>\n",
       "      <td>0.1440</td>\n",
       "      <td>0.0038</td>\n",
       "      <td>0.0197</td>\n",
       "      <td>115.2344</td>\n",
       "      <td>-6395.9739</td>\n",
       "      <td>Benchmark linear regression 3m train</td>\n",
       "    </tr>\n",
       "    <tr>\n",
       "      <th>2</th>\n",
       "      <td>1</td>\n",
       "      <td>0.0490</td>\n",
       "      <td>0.2213</td>\n",
       "      <td>0.1652</td>\n",
       "      <td>0.2118</td>\n",
       "      <td>0.0080</td>\n",
       "      <td>0.0490</td>\n",
       "      <td>287.0872</td>\n",
       "      <td>-1043.2117</td>\n",
       "      <td>Benchmark linear regression 6m train</td>\n",
       "    </tr>\n",
       "    <tr>\n",
       "      <th>3</th>\n",
       "      <td>1</td>\n",
       "      <td>0.1207</td>\n",
       "      <td>0.3474</td>\n",
       "      <td>0.2450</td>\n",
       "      <td>0.2888</td>\n",
       "      <td>0.0096</td>\n",
       "      <td>0.1207</td>\n",
       "      <td>707.5166</td>\n",
       "      <td>4245.9706</td>\n",
       "      <td>Benchmark linear regression 12m train</td>\n",
       "    </tr>\n",
       "  </tbody>\n",
       "</table>\n",
       "</div>"
      ],
      "text/plain": [
       "   Unnamed: 0     MSE    RMSE     MAE   RMSLE     R^2  Mean Residual Deviance  \\\n",
       "0           1  0.0081  0.0902  0.0652  0.0976  0.0015                  0.0081   \n",
       "1           1  0.0197  0.1402  0.1067  0.1440  0.0038                  0.0197   \n",
       "2           1  0.0490  0.2213  0.1652  0.2118  0.0080                  0.0490   \n",
       "3           1  0.1207  0.3474  0.2450  0.2888  0.0096                  0.1207   \n",
       "\n",
       "   Residual deviance         AIC                                  model  \n",
       "0            47.6701 -11571.9137   Benchmark linear regression 1m train  \n",
       "1           115.2344  -6395.9739   Benchmark linear regression 3m train  \n",
       "2           287.0872  -1043.2117   Benchmark linear regression 6m train  \n",
       "3           707.5166   4245.9706  Benchmark linear regression 12m train  "
      ]
     },
     "execution_count": 12,
     "metadata": {},
     "output_type": "execute_result"
    }
   ],
   "source": [
    "benchmark_performance_train"
   ]
  },
  {
   "cell_type": "code",
   "execution_count": 16,
   "metadata": {},
   "outputs": [],
   "source": [
    "benchmark_perfromance_train_instyle = benchmark_performance_train.style.background_gradient(axis=0, gmap=benchmark_performance_train['R^2'], cmap='Blues')"
   ]
  },
  {
   "cell_type": "code",
   "execution_count": 17,
   "metadata": {},
   "outputs": [
    {
     "data": {
      "text/html": [
       "<style type=\"text/css\">\n",
       "#T_d56dd_row0_col0, #T_d56dd_row0_col1, #T_d56dd_row0_col2, #T_d56dd_row0_col3, #T_d56dd_row0_col4, #T_d56dd_row0_col5, #T_d56dd_row0_col6, #T_d56dd_row0_col7, #T_d56dd_row0_col8, #T_d56dd_row0_col9 {\n",
       "  background-color: #f7fbff;\n",
       "  color: #000000;\n",
       "}\n",
       "#T_d56dd_row1_col0, #T_d56dd_row1_col1, #T_d56dd_row1_col2, #T_d56dd_row1_col3, #T_d56dd_row1_col4, #T_d56dd_row1_col5, #T_d56dd_row1_col6, #T_d56dd_row1_col7, #T_d56dd_row1_col8, #T_d56dd_row1_col9 {\n",
       "  background-color: #bcd7eb;\n",
       "  color: #000000;\n",
       "}\n",
       "#T_d56dd_row2_col0, #T_d56dd_row2_col1, #T_d56dd_row2_col2, #T_d56dd_row2_col3, #T_d56dd_row2_col4, #T_d56dd_row2_col5, #T_d56dd_row2_col6, #T_d56dd_row2_col7, #T_d56dd_row2_col8, #T_d56dd_row2_col9 {\n",
       "  background-color: #1663aa;\n",
       "  color: #f1f1f1;\n",
       "}\n",
       "#T_d56dd_row3_col0, #T_d56dd_row3_col1, #T_d56dd_row3_col2, #T_d56dd_row3_col3, #T_d56dd_row3_col4, #T_d56dd_row3_col5, #T_d56dd_row3_col6, #T_d56dd_row3_col7, #T_d56dd_row3_col8, #T_d56dd_row3_col9 {\n",
       "  background-color: #08306b;\n",
       "  color: #f1f1f1;\n",
       "}\n",
       "</style>\n",
       "<table id=\"T_d56dd\">\n",
       "  <thead>\n",
       "    <tr>\n",
       "      <th class=\"blank level0\" >&nbsp;</th>\n",
       "      <th id=\"T_d56dd_level0_col0\" class=\"col_heading level0 col0\" >Unnamed: 0</th>\n",
       "      <th id=\"T_d56dd_level0_col1\" class=\"col_heading level0 col1\" >MSE</th>\n",
       "      <th id=\"T_d56dd_level0_col2\" class=\"col_heading level0 col2\" >RMSE</th>\n",
       "      <th id=\"T_d56dd_level0_col3\" class=\"col_heading level0 col3\" >MAE</th>\n",
       "      <th id=\"T_d56dd_level0_col4\" class=\"col_heading level0 col4\" >RMSLE</th>\n",
       "      <th id=\"T_d56dd_level0_col5\" class=\"col_heading level0 col5\" >R^2</th>\n",
       "      <th id=\"T_d56dd_level0_col6\" class=\"col_heading level0 col6\" >Mean Residual Deviance</th>\n",
       "      <th id=\"T_d56dd_level0_col7\" class=\"col_heading level0 col7\" >Residual deviance</th>\n",
       "      <th id=\"T_d56dd_level0_col8\" class=\"col_heading level0 col8\" >AIC</th>\n",
       "      <th id=\"T_d56dd_level0_col9\" class=\"col_heading level0 col9\" >model</th>\n",
       "    </tr>\n",
       "  </thead>\n",
       "  <tbody>\n",
       "    <tr>\n",
       "      <th id=\"T_d56dd_level0_row0\" class=\"row_heading level0 row0\" >0</th>\n",
       "      <td id=\"T_d56dd_row0_col0\" class=\"data row0 col0\" >1</td>\n",
       "      <td id=\"T_d56dd_row0_col1\" class=\"data row0 col1\" >0.008129</td>\n",
       "      <td id=\"T_d56dd_row0_col2\" class=\"data row0 col2\" >0.090163</td>\n",
       "      <td id=\"T_d56dd_row0_col3\" class=\"data row0 col3\" >0.065222</td>\n",
       "      <td id=\"T_d56dd_row0_col4\" class=\"data row0 col4\" >0.097584</td>\n",
       "      <td id=\"T_d56dd_row0_col5\" class=\"data row0 col5\" >0.001513</td>\n",
       "      <td id=\"T_d56dd_row0_col6\" class=\"data row0 col6\" >0.008129</td>\n",
       "      <td id=\"T_d56dd_row0_col7\" class=\"data row0 col7\" >47.670116</td>\n",
       "      <td id=\"T_d56dd_row0_col8\" class=\"data row0 col8\" >-11571.913671</td>\n",
       "      <td id=\"T_d56dd_row0_col9\" class=\"data row0 col9\" >Benchmark linear regression 1m train</td>\n",
       "    </tr>\n",
       "    <tr>\n",
       "      <th id=\"T_d56dd_level0_row1\" class=\"row_heading level0 row1\" >1</th>\n",
       "      <td id=\"T_d56dd_row1_col0\" class=\"data row1 col0\" >1</td>\n",
       "      <td id=\"T_d56dd_row1_col1\" class=\"data row1 col1\" >0.019651</td>\n",
       "      <td id=\"T_d56dd_row1_col2\" class=\"data row1 col2\" >0.140183</td>\n",
       "      <td id=\"T_d56dd_row1_col3\" class=\"data row1 col3\" >0.106700</td>\n",
       "      <td id=\"T_d56dd_row1_col4\" class=\"data row1 col4\" >0.143964</td>\n",
       "      <td id=\"T_d56dd_row1_col5\" class=\"data row1 col5\" >0.003801</td>\n",
       "      <td id=\"T_d56dd_row1_col6\" class=\"data row1 col6\" >0.019651</td>\n",
       "      <td id=\"T_d56dd_row1_col7\" class=\"data row1 col7\" >115.234407</td>\n",
       "      <td id=\"T_d56dd_row1_col8\" class=\"data row1 col8\" >-6395.973929</td>\n",
       "      <td id=\"T_d56dd_row1_col9\" class=\"data row1 col9\" >Benchmark linear regression 3m train</td>\n",
       "    </tr>\n",
       "    <tr>\n",
       "      <th id=\"T_d56dd_level0_row2\" class=\"row_heading level0 row2\" >2</th>\n",
       "      <td id=\"T_d56dd_row2_col0\" class=\"data row2 col0\" >1</td>\n",
       "      <td id=\"T_d56dd_row2_col1\" class=\"data row2 col1\" >0.048958</td>\n",
       "      <td id=\"T_d56dd_row2_col2\" class=\"data row2 col2\" >0.221264</td>\n",
       "      <td id=\"T_d56dd_row2_col3\" class=\"data row2 col3\" >0.165151</td>\n",
       "      <td id=\"T_d56dd_row2_col4\" class=\"data row2 col4\" >0.211789</td>\n",
       "      <td id=\"T_d56dd_row2_col5\" class=\"data row2 col5\" >0.008019</td>\n",
       "      <td id=\"T_d56dd_row2_col6\" class=\"data row2 col6\" >0.048958</td>\n",
       "      <td id=\"T_d56dd_row2_col7\" class=\"data row2 col7\" >287.087181</td>\n",
       "      <td id=\"T_d56dd_row2_col8\" class=\"data row2 col8\" >-1043.211748</td>\n",
       "      <td id=\"T_d56dd_row2_col9\" class=\"data row2 col9\" >Benchmark linear regression 6m train</td>\n",
       "    </tr>\n",
       "    <tr>\n",
       "      <th id=\"T_d56dd_level0_row3\" class=\"row_heading level0 row3\" >3</th>\n",
       "      <td id=\"T_d56dd_row3_col0\" class=\"data row3 col0\" >1</td>\n",
       "      <td id=\"T_d56dd_row3_col1\" class=\"data row3 col1\" >0.120654</td>\n",
       "      <td id=\"T_d56dd_row3_col2\" class=\"data row3 col2\" >0.347353</td>\n",
       "      <td id=\"T_d56dd_row3_col3\" class=\"data row3 col3\" >0.244971</td>\n",
       "      <td id=\"T_d56dd_row3_col4\" class=\"data row3 col4\" >0.288756</td>\n",
       "      <td id=\"T_d56dd_row3_col5\" class=\"data row3 col5\" >0.009602</td>\n",
       "      <td id=\"T_d56dd_row3_col6\" class=\"data row3 col6\" >0.120654</td>\n",
       "      <td id=\"T_d56dd_row3_col7\" class=\"data row3 col7\" >707.516602</td>\n",
       "      <td id=\"T_d56dd_row3_col8\" class=\"data row3 col8\" >4245.970580</td>\n",
       "      <td id=\"T_d56dd_row3_col9\" class=\"data row3 col9\" >Benchmark linear regression 12m train</td>\n",
       "    </tr>\n",
       "  </tbody>\n",
       "</table>\n"
      ],
      "text/plain": [
       "<pandas.io.formats.style.Styler at 0x201939ea650>"
      ]
     },
     "execution_count": 17,
     "metadata": {},
     "output_type": "execute_result"
    }
   ],
   "source": [
    "benchmark_perfromance_train_instyle"
   ]
  },
  {
   "cell_type": "code",
   "execution_count": 18,
   "metadata": {},
   "outputs": [],
   "source": [
    "benchmark_perfromance_test_instyle = benchmark_performance_test.style.background_gradient(axis=0, gmap=benchmark_performance_train['R^2'], cmap='Blues')"
   ]
  },
  {
   "cell_type": "code",
   "execution_count": 19,
   "metadata": {},
   "outputs": [
    {
     "data": {
      "text/html": [
       "<style type=\"text/css\">\n",
       "#T_2b174_row0_col0, #T_2b174_row0_col1, #T_2b174_row0_col2, #T_2b174_row0_col3, #T_2b174_row0_col4, #T_2b174_row0_col5, #T_2b174_row0_col6, #T_2b174_row0_col7, #T_2b174_row0_col8, #T_2b174_row0_col9 {\n",
       "  background-color: #f7fbff;\n",
       "  color: #000000;\n",
       "}\n",
       "#T_2b174_row1_col0, #T_2b174_row1_col1, #T_2b174_row1_col2, #T_2b174_row1_col3, #T_2b174_row1_col4, #T_2b174_row1_col5, #T_2b174_row1_col6, #T_2b174_row1_col7, #T_2b174_row1_col8, #T_2b174_row1_col9 {\n",
       "  background-color: #bcd7eb;\n",
       "  color: #000000;\n",
       "}\n",
       "#T_2b174_row2_col0, #T_2b174_row2_col1, #T_2b174_row2_col2, #T_2b174_row2_col3, #T_2b174_row2_col4, #T_2b174_row2_col5, #T_2b174_row2_col6, #T_2b174_row2_col7, #T_2b174_row2_col8, #T_2b174_row2_col9 {\n",
       "  background-color: #1663aa;\n",
       "  color: #f1f1f1;\n",
       "}\n",
       "#T_2b174_row3_col0, #T_2b174_row3_col1, #T_2b174_row3_col2, #T_2b174_row3_col3, #T_2b174_row3_col4, #T_2b174_row3_col5, #T_2b174_row3_col6, #T_2b174_row3_col7, #T_2b174_row3_col8, #T_2b174_row3_col9 {\n",
       "  background-color: #08306b;\n",
       "  color: #f1f1f1;\n",
       "}\n",
       "</style>\n",
       "<table id=\"T_2b174\">\n",
       "  <thead>\n",
       "    <tr>\n",
       "      <th class=\"blank level0\" >&nbsp;</th>\n",
       "      <th id=\"T_2b174_level0_col0\" class=\"col_heading level0 col0\" >Unnamed: 0</th>\n",
       "      <th id=\"T_2b174_level0_col1\" class=\"col_heading level0 col1\" >MSE</th>\n",
       "      <th id=\"T_2b174_level0_col2\" class=\"col_heading level0 col2\" >RMSE</th>\n",
       "      <th id=\"T_2b174_level0_col3\" class=\"col_heading level0 col3\" >MAE</th>\n",
       "      <th id=\"T_2b174_level0_col4\" class=\"col_heading level0 col4\" >RMSLE</th>\n",
       "      <th id=\"T_2b174_level0_col5\" class=\"col_heading level0 col5\" >R^2</th>\n",
       "      <th id=\"T_2b174_level0_col6\" class=\"col_heading level0 col6\" >Mean Residual Deviance</th>\n",
       "      <th id=\"T_2b174_level0_col7\" class=\"col_heading level0 col7\" >Residual deviance</th>\n",
       "      <th id=\"T_2b174_level0_col8\" class=\"col_heading level0 col8\" >AIC</th>\n",
       "      <th id=\"T_2b174_level0_col9\" class=\"col_heading level0 col9\" >model</th>\n",
       "    </tr>\n",
       "  </thead>\n",
       "  <tbody>\n",
       "    <tr>\n",
       "      <th id=\"T_2b174_level0_row0\" class=\"row_heading level0 row0\" >0</th>\n",
       "      <td id=\"T_2b174_row0_col0\" class=\"data row0 col0\" >1</td>\n",
       "      <td id=\"T_2b174_row0_col1\" class=\"data row0 col1\" >0.008385</td>\n",
       "      <td id=\"T_2b174_row0_col2\" class=\"data row0 col2\" >0.091569</td>\n",
       "      <td id=\"T_2b174_row0_col3\" class=\"data row0 col3\" >0.067875</td>\n",
       "      <td id=\"T_2b174_row0_col4\" class=\"data row0 col4\" >0.096225</td>\n",
       "      <td id=\"T_2b174_row0_col5\" class=\"data row0 col5\" >-0.082290</td>\n",
       "      <td id=\"T_2b174_row0_col6\" class=\"data row0 col6\" >0.008385</td>\n",
       "      <td id=\"T_2b174_row0_col7\" class=\"data row0 col7\" >19.645671</td>\n",
       "      <td id=\"T_2b174_row0_col8\" class=\"data row0 col8\" >-4547.511283</td>\n",
       "      <td id=\"T_2b174_row0_col9\" class=\"data row0 col9\" >Benchmark linear regression 1m test</td>\n",
       "    </tr>\n",
       "    <tr>\n",
       "      <th id=\"T_2b174_level0_row1\" class=\"row_heading level0 row1\" >1</th>\n",
       "      <td id=\"T_2b174_row1_col0\" class=\"data row1 col0\" >1</td>\n",
       "      <td id=\"T_2b174_row1_col1\" class=\"data row1 col1\" >0.023115</td>\n",
       "      <td id=\"T_2b174_row1_col2\" class=\"data row1 col2\" >0.152035</td>\n",
       "      <td id=\"T_2b174_row1_col3\" class=\"data row1 col3\" >0.110979</td>\n",
       "      <td id=\"T_2b174_row1_col4\" class=\"data row1 col4\" >0.149934</td>\n",
       "      <td id=\"T_2b174_row1_col5\" class=\"data row1 col5\" >-0.003807</td>\n",
       "      <td id=\"T_2b174_row1_col6\" class=\"data row1 col6\" >0.023115</td>\n",
       "      <td id=\"T_2b174_row1_col7\" class=\"data row1 col7\" >54.157831</td>\n",
       "      <td id=\"T_2b174_row1_col8\" class=\"data row1 col8\" >-2171.602445</td>\n",
       "      <td id=\"T_2b174_row1_col9\" class=\"data row1 col9\" >Benchmark linear regression 3m test</td>\n",
       "    </tr>\n",
       "    <tr>\n",
       "      <th id=\"T_2b174_level0_row2\" class=\"row_heading level0 row2\" >2</th>\n",
       "      <td id=\"T_2b174_row2_col0\" class=\"data row2 col0\" >1</td>\n",
       "      <td id=\"T_2b174_row2_col1\" class=\"data row2 col1\" >0.057266</td>\n",
       "      <td id=\"T_2b174_row2_col2\" class=\"data row2 col2\" >0.239304</td>\n",
       "      <td id=\"T_2b174_row2_col3\" class=\"data row2 col3\" >0.171791</td>\n",
       "      <td id=\"T_2b174_row2_col4\" class=\"data row2 col4\" >0.204001</td>\n",
       "      <td id=\"T_2b174_row2_col5\" class=\"data row2 col5\" >-0.113019</td>\n",
       "      <td id=\"T_2b174_row2_col6\" class=\"data row2 col6\" >0.057266</td>\n",
       "      <td id=\"T_2b174_row2_col7\" class=\"data row2 col7\" >134.175165</td>\n",
       "      <td id=\"T_2b174_row2_col8\" class=\"data row2 col8\" >-45.930784</td>\n",
       "      <td id=\"T_2b174_row2_col9\" class=\"data row2 col9\" >Benchmark linear regression 6m test</td>\n",
       "    </tr>\n",
       "    <tr>\n",
       "      <th id=\"T_2b174_level0_row3\" class=\"row_heading level0 row3\" >3</th>\n",
       "      <td id=\"T_2b174_row3_col0\" class=\"data row3 col0\" >1</td>\n",
       "      <td id=\"T_2b174_row3_col1\" class=\"data row3 col1\" >0.135841</td>\n",
       "      <td id=\"T_2b174_row3_col2\" class=\"data row3 col2\" >0.368566</td>\n",
       "      <td id=\"T_2b174_row3_col3\" class=\"data row3 col3\" >0.260128</td>\n",
       "      <td id=\"T_2b174_row3_col4\" class=\"data row3 col4\" >0.297425</td>\n",
       "      <td id=\"T_2b174_row3_col5\" class=\"data row3 col5\" >0.009684</td>\n",
       "      <td id=\"T_2b174_row3_col6\" class=\"data row3 col6\" >0.135841</td>\n",
       "      <td id=\"T_2b174_row3_col7\" class=\"data row3 col7\" >318.275929</td>\n",
       "      <td id=\"T_2b174_row3_col8\" class=\"data row3 col8\" >1977.888330</td>\n",
       "      <td id=\"T_2b174_row3_col9\" class=\"data row3 col9\" >Benchmark linear regression 12m test</td>\n",
       "    </tr>\n",
       "  </tbody>\n",
       "</table>\n"
      ],
      "text/plain": [
       "<pandas.io.formats.style.Styler at 0x201866c3fd0>"
      ]
     },
     "execution_count": 19,
     "metadata": {},
     "output_type": "execute_result"
    }
   ],
   "source": [
    "benchmark_perfromance_test_instyle"
   ]
  },
  {
   "cell_type": "code",
   "execution_count": 20,
   "metadata": {},
   "outputs": [
    {
     "name": "stderr",
     "output_type": "stream",
     "text": [
      "c:\\Users\\Krzysztof\\AppData\\Local\\Programs\\Python\\Python310\\lib\\site-packages\\dataframe_image\\_pandas_accessor.py:69: FutureWarning: this method is deprecated in favour of `Styler.to_html()`\n",
      "  html = '<div>' + obj.render() + '</div>'\n"
     ]
    }
   ],
   "source": [
    "dfi.export(benchmark_perfromance_train_instyle,\"benchmark_perfromance_train.png\")"
   ]
  },
  {
   "cell_type": "code",
   "execution_count": 23,
   "metadata": {},
   "outputs": [
    {
     "name": "stderr",
     "output_type": "stream",
     "text": [
      "c:\\Users\\Krzysztof\\AppData\\Local\\Programs\\Python\\Python310\\lib\\site-packages\\dataframe_image\\_pandas_accessor.py:69: FutureWarning: this method is deprecated in favour of `Styler.to_html()`\n",
      "  html = '<div>' + obj.render() + '</div>'\n"
     ]
    }
   ],
   "source": [
    "dfi.export(benchmark_perfromance_test_instyle,\"benchmark_perfromance_test.png\")"
   ]
  }
 ],
 "metadata": {
  "interpreter": {
   "hash": "e1810f1b07ff6a9bd6e2ce811cb2206e3ea7393940b0ab24041e8daedbafedfc"
  },
  "kernelspec": {
   "display_name": "Python 3.10.4 64-bit",
   "language": "python",
   "name": "python3"
  },
  "language_info": {
   "codemirror_mode": {
    "name": "ipython",
    "version": 3
   },
   "file_extension": ".py",
   "mimetype": "text/x-python",
   "name": "python",
   "nbconvert_exporter": "python",
   "pygments_lexer": "ipython3",
   "version": "3.10.4"
  },
  "orig_nbformat": 4
 },
 "nbformat": 4,
 "nbformat_minor": 2
}
