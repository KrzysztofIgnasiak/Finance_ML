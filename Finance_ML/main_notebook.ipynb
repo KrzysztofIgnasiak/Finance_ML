{
 "cells": [
  {
   "cell_type": "code",
   "execution_count": 5,
   "metadata": {},
   "outputs": [],
   "source": [
    "import matplotlib as mpl\n",
    "import matplotlib.pyplot as plt\n",
    "import seaborn as sns\n",
    "import numpy as np\n",
    "import pandas as pd\n",
    "import re"
   ]
  },
  {
   "cell_type": "code",
   "execution_count": 2,
   "metadata": {},
   "outputs": [],
   "source": [
    "df = pd.read_csv('Assets\\CONVICTIONSUMMARY_270_opt3_best2(1).csv', sep='|')"
   ]
  },
  {
   "cell_type": "code",
   "execution_count": 16,
   "metadata": {},
   "outputs": [],
   "source": [
    "df2 = pd.DataFrame()\n",
    "df2 = df.loc[df['TYPE'] == 'MERGED']"
   ]
  },
  {
   "cell_type": "markdown",
   "metadata": {},
   "source": [
    "Extract Time and Date"
   ]
  },
  {
   "cell_type": "code",
   "execution_count": null,
   "metadata": {},
   "outputs": [],
   "source": [
    "df2[\"Time\"] = df2.apply(lambda row: re.split(\" \",row.DATE)[0], axis=1)\n",
    "\n",
    "df2[\"DATE\"] = df2.apply(lambda row: re.split(\" \",row.DATE)[-1],axis=1)"
   ]
  },
  {
   "cell_type": "code",
   "execution_count": 18,
   "metadata": {},
   "outputs": [
    {
     "data": {
      "text/plain": [
       "DATE             object\n",
       "ID               object\n",
       "STOCK            object\n",
       "SECTOR           object\n",
       "TYPE             object\n",
       "CONVICTIONS     float64\n",
       "Time             object\n",
       "dtype: object"
      ]
     },
     "execution_count": 18,
     "metadata": {},
     "output_type": "execute_result"
    }
   ],
   "source": [
    "df2.dtypes"
   ]
  },
  {
   "cell_type": "code",
   "execution_count": 19,
   "metadata": {},
   "outputs": [
    {
     "name": "stderr",
     "output_type": "stream",
     "text": [
      "<ipython-input-19-3660468bee21>:1: SettingWithCopyWarning: \n",
      "A value is trying to be set on a copy of a slice from a DataFrame.\n",
      "Try using .loc[row_indexer,col_indexer] = value instead\n",
      "\n",
      "See the caveats in the documentation: https://pandas.pydata.org/pandas-docs/stable/user_guide/indexing.html#returning-a-view-versus-a-copy\n",
      "  df2['DATE'] = pd.to_datetime(\n"
     ]
    }
   ],
   "source": [
    "df2['DATE'] = pd.to_datetime(\n",
    "                          df2['DATE'],\n",
    "                          format='%Y-%m-%d')"
   ]
  },
  {
   "cell_type": "code",
   "execution_count": 41,
   "metadata": {},
   "outputs": [],
   "source": [
    "df2 = df2.sort_values(by=\"DATE\")"
   ]
  },
  {
   "cell_type": "markdown",
   "metadata": {},
   "source": [
    "## Adding returns"
   ]
  },
  {
   "cell_type": "code",
   "execution_count": 22,
   "metadata": {},
   "outputs": [],
   "source": [
    "list_of_companies = df2[\"STOCK\"].unique()"
   ]
  },
  {
   "cell_type": "code",
   "execution_count": 23,
   "metadata": {},
   "outputs": [
    {
     "name": "stdout",
     "output_type": "stream",
     "text": [
      "['SU' 'GGG' 'WGR' ... 'GBX' 'OVTI' 'SNCAF']\n"
     ]
    }
   ],
   "source": [
    "print(list_of_companies)"
   ]
  },
  {
   "cell_type": "code",
   "execution_count": 55,
   "metadata": {},
   "outputs": [],
   "source": [
    "start_date = df2.DATE.min()\n",
    "end_date = df2.DATE.max()"
   ]
  },
  {
   "cell_type": "code",
   "execution_count": 53,
   "metadata": {},
   "outputs": [
    {
     "name": "stdout",
     "output_type": "stream",
     "text": [
      "2004-08-11 00:00:00\n"
     ]
    }
   ],
   "source": [
    "start_date = start_date + pd.DateOffset(months=6)\n",
    "print(start_date)"
   ]
  },
  {
   "cell_type": "code",
   "execution_count": 59,
   "metadata": {},
   "outputs": [
    {
     "data": {
      "text/html": [
       "<div>\n",
       "<style scoped>\n",
       "    .dataframe tbody tr th:only-of-type {\n",
       "        vertical-align: middle;\n",
       "    }\n",
       "\n",
       "    .dataframe tbody tr th {\n",
       "        vertical-align: top;\n",
       "    }\n",
       "\n",
       "    .dataframe thead th {\n",
       "        text-align: right;\n",
       "    }\n",
       "</style>\n",
       "<table border=\"1\" class=\"dataframe\">\n",
       "  <thead>\n",
       "    <tr style=\"text-align: right;\">\n",
       "      <th></th>\n",
       "      <th>Open</th>\n",
       "      <th>High</th>\n",
       "      <th>Low</th>\n",
       "      <th>Close</th>\n",
       "      <th>Volume</th>\n",
       "      <th>Dividends</th>\n",
       "      <th>Stock Splits</th>\n",
       "      <th>STOCK</th>\n",
       "    </tr>\n",
       "    <tr>\n",
       "      <th>Date</th>\n",
       "      <th></th>\n",
       "      <th></th>\n",
       "      <th></th>\n",
       "      <th></th>\n",
       "      <th></th>\n",
       "      <th></th>\n",
       "      <th></th>\n",
       "      <th></th>\n",
       "    </tr>\n",
       "  </thead>\n",
       "  <tbody>\n",
       "    <tr>\n",
       "      <th>2004-02-10</th>\n",
       "      <td>8.120848</td>\n",
       "      <td>8.370671</td>\n",
       "      <td>8.108198</td>\n",
       "      <td>8.332724</td>\n",
       "      <td>1641400</td>\n",
       "      <td>0.0</td>\n",
       "      <td>0</td>\n",
       "      <td>SU</td>\n",
       "    </tr>\n",
       "    <tr>\n",
       "      <th>2004-02-11</th>\n",
       "      <td>8.411782</td>\n",
       "      <td>8.452892</td>\n",
       "      <td>8.304263</td>\n",
       "      <td>8.402295</td>\n",
       "      <td>1280800</td>\n",
       "      <td>0.0</td>\n",
       "      <td>0</td>\n",
       "      <td>SU</td>\n",
       "    </tr>\n",
       "    <tr>\n",
       "      <th>2004-02-12</th>\n",
       "      <td>8.383321</td>\n",
       "      <td>8.383321</td>\n",
       "      <td>8.187257</td>\n",
       "      <td>8.196744</td>\n",
       "      <td>950400</td>\n",
       "      <td>0.0</td>\n",
       "      <td>0</td>\n",
       "      <td>SU</td>\n",
       "    </tr>\n",
       "    <tr>\n",
       "      <th>2004-02-13</th>\n",
       "      <td>8.301100</td>\n",
       "      <td>8.405457</td>\n",
       "      <td>8.073413</td>\n",
       "      <td>8.114523</td>\n",
       "      <td>1313400</td>\n",
       "      <td>0.0</td>\n",
       "      <td>0</td>\n",
       "      <td>SU</td>\n",
       "    </tr>\n",
       "    <tr>\n",
       "      <th>2004-02-17</th>\n",
       "      <td>8.285291</td>\n",
       "      <td>8.291615</td>\n",
       "      <td>8.149311</td>\n",
       "      <td>8.212557</td>\n",
       "      <td>1207000</td>\n",
       "      <td>0.0</td>\n",
       "      <td>0</td>\n",
       "      <td>SU</td>\n",
       "    </tr>\n",
       "    <tr>\n",
       "      <th>...</th>\n",
       "      <td>...</td>\n",
       "      <td>...</td>\n",
       "      <td>...</td>\n",
       "      <td>...</td>\n",
       "      <td>...</td>\n",
       "      <td>...</td>\n",
       "      <td>...</td>\n",
       "      <td>...</td>\n",
       "    </tr>\n",
       "    <tr>\n",
       "      <th>2004-07-07</th>\n",
       "      <td>7.921155</td>\n",
       "      <td>8.247898</td>\n",
       "      <td>7.898949</td>\n",
       "      <td>8.181281</td>\n",
       "      <td>2736200</td>\n",
       "      <td>0.0</td>\n",
       "      <td>0</td>\n",
       "      <td>SU</td>\n",
       "    </tr>\n",
       "    <tr>\n",
       "      <th>2004-07-08</th>\n",
       "      <td>8.216178</td>\n",
       "      <td>8.225695</td>\n",
       "      <td>8.108321</td>\n",
       "      <td>8.209833</td>\n",
       "      <td>1169400</td>\n",
       "      <td>0.0</td>\n",
       "      <td>0</td>\n",
       "      <td>SU</td>\n",
       "    </tr>\n",
       "    <tr>\n",
       "      <th>2004-07-09</th>\n",
       "      <td>8.216176</td>\n",
       "      <td>8.396995</td>\n",
       "      <td>8.184453</td>\n",
       "      <td>8.381134</td>\n",
       "      <td>1180000</td>\n",
       "      <td>0.0</td>\n",
       "      <td>0</td>\n",
       "      <td>SU</td>\n",
       "    </tr>\n",
       "    <tr>\n",
       "      <th>2004-07-12</th>\n",
       "      <td>8.349416</td>\n",
       "      <td>8.352588</td>\n",
       "      <td>8.238386</td>\n",
       "      <td>8.276454</td>\n",
       "      <td>1076400</td>\n",
       "      <td>0.0</td>\n",
       "      <td>0</td>\n",
       "      <td>SU</td>\n",
       "    </tr>\n",
       "    <tr>\n",
       "      <th>2004-07-13</th>\n",
       "      <td>8.203487</td>\n",
       "      <td>8.206660</td>\n",
       "      <td>8.105146</td>\n",
       "      <td>8.171764</td>\n",
       "      <td>1062400</td>\n",
       "      <td>0.0</td>\n",
       "      <td>0</td>\n",
       "      <td>SU</td>\n",
       "    </tr>\n",
       "  </tbody>\n",
       "</table>\n",
       "<p>106 rows × 8 columns</p>\n",
       "</div>"
      ],
      "text/plain": [
       "                Open      High       Low     Close   Volume  Dividends  \\\n",
       "Date                                                                     \n",
       "2004-02-10  8.120848  8.370671  8.108198  8.332724  1641400        0.0   \n",
       "2004-02-11  8.411782  8.452892  8.304263  8.402295  1280800        0.0   \n",
       "2004-02-12  8.383321  8.383321  8.187257  8.196744   950400        0.0   \n",
       "2004-02-13  8.301100  8.405457  8.073413  8.114523  1313400        0.0   \n",
       "2004-02-17  8.285291  8.291615  8.149311  8.212557  1207000        0.0   \n",
       "...              ...       ...       ...       ...      ...        ...   \n",
       "2004-07-07  7.921155  8.247898  7.898949  8.181281  2736200        0.0   \n",
       "2004-07-08  8.216178  8.225695  8.108321  8.209833  1169400        0.0   \n",
       "2004-07-09  8.216176  8.396995  8.184453  8.381134  1180000        0.0   \n",
       "2004-07-12  8.349416  8.352588  8.238386  8.276454  1076400        0.0   \n",
       "2004-07-13  8.203487  8.206660  8.105146  8.171764  1062400        0.0   \n",
       "\n",
       "            Stock Splits STOCK  \n",
       "Date                            \n",
       "2004-02-10             0    SU  \n",
       "2004-02-11             0    SU  \n",
       "2004-02-12             0    SU  \n",
       "2004-02-13             0    SU  \n",
       "2004-02-17             0    SU  \n",
       "...                  ...   ...  \n",
       "2004-07-07             0    SU  \n",
       "2004-07-08             0    SU  \n",
       "2004-07-09             0    SU  \n",
       "2004-07-12             0    SU  \n",
       "2004-07-13             0    SU  \n",
       "\n",
       "[106 rows x 8 columns]"
      ]
     },
     "execution_count": 59,
     "metadata": {},
     "output_type": "execute_result"
    }
   ],
   "source": [
    "import yfinance as yf\n",
    "\n",
    "#define the ticker symbol\n",
    "tickerSymbol = 'SU'\n",
    "\n",
    "#get data on this ticker\n",
    "tickerData = yf.Ticker(tickerSymbol)\n",
    "\n",
    "#get the historical prices for this ticker\n",
    "tickerDf = tickerData.history(period='1m', start=start_date, end=end_date)\n",
    "\n",
    "#see your data\n",
    "tickerDf[\"STOCK\"] = tickerSymbol\n",
    "tickerDf"
   ]
  },
  {
   "cell_type": "code",
   "execution_count": 61,
   "metadata": {},
   "outputs": [],
   "source": [
    "new_df = pd.merge(df2, tickerDf,  how='left', left_on=['STOCK','DATE'], right_on = ['STOCK','Date'])"
   ]
  }
 ],
 "metadata": {
  "interpreter": {
   "hash": "62b4da82ab8eed337ff08ff647fa9458abd70eb477e91c298b2b408b176a3f70"
  },
  "kernelspec": {
   "display_name": "Python 3.8.5 32-bit",
   "language": "python",
   "name": "python3"
  },
  "language_info": {
   "codemirror_mode": {
    "name": "ipython",
    "version": 3
   },
   "file_extension": ".py",
   "mimetype": "text/x-python",
   "name": "python",
   "nbconvert_exporter": "python",
   "pygments_lexer": "ipython3",
   "version": "3.8.5"
  },
  "orig_nbformat": 4
 },
 "nbformat": 4,
 "nbformat_minor": 2
}
