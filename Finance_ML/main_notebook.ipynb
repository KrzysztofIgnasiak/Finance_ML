{
 "cells": [
  {
   "cell_type": "code",
   "execution_count": 158,
   "metadata": {},
   "outputs": [],
   "source": [
    "import matplotlib as mpl\n",
    "import matplotlib.pyplot as plt\n",
    "import seaborn as sns\n",
    "import numpy as np\n",
    "import pandas as pd\n",
    "import re\n",
    "import yfinance as yf"
   ]
  },
  {
   "cell_type": "code",
   "execution_count": 2,
   "metadata": {},
   "outputs": [],
   "source": [
    "df = pd.read_csv('Assets\\CONVICTIONSUMMARY_270_opt3_best2(1).csv', sep='|')"
   ]
  },
  {
   "cell_type": "code",
   "execution_count": 16,
   "metadata": {},
   "outputs": [],
   "source": [
    "df2 = pd.DataFrame()\n",
    "df2 = df.loc[df['TYPE'] == 'MERGED']"
   ]
  },
  {
   "cell_type": "markdown",
   "metadata": {},
   "source": [
    "Extract Time and Date"
   ]
  },
  {
   "cell_type": "code",
   "execution_count": null,
   "metadata": {},
   "outputs": [],
   "source": [
    "df2[\"Time\"] = df2.apply(lambda row: re.split(\" \",row.DATE)[0], axis=1)\n",
    "\n",
    "df2[\"DATE\"] = df2.apply(lambda row: re.split(\" \",row.DATE)[-1],axis=1)"
   ]
  },
  {
   "cell_type": "code",
   "execution_count": 18,
   "metadata": {},
   "outputs": [
    {
     "data": {
      "text/plain": [
       "DATE             object\n",
       "ID               object\n",
       "STOCK            object\n",
       "SECTOR           object\n",
       "TYPE             object\n",
       "CONVICTIONS     float64\n",
       "Time             object\n",
       "dtype: object"
      ]
     },
     "execution_count": 18,
     "metadata": {},
     "output_type": "execute_result"
    }
   ],
   "source": [
    "df2.dtypes"
   ]
  },
  {
   "cell_type": "code",
   "execution_count": 19,
   "metadata": {},
   "outputs": [
    {
     "name": "stderr",
     "output_type": "stream",
     "text": [
      "<ipython-input-19-3660468bee21>:1: SettingWithCopyWarning: \n",
      "A value is trying to be set on a copy of a slice from a DataFrame.\n",
      "Try using .loc[row_indexer,col_indexer] = value instead\n",
      "\n",
      "See the caveats in the documentation: https://pandas.pydata.org/pandas-docs/stable/user_guide/indexing.html#returning-a-view-versus-a-copy\n",
      "  df2['DATE'] = pd.to_datetime(\n"
     ]
    }
   ],
   "source": [
    "df2['DATE'] = pd.to_datetime(\n",
    "                          df2['DATE'],\n",
    "                          format='%Y-%m-%d')"
   ]
  },
  {
   "cell_type": "code",
   "execution_count": 41,
   "metadata": {},
   "outputs": [],
   "source": [
    "df2 = df2.sort_values(by=\"DATE\")"
   ]
  },
  {
   "cell_type": "markdown",
   "metadata": {},
   "source": [
    "## Adding returns"
   ]
  },
  {
   "cell_type": "code",
   "execution_count": 22,
   "metadata": {},
   "outputs": [],
   "source": [
    "list_of_companies = df2[\"STOCK\"].unique()"
   ]
  },
  {
   "cell_type": "code",
   "execution_count": 23,
   "metadata": {},
   "outputs": [
    {
     "name": "stdout",
     "output_type": "stream",
     "text": [
      "['SU' 'GGG' 'WGR' ... 'GBX' 'OVTI' 'SNCAF']\n"
     ]
    }
   ],
   "source": [
    "print(list_of_companies)"
   ]
  },
  {
   "cell_type": "code",
   "execution_count": 146,
   "metadata": {},
   "outputs": [],
   "source": [
    "start_date = df2.DATE.min()\n",
    "end_date = df2.DATE.max()"
   ]
  },
  {
   "cell_type": "code",
   "execution_count": 147,
   "metadata": {},
   "outputs": [
    {
     "name": "stdout",
     "output_type": "stream",
     "text": [
      "2005-07-14 00:00:00\n"
     ]
    }
   ],
   "source": [
    "final_date = end_date + pd.DateOffset(months=12)\n",
    "print(final_date)"
   ]
  },
  {
   "cell_type": "code",
   "execution_count": 153,
   "metadata": {},
   "outputs": [
    {
     "data": {
      "text/html": [
       "<div>\n",
       "<style scoped>\n",
       "    .dataframe tbody tr th:only-of-type {\n",
       "        vertical-align: middle;\n",
       "    }\n",
       "\n",
       "    .dataframe tbody tr th {\n",
       "        vertical-align: top;\n",
       "    }\n",
       "\n",
       "    .dataframe thead th {\n",
       "        text-align: right;\n",
       "    }\n",
       "</style>\n",
       "<table border=\"1\" class=\"dataframe\">\n",
       "  <thead>\n",
       "    <tr style=\"text-align: right;\">\n",
       "      <th></th>\n",
       "      <th>Open</th>\n",
       "      <th>High</th>\n",
       "      <th>Low</th>\n",
       "      <th>Close</th>\n",
       "      <th>Volume</th>\n",
       "      <th>Dividends</th>\n",
       "      <th>Stock Splits</th>\n",
       "      <th>STOCK</th>\n",
       "    </tr>\n",
       "    <tr>\n",
       "      <th>Date</th>\n",
       "      <th></th>\n",
       "      <th></th>\n",
       "      <th></th>\n",
       "      <th></th>\n",
       "      <th></th>\n",
       "      <th></th>\n",
       "      <th></th>\n",
       "      <th></th>\n",
       "    </tr>\n",
       "  </thead>\n",
       "  <tbody>\n",
       "    <tr>\n",
       "      <th>2004-02-10</th>\n",
       "      <td>8.120848</td>\n",
       "      <td>8.370671</td>\n",
       "      <td>8.108198</td>\n",
       "      <td>8.332724</td>\n",
       "      <td>1641400</td>\n",
       "      <td>0.0</td>\n",
       "      <td>0</td>\n",
       "      <td>SU</td>\n",
       "    </tr>\n",
       "    <tr>\n",
       "      <th>2004-02-11</th>\n",
       "      <td>8.411781</td>\n",
       "      <td>8.452891</td>\n",
       "      <td>8.304262</td>\n",
       "      <td>8.402294</td>\n",
       "      <td>1280800</td>\n",
       "      <td>0.0</td>\n",
       "      <td>0</td>\n",
       "      <td>SU</td>\n",
       "    </tr>\n",
       "    <tr>\n",
       "      <th>2004-02-12</th>\n",
       "      <td>8.383319</td>\n",
       "      <td>8.383319</td>\n",
       "      <td>8.187255</td>\n",
       "      <td>8.196742</td>\n",
       "      <td>950400</td>\n",
       "      <td>0.0</td>\n",
       "      <td>0</td>\n",
       "      <td>SU</td>\n",
       "    </tr>\n",
       "    <tr>\n",
       "      <th>2004-02-13</th>\n",
       "      <td>8.301099</td>\n",
       "      <td>8.405456</td>\n",
       "      <td>8.073412</td>\n",
       "      <td>8.114522</td>\n",
       "      <td>1313400</td>\n",
       "      <td>0.0</td>\n",
       "      <td>0</td>\n",
       "      <td>SU</td>\n",
       "    </tr>\n",
       "    <tr>\n",
       "      <th>2004-02-17</th>\n",
       "      <td>8.285290</td>\n",
       "      <td>8.291614</td>\n",
       "      <td>8.149310</td>\n",
       "      <td>8.212556</td>\n",
       "      <td>1207000</td>\n",
       "      <td>0.0</td>\n",
       "      <td>0</td>\n",
       "      <td>SU</td>\n",
       "    </tr>\n",
       "    <tr>\n",
       "      <th>...</th>\n",
       "      <td>...</td>\n",
       "      <td>...</td>\n",
       "      <td>...</td>\n",
       "      <td>...</td>\n",
       "      <td>...</td>\n",
       "      <td>...</td>\n",
       "      <td>...</td>\n",
       "      <td>...</td>\n",
       "    </tr>\n",
       "    <tr>\n",
       "      <th>2005-07-07</th>\n",
       "      <td>15.939996</td>\n",
       "      <td>16.131390</td>\n",
       "      <td>15.697562</td>\n",
       "      <td>16.128201</td>\n",
       "      <td>4025600</td>\n",
       "      <td>0.0</td>\n",
       "      <td>0</td>\n",
       "      <td>SU</td>\n",
       "    </tr>\n",
       "    <tr>\n",
       "      <th>2005-07-08</th>\n",
       "      <td>16.412095</td>\n",
       "      <td>16.600300</td>\n",
       "      <td>16.163281</td>\n",
       "      <td>16.335537</td>\n",
       "      <td>3939800</td>\n",
       "      <td>0.0</td>\n",
       "      <td>0</td>\n",
       "      <td>SU</td>\n",
       "    </tr>\n",
       "    <tr>\n",
       "      <th>2005-07-11</th>\n",
       "      <td>16.125006</td>\n",
       "      <td>16.472706</td>\n",
       "      <td>16.105867</td>\n",
       "      <td>16.447187</td>\n",
       "      <td>2361600</td>\n",
       "      <td>0.0</td>\n",
       "      <td>0</td>\n",
       "      <td>SU</td>\n",
       "    </tr>\n",
       "    <tr>\n",
       "      <th>2005-07-12</th>\n",
       "      <td>16.644964</td>\n",
       "      <td>16.967145</td>\n",
       "      <td>16.539697</td>\n",
       "      <td>16.750231</td>\n",
       "      <td>2909200</td>\n",
       "      <td>0.0</td>\n",
       "      <td>0</td>\n",
       "      <td>SU</td>\n",
       "    </tr>\n",
       "    <tr>\n",
       "      <th>2005-07-13</th>\n",
       "      <td>16.750234</td>\n",
       "      <td>16.756614</td>\n",
       "      <td>16.313216</td>\n",
       "      <td>16.424864</td>\n",
       "      <td>3845800</td>\n",
       "      <td>0.0</td>\n",
       "      <td>0</td>\n",
       "      <td>SU</td>\n",
       "    </tr>\n",
       "  </tbody>\n",
       "</table>\n",
       "<p>359 rows × 8 columns</p>\n",
       "</div>"
      ],
      "text/plain": [
       "                 Open       High        Low      Close   Volume  Dividends  \\\n",
       "Date                                                                         \n",
       "2004-02-10   8.120848   8.370671   8.108198   8.332724  1641400        0.0   \n",
       "2004-02-11   8.411781   8.452891   8.304262   8.402294  1280800        0.0   \n",
       "2004-02-12   8.383319   8.383319   8.187255   8.196742   950400        0.0   \n",
       "2004-02-13   8.301099   8.405456   8.073412   8.114522  1313400        0.0   \n",
       "2004-02-17   8.285290   8.291614   8.149310   8.212556  1207000        0.0   \n",
       "...               ...        ...        ...        ...      ...        ...   \n",
       "2005-07-07  15.939996  16.131390  15.697562  16.128201  4025600        0.0   \n",
       "2005-07-08  16.412095  16.600300  16.163281  16.335537  3939800        0.0   \n",
       "2005-07-11  16.125006  16.472706  16.105867  16.447187  2361600        0.0   \n",
       "2005-07-12  16.644964  16.967145  16.539697  16.750231  2909200        0.0   \n",
       "2005-07-13  16.750234  16.756614  16.313216  16.424864  3845800        0.0   \n",
       "\n",
       "            Stock Splits STOCK  \n",
       "Date                            \n",
       "2004-02-10             0    SU  \n",
       "2004-02-11             0    SU  \n",
       "2004-02-12             0    SU  \n",
       "2004-02-13             0    SU  \n",
       "2004-02-17             0    SU  \n",
       "...                  ...   ...  \n",
       "2005-07-07             0    SU  \n",
       "2005-07-08             0    SU  \n",
       "2005-07-11             0    SU  \n",
       "2005-07-12             0    SU  \n",
       "2005-07-13             0    SU  \n",
       "\n",
       "[359 rows x 8 columns]"
      ]
     },
     "execution_count": 153,
     "metadata": {},
     "output_type": "execute_result"
    }
   ],
   "source": [
    "\n",
    "#define the ticker symbol\n",
    "tickerSymbol = 'SU'\n",
    "\n",
    "#get data on this ticker\n",
    "tickerData = yf.Ticker(tickerSymbol)\n",
    "\n",
    "#get the historical prices for this ticker\n",
    "tickerDf = tickerData.history(period='1m', start=start_date, end=final_date)\n",
    "\n",
    "#see your data\n",
    "tickerDf[\"STOCK\"] = tickerSymbol\n",
    "tickerDf"
   ]
  },
  {
   "cell_type": "code",
   "execution_count": 207,
   "metadata": {},
   "outputs": [],
   "source": [
    "def get_history_data(ticker_symbol, start_date, end_date):\n",
    "    tickerData = yf.Ticker(tickerSymbol)\n",
    "    tickerDf = tickerData.history(period='1m', start=start_date, end=end_date)\n",
    "    tickerDf[\"STOCK\"] = tickerSymbol\n",
    "\n",
    "    return tickerDf\n",
    "\n",
    "    "
   ]
  },
  {
   "cell_type": "code",
   "execution_count": 208,
   "metadata": {},
   "outputs": [
    {
     "name": "stdout",
     "output_type": "stream",
     "text": [
      "                 Open       High        Low      Close   Volume  Dividends  \\\n",
      "Date                                                                         \n",
      "2004-02-10   8.120846   8.370669   8.108196   8.332722  1641400        0.0   \n",
      "2004-02-11   8.411784   8.452894   8.304265   8.402297  1280800        0.0   \n",
      "2004-02-12   8.383317   8.383317   8.187253   8.196740   950400        0.0   \n",
      "2004-02-13   8.301102   8.405459   8.073415   8.114525  1313400        0.0   \n",
      "2004-02-17   8.285289   8.291613   8.149309   8.212555  1207000        0.0   \n",
      "...               ...        ...        ...        ...      ...        ...   \n",
      "2005-07-07  15.939994  16.131388  15.697560  16.128199  4025600        0.0   \n",
      "2005-07-08  16.412101  16.600306  16.163287  16.335543  3939800        0.0   \n",
      "2005-07-11  16.125009  16.472710  16.105871  16.447191  2361600        0.0   \n",
      "2005-07-12  16.644968  16.967149  16.539700  16.750235  2909200        0.0   \n",
      "2005-07-13  16.750234  16.756614  16.313216  16.424864  3845800        0.0   \n",
      "\n",
      "            Stock Splits STOCK  \n",
      "Date                            \n",
      "2004-02-10             0    SU  \n",
      "2004-02-11             0    SU  \n",
      "2004-02-12             0    SU  \n",
      "2004-02-13             0    SU  \n",
      "2004-02-17             0    SU  \n",
      "...                  ...   ...  \n",
      "2005-07-07             0    SU  \n",
      "2005-07-08             0    SU  \n",
      "2005-07-11             0    SU  \n",
      "2005-07-12             0    SU  \n",
      "2005-07-13             0    SU  \n",
      "\n",
      "[359 rows x 8 columns]\n"
     ]
    }
   ],
   "source": [
    "test = get_history_data(\"SU\",start_date, final_date)\n",
    "print(test)"
   ]
  },
  {
   "cell_type": "code",
   "execution_count": 61,
   "metadata": {},
   "outputs": [],
   "source": [
    "new_df = pd.merge(df2, tickerDf,  how='left', left_on=['STOCK','DATE'], right_on = ['STOCK','Date'])"
   ]
  },
  {
   "cell_type": "code",
   "execution_count": 156,
   "metadata": {},
   "outputs": [],
   "source": [
    "def calculate_returns(start_date, df):\n",
    "    returns = pd.DataFrame(columns=['DATE','STOCK','1MReturn','3MReturn','6MRerturn','12MReturn'])\n",
    "    \n",
    "    date1m = start_date + pd.DateOffset(months=1)\n",
    "    date3m = start_date + pd.DateOffset(months=3)\n",
    "    date6m = start_date + pd.DateOffset(months=6)\n",
    "    date12m = start_date +pd.DateOffset(months=12)\n",
    "\n",
    "    name = df['STOCK']\n",
    "    current = df.loc[start_date]\n",
    "    data1m = df.loc[date1m]\n",
    "    data3m = df.loc[date3m]\n",
    "    data6m = df.loc[date6m]\n",
    "    data12m = df.loc[date12m]\n",
    "\n",
    "    current = float(current['Close'])\n",
    "    data1m = float(data1m['Close'])\n",
    "    data3m = float(data3m['Close'])\n",
    "    data6m = float(data6m['Close'])\n",
    "    data12m = float(data12m['Close'])\n",
    "\n",
    "    return1m = (data1m - current)/current\n",
    "    return3m = (data3m - current)/current\n",
    "    return6m = (data6m - current)/current\n",
    "    return12m = (data6m - current)/current\n",
    "\n",
    "\n",
    "    returns = pd.DataFrame([[start_date,name[0],return1m, return3m, return6m,return12m]], columns=['DATE','STOCK','1MReturn',\"3MReturn\",\"6MReturn\",\"12MReturn\"])\n",
    "\n",
    " \n",
    "\n",
    "    return returns"
   ]
  },
  {
   "cell_type": "code",
   "execution_count": 157,
   "metadata": {},
   "outputs": [
    {
     "name": "stdout",
     "output_type": "stream",
     "text": [
      "        DATE STOCK  1MReturn  3MReturn  6MReturn  12MReturn\n",
      "0 2004-02-11    SU  0.017188 -0.083815  0.052226   0.052226\n"
     ]
    }
   ],
   "source": [
    "test = calculate_returns(start_date, tickerDf)\n",
    "\n",
    "print(test)"
   ]
  },
  {
   "cell_type": "code",
   "execution_count": 190,
   "metadata": {},
   "outputs": [],
   "source": [
    "list_of_dates = df2[\"DATE\"].unique()"
   ]
  },
  {
   "cell_type": "code",
   "execution_count": 194,
   "metadata": {},
   "outputs": [
    {
     "data": {
      "text/plain": [
       "array(['2004-02-11T00:00:00.000000000', '2004-02-18T00:00:00.000000000',\n",
       "       '2004-02-25T00:00:00.000000000'], dtype='datetime64[ns]')"
      ]
     },
     "execution_count": 194,
     "metadata": {},
     "output_type": "execute_result"
    }
   ],
   "source": [
    "list_of_dates[0:3]"
   ]
  },
  {
   "cell_type": "code",
   "execution_count": 204,
   "metadata": {},
   "outputs": [],
   "source": [
    "def calculate_returns_for_date(list_of_dates,df):\n",
    "    returns = pd.DataFrame(columns=['DATE','STOCK','1MReturn','3MReturn','6MReturn','12MReturn'])\n",
    "    for d in list_of_dates:\n",
    "        temp = calculate_returns(pd.to_datetime(d),df)\n",
    "        \n",
    "        returns = returns.append(temp, ignore_index=True)\n",
    "        #returns = pd.concat(returns,temp)\n",
    "    \n",
    "    return returns"
   ]
  },
  {
   "cell_type": "code",
   "execution_count": 205,
   "metadata": {},
   "outputs": [],
   "source": [
    "test = calculate_returns_for_date(list_of_dates[0:3],tickerDf )"
   ]
  },
  {
   "cell_type": "code",
   "execution_count": 206,
   "metadata": {},
   "outputs": [
    {
     "data": {
      "text/html": [
       "<div>\n",
       "<style scoped>\n",
       "    .dataframe tbody tr th:only-of-type {\n",
       "        vertical-align: middle;\n",
       "    }\n",
       "\n",
       "    .dataframe tbody tr th {\n",
       "        vertical-align: top;\n",
       "    }\n",
       "\n",
       "    .dataframe thead th {\n",
       "        text-align: right;\n",
       "    }\n",
       "</style>\n",
       "<table border=\"1\" class=\"dataframe\">\n",
       "  <thead>\n",
       "    <tr style=\"text-align: right;\">\n",
       "      <th></th>\n",
       "      <th>DATE</th>\n",
       "      <th>STOCK</th>\n",
       "      <th>1MReturn</th>\n",
       "      <th>3MReturn</th>\n",
       "      <th>6MReturn</th>\n",
       "      <th>12MReturn</th>\n",
       "    </tr>\n",
       "  </thead>\n",
       "  <tbody>\n",
       "    <tr>\n",
       "      <th>0</th>\n",
       "      <td>2004-02-11</td>\n",
       "      <td>SU</td>\n",
       "      <td>0.017188</td>\n",
       "      <td>-0.083815</td>\n",
       "      <td>0.052226</td>\n",
       "      <td>0.052226</td>\n",
       "    </tr>\n",
       "    <tr>\n",
       "      <th>1</th>\n",
       "      <td>2004-02-18</td>\n",
       "      <td>SU</td>\n",
       "      <td>0.070979</td>\n",
       "      <td>-0.078703</td>\n",
       "      <td>0.077539</td>\n",
       "      <td>0.077539</td>\n",
       "    </tr>\n",
       "    <tr>\n",
       "      <th>2</th>\n",
       "      <td>2004-02-25</td>\n",
       "      <td>SU</td>\n",
       "      <td>0.038139</td>\n",
       "      <td>-0.044912</td>\n",
       "      <td>0.088722</td>\n",
       "      <td>0.088722</td>\n",
       "    </tr>\n",
       "  </tbody>\n",
       "</table>\n",
       "</div>"
      ],
      "text/plain": [
       "        DATE STOCK  1MReturn  3MReturn  6MReturn  12MReturn\n",
       "0 2004-02-11    SU  0.017188 -0.083815  0.052226   0.052226\n",
       "1 2004-02-18    SU  0.070979 -0.078703  0.077539   0.077539\n",
       "2 2004-02-25    SU  0.038139 -0.044912  0.088722   0.088722"
      ]
     },
     "execution_count": 206,
     "metadata": {},
     "output_type": "execute_result"
    }
   ],
   "source": [
    "def calculate_returns_for_companies(list_of_dates,list_of_companies,df):\n",
    "    "
   ]
  }
 ],
 "metadata": {
  "interpreter": {
   "hash": "62b4da82ab8eed337ff08ff647fa9458abd70eb477e91c298b2b408b176a3f70"
  },
  "kernelspec": {
   "display_name": "Python 3.8.5 32-bit",
   "language": "python",
   "name": "python3"
  },
  "language_info": {
   "codemirror_mode": {
    "name": "ipython",
    "version": 3
   },
   "file_extension": ".py",
   "mimetype": "text/x-python",
   "name": "python",
   "nbconvert_exporter": "python",
   "pygments_lexer": "ipython3",
   "version": "3.8.5"
  },
  "orig_nbformat": 4
 },
 "nbformat": 4,
 "nbformat_minor": 2
}
