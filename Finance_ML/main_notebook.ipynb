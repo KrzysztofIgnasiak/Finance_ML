{
 "cells": [
  {
   "cell_type": "code",
   "execution_count": 70,
   "metadata": {},
   "outputs": [],
   "source": [
    "import matplotlib as mpl\n",
    "import matplotlib.pyplot as plt\n",
    "import seaborn as sns\n",
    "import numpy as np\n",
    "import pandas as pd\n",
    "import re\n",
    "import yfinance as yf\n",
    "import pandas_market_calendars as mcal"
   ]
  },
  {
   "cell_type": "code",
   "execution_count": 71,
   "metadata": {},
   "outputs": [],
   "source": [
    "df = pd.read_csv('Assets\\CONVICTIONSUMMARY_270_opt3_best2(1).csv', sep='|')"
   ]
  },
  {
   "cell_type": "code",
   "execution_count": 72,
   "metadata": {},
   "outputs": [],
   "source": [
    "df2 = pd.DataFrame()\n",
    "df2 = df.loc[df['TYPE'] == 'MERGED']"
   ]
  },
  {
   "cell_type": "markdown",
   "metadata": {},
   "source": [
    "Extract Time and Date"
   ]
  },
  {
   "cell_type": "code",
   "execution_count": 73,
   "metadata": {},
   "outputs": [
    {
     "name": "stderr",
     "output_type": "stream",
     "text": [
      "<ipython-input-73-0de3e1e305d2>:1: SettingWithCopyWarning: \n",
      "A value is trying to be set on a copy of a slice from a DataFrame.\n",
      "Try using .loc[row_indexer,col_indexer] = value instead\n",
      "\n",
      "See the caveats in the documentation: https://pandas.pydata.org/pandas-docs/stable/user_guide/indexing.html#returning-a-view-versus-a-copy\n",
      "  df2[\"Time\"] = df2.apply(lambda row: re.split(\" \",row.DATE)[0], axis=1)\n",
      "<ipython-input-73-0de3e1e305d2>:3: SettingWithCopyWarning: \n",
      "A value is trying to be set on a copy of a slice from a DataFrame.\n",
      "Try using .loc[row_indexer,col_indexer] = value instead\n",
      "\n",
      "See the caveats in the documentation: https://pandas.pydata.org/pandas-docs/stable/user_guide/indexing.html#returning-a-view-versus-a-copy\n",
      "  df2[\"DATE\"] = df2.apply(lambda row: re.split(\" \",row.DATE)[-1],axis=1)\n"
     ]
    }
   ],
   "source": [
    "df2[\"Time\"] = df2.apply(lambda row: re.split(\" \",row.DATE)[0], axis=1)\n",
    "\n",
    "df2[\"DATE\"] = df2.apply(lambda row: re.split(\" \",row.DATE)[-1],axis=1)"
   ]
  },
  {
   "cell_type": "code",
   "execution_count": 74,
   "metadata": {},
   "outputs": [
    {
     "data": {
      "text/plain": [
       "DATE             object\n",
       "ID               object\n",
       "STOCK            object\n",
       "SECTOR           object\n",
       "TYPE             object\n",
       "CONVICTIONS     float64\n",
       "Time             object\n",
       "dtype: object"
      ]
     },
     "execution_count": 74,
     "metadata": {},
     "output_type": "execute_result"
    }
   ],
   "source": [
    "df2.dtypes"
   ]
  },
  {
   "cell_type": "code",
   "execution_count": 75,
   "metadata": {},
   "outputs": [
    {
     "name": "stderr",
     "output_type": "stream",
     "text": [
      "<ipython-input-75-3660468bee21>:1: SettingWithCopyWarning: \n",
      "A value is trying to be set on a copy of a slice from a DataFrame.\n",
      "Try using .loc[row_indexer,col_indexer] = value instead\n",
      "\n",
      "See the caveats in the documentation: https://pandas.pydata.org/pandas-docs/stable/user_guide/indexing.html#returning-a-view-versus-a-copy\n",
      "  df2['DATE'] = pd.to_datetime(\n"
     ]
    }
   ],
   "source": [
    "df2['DATE'] = pd.to_datetime(\n",
    "                          df2['DATE'],\n",
    "                          format='%Y-%m-%d')"
   ]
  },
  {
   "cell_type": "code",
   "execution_count": 76,
   "metadata": {},
   "outputs": [],
   "source": [
    "df2 = df2.sort_values(by=\"DATE\")"
   ]
  },
  {
   "cell_type": "code",
   "execution_count": 77,
   "metadata": {},
   "outputs": [
    {
     "data": {
      "text/plain": [
       "DATE            datetime64[ns]\n",
       "ID                      object\n",
       "STOCK                   object\n",
       "SECTOR                  object\n",
       "TYPE                    object\n",
       "CONVICTIONS            float64\n",
       "Time                    object\n",
       "dtype: object"
      ]
     },
     "execution_count": 77,
     "metadata": {},
     "output_type": "execute_result"
    }
   ],
   "source": [
    "df2.dtypes"
   ]
  },
  {
   "cell_type": "markdown",
   "metadata": {},
   "source": [
    "## Cleaning"
   ]
  },
  {
   "cell_type": "code",
   "execution_count": 78,
   "metadata": {},
   "outputs": [],
   "source": [
    "df2.columns = ['DATE', 'ID', 'STOCK',\"SECTOR\",\"TYPE\",\"SCORE\",\"TIME\"]"
   ]
  },
  {
   "cell_type": "code",
   "execution_count": 79,
   "metadata": {},
   "outputs": [],
   "source": [
    "df2 = df2.loc[df2['SCORE'] != 0]"
   ]
  },
  {
   "cell_type": "markdown",
   "metadata": {},
   "source": [
    "## Adding returns"
   ]
  },
  {
   "cell_type": "markdown",
   "metadata": {},
   "source": [
    "### gettting info"
   ]
  },
  {
   "cell_type": "code",
   "execution_count": 80,
   "metadata": {},
   "outputs": [],
   "source": [
    "list_of_companies = df2[\"STOCK\"].unique()\n",
    "list_of_dates = df2[\"DATE\"].unique()"
   ]
  },
  {
   "cell_type": "code",
   "execution_count": 81,
   "metadata": {},
   "outputs": [],
   "source": [
    "start_date = df2.DATE.min()\n",
    "end_date = df2.DATE.max()"
   ]
  },
  {
   "cell_type": "code",
   "execution_count": 82,
   "metadata": {},
   "outputs": [
    {
     "name": "stdout",
     "output_type": "stream",
     "text": [
      "2005-07-14 00:00:00\n"
     ]
    }
   ],
   "source": [
    "final_date = end_date + pd.DateOffset(months=12)\n",
    "print(final_date)"
   ]
  },
  {
   "cell_type": "markdown",
   "metadata": {},
   "source": [
    "### Define functions"
   ]
  },
  {
   "cell_type": "code",
   "execution_count": 83,
   "metadata": {},
   "outputs": [],
   "source": [
    "def get_history_data(ticker_symbol, start_date, end_date):\n",
    "    tickerData = yf.Ticker(ticker_symbol)\n",
    "    tickerDf = tickerData.history(period='1d', start=start_date, end=end_date)\n",
    "    tickerDf[\"STOCK\"] = ticker_symbol\n",
    "\n",
    "    return tickerDf\n",
    "\n",
    "    "
   ]
  },
  {
   "cell_type": "code",
   "execution_count": 84,
   "metadata": {},
   "outputs": [],
   "source": [
    "def get_closest_trading_day(day,trading_days):\n",
    "    trading_days = trading_days[trading_days>=pd.to_datetime(day, utc=True)]\n",
    "    return trading_days.sort_values()[0]"
   ]
  },
  {
   "cell_type": "code",
   "execution_count": 85,
   "metadata": {},
   "outputs": [],
   "source": [
    "def get_traning_days(start_date, end_date,stock_market_name):\n",
    "    nyse = mcal.get_calendar(stock_market_name)\n",
    "    valid_days = nyse.valid_days(start_date=start_date, end_date=final_date)\n",
    "    return valid_days"
   ]
  },
  {
   "cell_type": "code",
   "execution_count": 86,
   "metadata": {},
   "outputs": [],
   "source": [
    "def get_return_on_date(date,df):\n",
    "  try:\n",
    "    x = df.loc[date]\n",
    "    x = float(x['Close'])\n",
    "  except:\n",
    "    x = 0.0\n",
    "  return x"
   ]
  },
  {
   "cell_type": "code",
   "execution_count": 87,
   "metadata": {},
   "outputs": [],
   "source": [
    "def calculate_returns(start_date, df, trading_days):\n",
    "    returns = pd.DataFrame(columns=['DATE','STOCK','1MReturn','3MReturn','6MRerturn','12MReturn'])\n",
    "    \n",
    "    date1m = get_closest_trading_day(start_date + pd.DateOffset(months=1),trading_days)\n",
    "    date3m = get_closest_trading_day(start_date + pd.DateOffset(months=3),trading_days)\n",
    "    date6m = get_closest_trading_day(start_date + pd.DateOffset(months=6),trading_days)\n",
    "    date12m = get_closest_trading_day(start_date + pd.DateOffset(months=12),trading_days)\n",
    "\n",
    "    name = df['STOCK']\n",
    "    try:\n",
    "        current = df.loc[start_date]\n",
    "    except:\n",
    "        return returns\n",
    "    data1m = get_return_on_date(date1m,df)\n",
    "    data3m = get_return_on_date(date3m,df)\n",
    "    data6m = get_return_on_date(date6m,df)\n",
    "    data12m = get_return_on_date(date12m,df)\n",
    "\n",
    "    current = float(current['Close'])\n",
    "\n",
    "    return1m = (data1m - current)/current\n",
    "    return3m = (data3m - current)/current\n",
    "    return6m = (data6m - current)/current\n",
    "    return12m = (data6m - current)/current\n",
    "\n",
    "\n",
    "    returns = pd.DataFrame([[start_date,name[0],return1m, return3m, return6m,return12m]], columns=['DATE','STOCK','1MReturn',\"3MReturn\",\"6MReturn\",\"12MReturn\"])\n",
    "\n",
    " \n",
    "\n",
    "    return returns"
   ]
  },
  {
   "cell_type": "code",
   "execution_count": 88,
   "metadata": {},
   "outputs": [],
   "source": [
    "def calculate_returns_for_date(list_of_dates,df,trading_days):\n",
    "    returns = pd.DataFrame(columns=['DATE','STOCK','1MReturn','3MReturn','6MReturn','12MReturn'])\n",
    "    for d in list_of_dates:\n",
    "        temp = calculate_returns(pd.to_datetime(d),df,trading_days)\n",
    "        \n",
    "        returns = returns.append(temp, ignore_index=True)\n",
    "    \n",
    "    return returns"
   ]
  },
  {
   "cell_type": "code",
   "execution_count": 89,
   "metadata": {},
   "outputs": [],
   "source": [
    "def calculate_returns_for_companies(list_of_dates,list_of_companies,start_date, end_date):\n",
    "    returns = pd.DataFrame(columns=['DATE','STOCK','1MReturn','3MReturn','6MReturn','12MReturn'])\n",
    "    trading_days = get_traning_days(start_date,end_date, \"NYSE\")\n",
    "    for c in list_of_companies:\n",
    "        c = c.replace(\".XX1\",\"\")\n",
    "        c = c.replace(\".XX2\",\"\")\n",
    "        data = get_history_data(c,start_date, end_date)\n",
    "        len_of_data = data.shape[0]\n",
    "        if len_of_data !=0:\n",
    "            returns_for_company = calculate_returns_for_date(list_of_dates,data,trading_days)\n",
    "            returns = returns.append(returns_for_company, ignore_index=True)\n",
    "        \n",
    "    return returns\n",
    "    "
   ]
  },
  {
   "cell_type": "markdown",
   "metadata": {},
   "source": [
    "### Get Data"
   ]
  },
  {
   "cell_type": "code",
   "execution_count": 90,
   "metadata": {},
   "outputs": [
    {
     "name": "stdout",
     "output_type": "stream",
     "text": [
      "- PKZ: No data found for this date range, symbol may be delisted\n",
      "- PALDF: No data found, symbol may be delisted\n",
      "- CHRS: Data doesn't exist for startDate = 1076454000, endDate = 1089756000\n",
      "- AGU: No data found for this date range, symbol may be delisted\n",
      "- BJS: No data found for this date range, symbol may be delisted\n"
     ]
    }
   ],
   "source": [
    "test = calculate_returns_for_companies(list_of_dates, list_of_companies[1:10],start_date, end_date)"
   ]
  },
  {
   "cell_type": "code",
   "execution_count": 91,
   "metadata": {},
   "outputs": [
    {
     "data": {
      "text/html": [
       "<div>\n",
       "<style scoped>\n",
       "    .dataframe tbody tr th:only-of-type {\n",
       "        vertical-align: middle;\n",
       "    }\n",
       "\n",
       "    .dataframe tbody tr th {\n",
       "        vertical-align: top;\n",
       "    }\n",
       "\n",
       "    .dataframe thead th {\n",
       "        text-align: right;\n",
       "    }\n",
       "</style>\n",
       "<table border=\"1\" class=\"dataframe\">\n",
       "  <thead>\n",
       "    <tr style=\"text-align: right;\">\n",
       "      <th></th>\n",
       "      <th>DATE</th>\n",
       "      <th>STOCK</th>\n",
       "      <th>1MReturn</th>\n",
       "      <th>3MReturn</th>\n",
       "      <th>6MReturn</th>\n",
       "      <th>12MReturn</th>\n",
       "      <th>6MRerturn</th>\n",
       "    </tr>\n",
       "  </thead>\n",
       "  <tbody>\n",
       "    <tr>\n",
       "      <th>0</th>\n",
       "      <td>2004-02-11</td>\n",
       "      <td>TTEK</td>\n",
       "      <td>-0.071624</td>\n",
       "      <td>-0.238595</td>\n",
       "      <td>-1.0</td>\n",
       "      <td>-1.0</td>\n",
       "      <td>NaN</td>\n",
       "    </tr>\n",
       "    <tr>\n",
       "      <th>1</th>\n",
       "      <td>2004-02-18</td>\n",
       "      <td>TTEK</td>\n",
       "      <td>-0.040246</td>\n",
       "      <td>-0.233428</td>\n",
       "      <td>-1.0</td>\n",
       "      <td>-1.0</td>\n",
       "      <td>NaN</td>\n",
       "    </tr>\n",
       "    <tr>\n",
       "      <th>2</th>\n",
       "      <td>2004-02-25</td>\n",
       "      <td>TTEK</td>\n",
       "      <td>-0.017266</td>\n",
       "      <td>-0.203357</td>\n",
       "      <td>-1.0</td>\n",
       "      <td>-1.0</td>\n",
       "      <td>NaN</td>\n",
       "    </tr>\n",
       "    <tr>\n",
       "      <th>3</th>\n",
       "      <td>2004-03-03</td>\n",
       "      <td>TTEK</td>\n",
       "      <td>0.073336</td>\n",
       "      <td>-0.151044</td>\n",
       "      <td>-1.0</td>\n",
       "      <td>-1.0</td>\n",
       "      <td>NaN</td>\n",
       "    </tr>\n",
       "    <tr>\n",
       "      <th>4</th>\n",
       "      <td>2004-03-10</td>\n",
       "      <td>TTEK</td>\n",
       "      <td>-0.006816</td>\n",
       "      <td>-0.154820</td>\n",
       "      <td>-1.0</td>\n",
       "      <td>-1.0</td>\n",
       "      <td>NaN</td>\n",
       "    </tr>\n",
       "  </tbody>\n",
       "</table>\n",
       "</div>"
      ],
      "text/plain": [
       "        DATE STOCK  1MReturn  3MReturn  6MReturn  12MReturn 6MRerturn\n",
       "0 2004-02-11  TTEK -0.071624 -0.238595      -1.0       -1.0       NaN\n",
       "1 2004-02-18  TTEK -0.040246 -0.233428      -1.0       -1.0       NaN\n",
       "2 2004-02-25  TTEK -0.017266 -0.203357      -1.0       -1.0       NaN\n",
       "3 2004-03-03  TTEK  0.073336 -0.151044      -1.0       -1.0       NaN\n",
       "4 2004-03-10  TTEK -0.006816 -0.154820      -1.0       -1.0       NaN"
      ]
     },
     "execution_count": 91,
     "metadata": {},
     "output_type": "execute_result"
    }
   ],
   "source": [
    "test.head()"
   ]
  },
  {
   "cell_type": "markdown",
   "metadata": {},
   "source": [
    "### Aditional data"
   ]
  },
  {
   "cell_type": "code",
   "execution_count": 94,
   "metadata": {},
   "outputs": [],
   "source": [
    "tickerData = yf.Ticker(\"SU\")\n",
    "tickerDf = tickerData.history(period='1d', start=start_date)"
   ]
  },
  {
   "cell_type": "code",
   "execution_count": 95,
   "metadata": {},
   "outputs": [
    {
     "data": {
      "text/html": [
       "<div>\n",
       "<style scoped>\n",
       "    .dataframe tbody tr th:only-of-type {\n",
       "        vertical-align: middle;\n",
       "    }\n",
       "\n",
       "    .dataframe tbody tr th {\n",
       "        vertical-align: top;\n",
       "    }\n",
       "\n",
       "    .dataframe thead th {\n",
       "        text-align: right;\n",
       "    }\n",
       "</style>\n",
       "<table border=\"1\" class=\"dataframe\">\n",
       "  <thead>\n",
       "    <tr style=\"text-align: right;\">\n",
       "      <th></th>\n",
       "      <th>Open</th>\n",
       "      <th>High</th>\n",
       "      <th>Low</th>\n",
       "      <th>Close</th>\n",
       "      <th>Volume</th>\n",
       "      <th>Dividends</th>\n",
       "      <th>Stock Splits</th>\n",
       "    </tr>\n",
       "    <tr>\n",
       "      <th>Date</th>\n",
       "      <th></th>\n",
       "      <th></th>\n",
       "      <th></th>\n",
       "      <th></th>\n",
       "      <th></th>\n",
       "      <th></th>\n",
       "      <th></th>\n",
       "    </tr>\n",
       "  </thead>\n",
       "  <tbody>\n",
       "    <tr>\n",
       "      <th>2004-02-10</th>\n",
       "      <td>8.120847</td>\n",
       "      <td>8.370670</td>\n",
       "      <td>8.108197</td>\n",
       "      <td>8.332723</td>\n",
       "      <td>1641400</td>\n",
       "      <td>0.0</td>\n",
       "      <td>0.0</td>\n",
       "    </tr>\n",
       "    <tr>\n",
       "      <th>2004-02-11</th>\n",
       "      <td>8.411781</td>\n",
       "      <td>8.452891</td>\n",
       "      <td>8.304262</td>\n",
       "      <td>8.402294</td>\n",
       "      <td>1280800</td>\n",
       "      <td>0.0</td>\n",
       "      <td>0.0</td>\n",
       "    </tr>\n",
       "    <tr>\n",
       "      <th>2004-02-12</th>\n",
       "      <td>8.383320</td>\n",
       "      <td>8.383320</td>\n",
       "      <td>8.187256</td>\n",
       "      <td>8.196743</td>\n",
       "      <td>950400</td>\n",
       "      <td>0.0</td>\n",
       "      <td>0.0</td>\n",
       "    </tr>\n",
       "    <tr>\n",
       "      <th>2004-02-13</th>\n",
       "      <td>8.301099</td>\n",
       "      <td>8.405456</td>\n",
       "      <td>8.073412</td>\n",
       "      <td>8.114522</td>\n",
       "      <td>1313400</td>\n",
       "      <td>0.0</td>\n",
       "      <td>0.0</td>\n",
       "    </tr>\n",
       "    <tr>\n",
       "      <th>2004-02-17</th>\n",
       "      <td>8.285290</td>\n",
       "      <td>8.291614</td>\n",
       "      <td>8.149310</td>\n",
       "      <td>8.212556</td>\n",
       "      <td>1207000</td>\n",
       "      <td>0.0</td>\n",
       "      <td>0.0</td>\n",
       "    </tr>\n",
       "    <tr>\n",
       "      <th>...</th>\n",
       "      <td>...</td>\n",
       "      <td>...</td>\n",
       "      <td>...</td>\n",
       "      <td>...</td>\n",
       "      <td>...</td>\n",
       "      <td>...</td>\n",
       "      <td>...</td>\n",
       "    </tr>\n",
       "    <tr>\n",
       "      <th>2022-04-01</th>\n",
       "      <td>32.439999</td>\n",
       "      <td>33.090000</td>\n",
       "      <td>32.410000</td>\n",
       "      <td>32.770000</td>\n",
       "      <td>4133300</td>\n",
       "      <td>0.0</td>\n",
       "      <td>0.0</td>\n",
       "    </tr>\n",
       "    <tr>\n",
       "      <th>2022-04-04</th>\n",
       "      <td>33.160000</td>\n",
       "      <td>33.480000</td>\n",
       "      <td>32.849998</td>\n",
       "      <td>33.430000</td>\n",
       "      <td>6159900</td>\n",
       "      <td>0.0</td>\n",
       "      <td>0.0</td>\n",
       "    </tr>\n",
       "    <tr>\n",
       "      <th>2022-04-05</th>\n",
       "      <td>33.630001</td>\n",
       "      <td>34.209999</td>\n",
       "      <td>32.950001</td>\n",
       "      <td>32.990002</td>\n",
       "      <td>5589300</td>\n",
       "      <td>0.0</td>\n",
       "      <td>0.0</td>\n",
       "    </tr>\n",
       "    <tr>\n",
       "      <th>2022-04-06</th>\n",
       "      <td>33.299999</td>\n",
       "      <td>33.570000</td>\n",
       "      <td>32.220001</td>\n",
       "      <td>32.389999</td>\n",
       "      <td>6639000</td>\n",
       "      <td>0.0</td>\n",
       "      <td>0.0</td>\n",
       "    </tr>\n",
       "    <tr>\n",
       "      <th>2022-04-07</th>\n",
       "      <td>32.389999</td>\n",
       "      <td>32.689999</td>\n",
       "      <td>31.680000</td>\n",
       "      <td>32.650002</td>\n",
       "      <td>6913800</td>\n",
       "      <td>0.0</td>\n",
       "      <td>0.0</td>\n",
       "    </tr>\n",
       "  </tbody>\n",
       "</table>\n",
       "<p>4573 rows × 7 columns</p>\n",
       "</div>"
      ],
      "text/plain": [
       "                 Open       High        Low      Close   Volume  Dividends  \\\n",
       "Date                                                                         \n",
       "2004-02-10   8.120847   8.370670   8.108197   8.332723  1641400        0.0   \n",
       "2004-02-11   8.411781   8.452891   8.304262   8.402294  1280800        0.0   \n",
       "2004-02-12   8.383320   8.383320   8.187256   8.196743   950400        0.0   \n",
       "2004-02-13   8.301099   8.405456   8.073412   8.114522  1313400        0.0   \n",
       "2004-02-17   8.285290   8.291614   8.149310   8.212556  1207000        0.0   \n",
       "...               ...        ...        ...        ...      ...        ...   \n",
       "2022-04-01  32.439999  33.090000  32.410000  32.770000  4133300        0.0   \n",
       "2022-04-04  33.160000  33.480000  32.849998  33.430000  6159900        0.0   \n",
       "2022-04-05  33.630001  34.209999  32.950001  32.990002  5589300        0.0   \n",
       "2022-04-06  33.299999  33.570000  32.220001  32.389999  6639000        0.0   \n",
       "2022-04-07  32.389999  32.689999  31.680000  32.650002  6913800        0.0   \n",
       "\n",
       "            Stock Splits  \n",
       "Date                      \n",
       "2004-02-10           0.0  \n",
       "2004-02-11           0.0  \n",
       "2004-02-12           0.0  \n",
       "2004-02-13           0.0  \n",
       "2004-02-17           0.0  \n",
       "...                  ...  \n",
       "2022-04-01           0.0  \n",
       "2022-04-04           0.0  \n",
       "2022-04-05           0.0  \n",
       "2022-04-06           0.0  \n",
       "2022-04-07           0.0  \n",
       "\n",
       "[4573 rows x 7 columns]"
      ]
     },
     "execution_count": 95,
     "metadata": {},
     "output_type": "execute_result"
    }
   ],
   "source": [
    "tickerDf"
   ]
  }
 ],
 "metadata": {
  "interpreter": {
   "hash": "62b4da82ab8eed337ff08ff647fa9458abd70eb477e91c298b2b408b176a3f70"
  },
  "kernelspec": {
   "display_name": "Python 3.8.5 32-bit",
   "language": "python",
   "name": "python3"
  },
  "language_info": {
   "codemirror_mode": {
    "name": "ipython",
    "version": 3
   },
   "file_extension": ".py",
   "mimetype": "text/x-python",
   "name": "python",
   "nbconvert_exporter": "python",
   "pygments_lexer": "ipython3",
   "version": "3.8.5"
  },
  "orig_nbformat": 4
 },
 "nbformat": 4,
 "nbformat_minor": 2
}
