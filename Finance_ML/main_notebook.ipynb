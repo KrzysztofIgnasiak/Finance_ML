{
 "cells": [
  {
   "cell_type": "code",
   "execution_count": 5,
   "metadata": {},
   "outputs": [],
   "source": [
    "import matplotlib as mpl\n",
    "import matplotlib.pyplot as plt\n",
    "import seaborn as sns\n",
    "import numpy as np\n",
    "import pandas as pd\n",
    "import re"
   ]
  },
  {
   "cell_type": "code",
   "execution_count": 2,
   "metadata": {},
   "outputs": [],
   "source": [
    "df = pd.read_csv('Assets\\CONVICTIONSUMMARY_270_opt3_best2(1).csv', sep='|')"
   ]
  },
  {
   "cell_type": "code",
   "execution_count": 16,
   "metadata": {},
   "outputs": [],
   "source": [
    "df2 = pd.DataFrame()\n",
    "df2 = df.loc[df['TYPE'] == 'MERGED']"
   ]
  },
  {
   "cell_type": "markdown",
   "metadata": {},
   "source": [
    "Extract Time and Date"
   ]
  },
  {
   "cell_type": "code",
   "execution_count": null,
   "metadata": {},
   "outputs": [],
   "source": [
    "df2[\"Time\"] = df2.apply(lambda row: re.split(\" \",row.DATE)[0], axis=1)\n",
    "\n",
    "df2[\"DATE\"] = df2.apply(lambda row: re.split(\" \",row.DATE)[-1],axis=1)"
   ]
  },
  {
   "cell_type": "code",
   "execution_count": 18,
   "metadata": {},
   "outputs": [
    {
     "data": {
      "text/plain": [
       "DATE             object\n",
       "ID               object\n",
       "STOCK            object\n",
       "SECTOR           object\n",
       "TYPE             object\n",
       "CONVICTIONS     float64\n",
       "Time             object\n",
       "dtype: object"
      ]
     },
     "execution_count": 18,
     "metadata": {},
     "output_type": "execute_result"
    }
   ],
   "source": [
    "df2.dtypes"
   ]
  },
  {
   "cell_type": "code",
   "execution_count": 19,
   "metadata": {},
   "outputs": [
    {
     "name": "stderr",
     "output_type": "stream",
     "text": [
      "<ipython-input-19-3660468bee21>:1: SettingWithCopyWarning: \n",
      "A value is trying to be set on a copy of a slice from a DataFrame.\n",
      "Try using .loc[row_indexer,col_indexer] = value instead\n",
      "\n",
      "See the caveats in the documentation: https://pandas.pydata.org/pandas-docs/stable/user_guide/indexing.html#returning-a-view-versus-a-copy\n",
      "  df2['DATE'] = pd.to_datetime(\n"
     ]
    }
   ],
   "source": [
    "df2['DATE'] = pd.to_datetime(\n",
    "                          df2['DATE'],\n",
    "                          format='%Y-%m-%d')"
   ]
  },
  {
   "cell_type": "code",
   "execution_count": 41,
   "metadata": {},
   "outputs": [],
   "source": [
    "df2 = df2.sort_values(by=\"DATE\")"
   ]
  },
  {
   "cell_type": "markdown",
   "metadata": {},
   "source": [
    "## Adding returns"
   ]
  },
  {
   "cell_type": "code",
   "execution_count": 22,
   "metadata": {},
   "outputs": [],
   "source": [
    "list_of_companies = df2[\"STOCK\"].unique()"
   ]
  },
  {
   "cell_type": "code",
   "execution_count": 23,
   "metadata": {},
   "outputs": [
    {
     "name": "stdout",
     "output_type": "stream",
     "text": [
      "['SU' 'GGG' 'WGR' ... 'GBX' 'OVTI' 'SNCAF']\n"
     ]
    }
   ],
   "source": [
    "print(list_of_companies)"
   ]
  },
  {
   "cell_type": "code",
   "execution_count": 94,
   "metadata": {},
   "outputs": [],
   "source": [
    "start_date = df2.DATE.min()\n",
    "end_date = df2.DATE.max()"
   ]
  },
  {
   "cell_type": "code",
   "execution_count": 53,
   "metadata": {},
   "outputs": [
    {
     "name": "stdout",
     "output_type": "stream",
     "text": [
      "2004-08-11 00:00:00\n"
     ]
    }
   ],
   "source": [
    "start_date = start_date + pd.DateOffset(months=6)\n",
    "print(start_date)"
   ]
  },
  {
   "cell_type": "code",
   "execution_count": 95,
   "metadata": {},
   "outputs": [
    {
     "data": {
      "text/html": [
       "<div>\n",
       "<style scoped>\n",
       "    .dataframe tbody tr th:only-of-type {\n",
       "        vertical-align: middle;\n",
       "    }\n",
       "\n",
       "    .dataframe tbody tr th {\n",
       "        vertical-align: top;\n",
       "    }\n",
       "\n",
       "    .dataframe thead th {\n",
       "        text-align: right;\n",
       "    }\n",
       "</style>\n",
       "<table border=\"1\" class=\"dataframe\">\n",
       "  <thead>\n",
       "    <tr style=\"text-align: right;\">\n",
       "      <th></th>\n",
       "      <th>Open</th>\n",
       "      <th>High</th>\n",
       "      <th>Low</th>\n",
       "      <th>Close</th>\n",
       "      <th>Volume</th>\n",
       "      <th>Dividends</th>\n",
       "      <th>Stock Splits</th>\n",
       "      <th>STOCK</th>\n",
       "    </tr>\n",
       "    <tr>\n",
       "      <th>Date</th>\n",
       "      <th></th>\n",
       "      <th></th>\n",
       "      <th></th>\n",
       "      <th></th>\n",
       "      <th></th>\n",
       "      <th></th>\n",
       "      <th></th>\n",
       "      <th></th>\n",
       "    </tr>\n",
       "  </thead>\n",
       "  <tbody>\n",
       "    <tr>\n",
       "      <th>2004-02-10</th>\n",
       "      <td>8.120850</td>\n",
       "      <td>8.370673</td>\n",
       "      <td>8.108200</td>\n",
       "      <td>8.332726</td>\n",
       "      <td>1641400</td>\n",
       "      <td>0.0</td>\n",
       "      <td>0</td>\n",
       "      <td>SU</td>\n",
       "    </tr>\n",
       "    <tr>\n",
       "      <th>2004-02-11</th>\n",
       "      <td>8.411778</td>\n",
       "      <td>8.452888</td>\n",
       "      <td>8.304259</td>\n",
       "      <td>8.402291</td>\n",
       "      <td>1280800</td>\n",
       "      <td>0.0</td>\n",
       "      <td>0</td>\n",
       "      <td>SU</td>\n",
       "    </tr>\n",
       "    <tr>\n",
       "      <th>2004-02-12</th>\n",
       "      <td>8.383322</td>\n",
       "      <td>8.383322</td>\n",
       "      <td>8.187258</td>\n",
       "      <td>8.196745</td>\n",
       "      <td>950400</td>\n",
       "      <td>0.0</td>\n",
       "      <td>0</td>\n",
       "      <td>SU</td>\n",
       "    </tr>\n",
       "    <tr>\n",
       "      <th>2004-02-13</th>\n",
       "      <td>8.301103</td>\n",
       "      <td>8.405460</td>\n",
       "      <td>8.073416</td>\n",
       "      <td>8.114526</td>\n",
       "      <td>1313400</td>\n",
       "      <td>0.0</td>\n",
       "      <td>0</td>\n",
       "      <td>SU</td>\n",
       "    </tr>\n",
       "    <tr>\n",
       "      <th>2004-02-17</th>\n",
       "      <td>8.285291</td>\n",
       "      <td>8.291615</td>\n",
       "      <td>8.149311</td>\n",
       "      <td>8.212557</td>\n",
       "      <td>1207000</td>\n",
       "      <td>0.0</td>\n",
       "      <td>0</td>\n",
       "      <td>SU</td>\n",
       "    </tr>\n",
       "    <tr>\n",
       "      <th>...</th>\n",
       "      <td>...</td>\n",
       "      <td>...</td>\n",
       "      <td>...</td>\n",
       "      <td>...</td>\n",
       "      <td>...</td>\n",
       "      <td>...</td>\n",
       "      <td>...</td>\n",
       "      <td>...</td>\n",
       "    </tr>\n",
       "    <tr>\n",
       "      <th>2004-07-07</th>\n",
       "      <td>7.921157</td>\n",
       "      <td>8.247901</td>\n",
       "      <td>7.898952</td>\n",
       "      <td>8.181284</td>\n",
       "      <td>2736200</td>\n",
       "      <td>0.0</td>\n",
       "      <td>0</td>\n",
       "      <td>SU</td>\n",
       "    </tr>\n",
       "    <tr>\n",
       "      <th>2004-07-08</th>\n",
       "      <td>8.216181</td>\n",
       "      <td>8.225698</td>\n",
       "      <td>8.108323</td>\n",
       "      <td>8.209836</td>\n",
       "      <td>1169400</td>\n",
       "      <td>0.0</td>\n",
       "      <td>0</td>\n",
       "      <td>SU</td>\n",
       "    </tr>\n",
       "    <tr>\n",
       "      <th>2004-07-09</th>\n",
       "      <td>8.216181</td>\n",
       "      <td>8.397000</td>\n",
       "      <td>8.184458</td>\n",
       "      <td>8.381139</td>\n",
       "      <td>1180000</td>\n",
       "      <td>0.0</td>\n",
       "      <td>0</td>\n",
       "      <td>SU</td>\n",
       "    </tr>\n",
       "    <tr>\n",
       "      <th>2004-07-12</th>\n",
       "      <td>8.349415</td>\n",
       "      <td>8.352587</td>\n",
       "      <td>8.238386</td>\n",
       "      <td>8.276453</td>\n",
       "      <td>1076400</td>\n",
       "      <td>0.0</td>\n",
       "      <td>0</td>\n",
       "      <td>SU</td>\n",
       "    </tr>\n",
       "    <tr>\n",
       "      <th>2004-07-13</th>\n",
       "      <td>8.203490</td>\n",
       "      <td>8.206662</td>\n",
       "      <td>8.105149</td>\n",
       "      <td>8.171767</td>\n",
       "      <td>1062400</td>\n",
       "      <td>0.0</td>\n",
       "      <td>0</td>\n",
       "      <td>SU</td>\n",
       "    </tr>\n",
       "  </tbody>\n",
       "</table>\n",
       "<p>106 rows × 8 columns</p>\n",
       "</div>"
      ],
      "text/plain": [
       "                Open      High       Low     Close   Volume  Dividends  \\\n",
       "Date                                                                     \n",
       "2004-02-10  8.120850  8.370673  8.108200  8.332726  1641400        0.0   \n",
       "2004-02-11  8.411778  8.452888  8.304259  8.402291  1280800        0.0   \n",
       "2004-02-12  8.383322  8.383322  8.187258  8.196745   950400        0.0   \n",
       "2004-02-13  8.301103  8.405460  8.073416  8.114526  1313400        0.0   \n",
       "2004-02-17  8.285291  8.291615  8.149311  8.212557  1207000        0.0   \n",
       "...              ...       ...       ...       ...      ...        ...   \n",
       "2004-07-07  7.921157  8.247901  7.898952  8.181284  2736200        0.0   \n",
       "2004-07-08  8.216181  8.225698  8.108323  8.209836  1169400        0.0   \n",
       "2004-07-09  8.216181  8.397000  8.184458  8.381139  1180000        0.0   \n",
       "2004-07-12  8.349415  8.352587  8.238386  8.276453  1076400        0.0   \n",
       "2004-07-13  8.203490  8.206662  8.105149  8.171767  1062400        0.0   \n",
       "\n",
       "            Stock Splits STOCK  \n",
       "Date                            \n",
       "2004-02-10             0    SU  \n",
       "2004-02-11             0    SU  \n",
       "2004-02-12             0    SU  \n",
       "2004-02-13             0    SU  \n",
       "2004-02-17             0    SU  \n",
       "...                  ...   ...  \n",
       "2004-07-07             0    SU  \n",
       "2004-07-08             0    SU  \n",
       "2004-07-09             0    SU  \n",
       "2004-07-12             0    SU  \n",
       "2004-07-13             0    SU  \n",
       "\n",
       "[106 rows x 8 columns]"
      ]
     },
     "execution_count": 95,
     "metadata": {},
     "output_type": "execute_result"
    }
   ],
   "source": [
    "import yfinance as yf\n",
    "\n",
    "#define the ticker symbol\n",
    "tickerSymbol = 'SU'\n",
    "\n",
    "#get data on this ticker\n",
    "tickerData = yf.Ticker(tickerSymbol)\n",
    "\n",
    "#get the historical prices for this ticker\n",
    "tickerDf = tickerData.history(period='1m', start=start_date, end=end_date)\n",
    "\n",
    "#see your data\n",
    "tickerDf[\"STOCK\"] = tickerSymbol\n",
    "tickerDf"
   ]
  },
  {
   "cell_type": "code",
   "execution_count": 61,
   "metadata": {},
   "outputs": [],
   "source": [
    "new_df = pd.merge(df2, tickerDf,  how='left', left_on=['STOCK','DATE'], right_on = ['STOCK','Date'])"
   ]
  },
  {
   "cell_type": "code",
   "execution_count": 136,
   "metadata": {},
   "outputs": [],
   "source": [
    "def calculate_returns(start_date, df):\n",
    "    returns = pd.DataFrame(columns=['DATE','STOCK','1MReturn','3MReturn','6MRerturn','12MReturn'])\n",
    "    \n",
    "    date1m = start_date + pd.DateOffset(months=1)\n",
    "    date3m = start_date + pd.DateOffset(months=3)\n",
    "    date6m = start_date + pd.DateOffset(months=6)\n",
    "    date12m = start_date +pd.DateOffset(months=12)\n",
    "\n",
    "    current = df.loc[start_date]\n",
    "    data1m = df.loc[date1m]\n",
    "    data3m = df.loc[date3m]\n",
    "    #data6m = df.loc[date6m]\n",
    "    #data12m = df.loc[date12m]\n",
    "\n",
    "    current = float(current['Close'])\n",
    "    data1m = float(data1m['Close'])\n",
    "    data3m = float(data3m['Close'])\n",
    "\n",
    "    return1m = (data1m - current)/current\n",
    "    return3m = (data3m - current)/current\n",
    "\n",
    "\n",
    "    returns = pd.DataFrame([[start_date,\"STOCK\",return1m, return3m]], columns=['DATE','STOCK','1MReturn',\"3MReturn\"])\n",
    "\n",
    " \n",
    "\n",
    "    return returns"
   ]
  },
  {
   "cell_type": "code",
   "execution_count": 137,
   "metadata": {},
   "outputs": [
    {
     "name": "stdout",
     "output_type": "stream",
     "text": [
      "        DATE  STOCK  1MReturn  3MReturn\n",
      "0 2004-02-11  STOCK  0.017189 -0.083814\n"
     ]
    }
   ],
   "source": [
    "test = calculate_returns(start_date, tickerDf)\n",
    "\n",
    "print(test)"
   ]
  },
  {
   "cell_type": "code",
   "execution_count": 106,
   "metadata": {},
   "outputs": [
    {
     "name": "stdout",
     "output_type": "stream",
     "text": [
      "2004-03-11 00:00:00\n",
      "2004-02-11 00:00:00\n"
     ]
    },
    {
     "data": {
      "text/plain": [
       "Open            8.51505\n",
       "High            8.64488\n",
       "Low             8.37888\n",
       "Close           8.54672\n",
       "Volume          1275000\n",
       "Dividends             0\n",
       "Stock Splits          0\n",
       "STOCK                SU\n",
       "Name: 2004-03-11 00:00:00, dtype: object"
      ]
     },
     "execution_count": 106,
     "metadata": {},
     "output_type": "execute_result"
    }
   ],
   "source": [
    "tempdate = start_date +pd.DateOffset(months=1)\n",
    "tickerDf.loc[start_date]\n",
    "\n",
    "print(tempdate)\n",
    "print(start_date)\n",
    "\n",
    "\n",
    "tickerDf.loc[tempdate]"
   ]
  }
 ],
 "metadata": {
  "interpreter": {
   "hash": "62b4da82ab8eed337ff08ff647fa9458abd70eb477e91c298b2b408b176a3f70"
  },
  "kernelspec": {
   "display_name": "Python 3.8.5 32-bit",
   "language": "python",
   "name": "python3"
  },
  "language_info": {
   "codemirror_mode": {
    "name": "ipython",
    "version": 3
   },
   "file_extension": ".py",
   "mimetype": "text/x-python",
   "name": "python",
   "nbconvert_exporter": "python",
   "pygments_lexer": "ipython3",
   "version": "3.8.5"
  },
  "orig_nbformat": 4
 },
 "nbformat": 4,
 "nbformat_minor": 2
}
