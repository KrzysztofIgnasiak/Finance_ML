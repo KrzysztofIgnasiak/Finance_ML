{
 "cells": [
  {
   "cell_type": "code",
   "execution_count": 28,
   "metadata": {},
   "outputs": [],
   "source": [
    "import matplotlib as mpl\n",
    "import matplotlib.pyplot as plt\n",
    "import seaborn as sns\n",
    "import numpy as np\n",
    "import pandas as pd\n",
    "import re\n",
    "import yfinance as yf\n",
    "import pandas_market_calendars as mcal\n",
    "import random\n",
    "import sweetviz as sv\n",
    "\n",
    "from sklearn import linear_model\n",
    "from sklearn.model_selection import train_test_split\n",
    "\n",
    "import plotly.express as px"
   ]
  },
  {
   "cell_type": "code",
   "execution_count": 3,
   "metadata": {},
   "outputs": [],
   "source": [
    "df = pd.read_csv('Assets\\CONVICTIONSUMMARY_270_opt3_best2(1).csv', sep='|')"
   ]
  },
  {
   "cell_type": "code",
   "execution_count": 4,
   "metadata": {},
   "outputs": [],
   "source": [
    "df2 = pd.DataFrame()\n",
    "df2 = df.loc[df['TYPE'] == 'MERGED']"
   ]
  },
  {
   "cell_type": "markdown",
   "metadata": {},
   "source": [
    "Extract Time and Date"
   ]
  },
  {
   "cell_type": "code",
   "execution_count": 5,
   "metadata": {},
   "outputs": [
    {
     "name": "stderr",
     "output_type": "stream",
     "text": [
      "<ipython-input-5-0de3e1e305d2>:1: SettingWithCopyWarning: \n",
      "A value is trying to be set on a copy of a slice from a DataFrame.\n",
      "Try using .loc[row_indexer,col_indexer] = value instead\n",
      "\n",
      "See the caveats in the documentation: https://pandas.pydata.org/pandas-docs/stable/user_guide/indexing.html#returning-a-view-versus-a-copy\n",
      "  df2[\"Time\"] = df2.apply(lambda row: re.split(\" \",row.DATE)[0], axis=1)\n",
      "<ipython-input-5-0de3e1e305d2>:3: SettingWithCopyWarning: \n",
      "A value is trying to be set on a copy of a slice from a DataFrame.\n",
      "Try using .loc[row_indexer,col_indexer] = value instead\n",
      "\n",
      "See the caveats in the documentation: https://pandas.pydata.org/pandas-docs/stable/user_guide/indexing.html#returning-a-view-versus-a-copy\n",
      "  df2[\"DATE\"] = df2.apply(lambda row: re.split(\" \",row.DATE)[-1],axis=1)\n"
     ]
    }
   ],
   "source": [
    "df2[\"Time\"] = df2.apply(lambda row: re.split(\" \",row.DATE)[0], axis=1)\n",
    "\n",
    "df2[\"DATE\"] = df2.apply(lambda row: re.split(\" \",row.DATE)[-1],axis=1)"
   ]
  },
  {
   "cell_type": "code",
   "execution_count": 6,
   "metadata": {},
   "outputs": [
    {
     "data": {
      "text/plain": [
       "DATE             object\n",
       "ID               object\n",
       "STOCK            object\n",
       "SECTOR           object\n",
       "TYPE             object\n",
       "CONVICTIONS     float64\n",
       "Time             object\n",
       "dtype: object"
      ]
     },
     "execution_count": 6,
     "metadata": {},
     "output_type": "execute_result"
    }
   ],
   "source": [
    "df2.dtypes"
   ]
  },
  {
   "cell_type": "code",
   "execution_count": 7,
   "metadata": {},
   "outputs": [
    {
     "name": "stderr",
     "output_type": "stream",
     "text": [
      "<ipython-input-7-3660468bee21>:1: SettingWithCopyWarning: \n",
      "A value is trying to be set on a copy of a slice from a DataFrame.\n",
      "Try using .loc[row_indexer,col_indexer] = value instead\n",
      "\n",
      "See the caveats in the documentation: https://pandas.pydata.org/pandas-docs/stable/user_guide/indexing.html#returning-a-view-versus-a-copy\n",
      "  df2['DATE'] = pd.to_datetime(\n"
     ]
    }
   ],
   "source": [
    "df2['DATE'] = pd.to_datetime(\n",
    "                          df2['DATE'],\n",
    "                          format='%Y-%m-%d')"
   ]
  },
  {
   "cell_type": "code",
   "execution_count": 8,
   "metadata": {},
   "outputs": [],
   "source": [
    "df2 = df2.sort_values(by=\"DATE\")"
   ]
  },
  {
   "cell_type": "markdown",
   "metadata": {},
   "source": [
    "## Cleaning"
   ]
  },
  {
   "cell_type": "code",
   "execution_count": 14,
   "metadata": {},
   "outputs": [],
   "source": [
    "df2.columns = ['DATE', 'ID', 'STOCK',\"SECTOR\",\"TYPE\",\"SCORE\",\"TIME\"]"
   ]
  },
  {
   "cell_type": "code",
   "execution_count": 15,
   "metadata": {},
   "outputs": [],
   "source": [
    "df2['SCORE']=df2['SCORE'].replace(0, np.nan)"
   ]
  },
  {
   "cell_type": "code",
   "execution_count": 79,
   "metadata": {},
   "outputs": [],
   "source": [
    "df2 = df2.loc[df2['SCORE'] != 0]"
   ]
  },
  {
   "cell_type": "markdown",
   "metadata": {},
   "source": [
    "## Adding returns"
   ]
  },
  {
   "cell_type": "markdown",
   "metadata": {},
   "source": [
    "### gettting info"
   ]
  },
  {
   "cell_type": "code",
   "execution_count": 21,
   "metadata": {},
   "outputs": [],
   "source": [
    "list_of_companies = df2[\"STOCK\"].unique()\n",
    "list_of_dates = df2[\"DATE\"].unique()"
   ]
  },
  {
   "cell_type": "code",
   "execution_count": 22,
   "metadata": {},
   "outputs": [],
   "source": [
    "start_date = df2.DATE.min()\n",
    "end_date = df2.DATE.max()"
   ]
  },
  {
   "cell_type": "code",
   "execution_count": 82,
   "metadata": {},
   "outputs": [
    {
     "name": "stdout",
     "output_type": "stream",
     "text": [
      "2005-07-14 00:00:00\n"
     ]
    }
   ],
   "source": [
    "final_date = end_date + pd.DateOffset(months=12)\n",
    "print(final_date)"
   ]
  },
  {
   "cell_type": "markdown",
   "metadata": {},
   "source": [
    "### Define functions"
   ]
  },
  {
   "cell_type": "code",
   "execution_count": 113,
   "metadata": {},
   "outputs": [],
   "source": [
    "def get_history_data(ticker_symbol, start_date, end_date):\n",
    "    tickerData = yf.Ticker(ticker_symbol)\n",
    "    tickerDf = tickerData.history(period='1d', start=start_date, end=end_date)\n",
    "    tickerDf[\"STOCK\"] = ticker_symbol\n",
    "\n",
    "    return tickerDf\n",
    "\n",
    "    "
   ]
  },
  {
   "cell_type": "code",
   "execution_count": 84,
   "metadata": {},
   "outputs": [],
   "source": [
    "def get_closest_trading_day(day,trading_days):\n",
    "    trading_days = trading_days[trading_days>=pd.to_datetime(day, utc=True)]\n",
    "    return trading_days.sort_values()[0]"
   ]
  },
  {
   "cell_type": "code",
   "execution_count": 112,
   "metadata": {},
   "outputs": [],
   "source": [
    "def get_traning_days(start_date, end_date,stock_market_name):\n",
    "    nyse = mcal.get_calendar(stock_market_name)\n",
    "    valid_days = nyse.valid_days(start_date=start_date, end_date=final_date)\n",
    "    return valid_days"
   ]
  },
  {
   "cell_type": "code",
   "execution_count": 111,
   "metadata": {},
   "outputs": [],
   "source": [
    "def get_return_on_date(date,df):\n",
    "  try:\n",
    "    x = df.loc[date]\n",
    "    x = float(x['Close'])\n",
    "  except:\n",
    "    x = 0.0\n",
    "  return x"
   ]
  },
  {
   "cell_type": "code",
   "execution_count": 87,
   "metadata": {},
   "outputs": [],
   "source": [
    "def calculate_returns(start_date, df, trading_days):\n",
    "    returns = pd.DataFrame(columns=['DATE','STOCK','1MReturn','3MReturn','6MRerturn','12MReturn'])\n",
    "    \n",
    "    date1m = get_closest_trading_day(start_date + pd.DateOffset(months=1),trading_days)\n",
    "    date3m = get_closest_trading_day(start_date + pd.DateOffset(months=3),trading_days)\n",
    "    date6m = get_closest_trading_day(start_date + pd.DateOffset(months=6),trading_days)\n",
    "    date12m = get_closest_trading_day(start_date + pd.DateOffset(months=12),trading_days)\n",
    "\n",
    "    name = df['STOCK']\n",
    "    try:\n",
    "        current = df.loc[start_date]\n",
    "    except:\n",
    "        return returns\n",
    "    data1m = get_return_on_date(date1m,df)\n",
    "    data3m = get_return_on_date(date3m,df)\n",
    "    data6m = get_return_on_date(date6m,df)\n",
    "    data12m = get_return_on_date(date12m,df)\n",
    "\n",
    "    current = float(current['Close'])\n",
    "\n",
    "    return1m = (data1m - current)/current\n",
    "    return3m = (data3m - current)/current\n",
    "    return6m = (data6m - current)/current\n",
    "    return12m = (data6m - current)/current\n",
    "\n",
    "\n",
    "    returns = pd.DataFrame([[start_date,name[0],return1m, return3m, return6m,return12m]], columns=['DATE','STOCK','1MReturn',\"3MReturn\",\"6MReturn\",\"12MReturn\"])\n",
    "\n",
    " \n",
    "\n",
    "    return returns"
   ]
  },
  {
   "cell_type": "code",
   "execution_count": 88,
   "metadata": {},
   "outputs": [],
   "source": [
    "def calculate_returns_for_date(list_of_dates,df,trading_days):\n",
    "    returns = pd.DataFrame(columns=['DATE','STOCK','1MReturn','3MReturn','6MReturn','12MReturn'])\n",
    "    for d in list_of_dates:\n",
    "        temp = calculate_returns(pd.to_datetime(d),df,trading_days)\n",
    "        \n",
    "        returns = returns.append(temp, ignore_index=True)\n",
    "    \n",
    "    return returns"
   ]
  },
  {
   "cell_type": "code",
   "execution_count": 89,
   "metadata": {},
   "outputs": [],
   "source": [
    "def calculate_returns_for_companies(list_of_dates,list_of_companies,start_date, end_date):\n",
    "    returns = pd.DataFrame(columns=['DATE','STOCK','1MReturn','3MReturn','6MReturn','12MReturn'])\n",
    "    trading_days = get_traning_days(start_date,end_date, \"NYSE\")\n",
    "    for c in list_of_companies:\n",
    "        c = c.replace(\".XX1\",\"\")\n",
    "        c = c.replace(\".XX2\",\"\")\n",
    "        data = get_history_data(c,start_date, end_date)\n",
    "        len_of_data = data.shape[0]\n",
    "        if len_of_data !=0:\n",
    "            returns_for_company = calculate_returns_for_date(list_of_dates,data,trading_days)\n",
    "            returns = returns.append(returns_for_company, ignore_index=True)\n",
    "        \n",
    "    return returns\n",
    "    "
   ]
  },
  {
   "cell_type": "markdown",
   "metadata": {},
   "source": [
    "### Get Data"
   ]
  },
  {
   "cell_type": "code",
   "execution_count": 182,
   "metadata": {},
   "outputs": [
    {
     "name": "stdout",
     "output_type": "stream",
     "text": [
      "- PKZ: No data found for this date range, symbol may be delisted\n",
      "- PALDF: No data found, symbol may be delisted\n",
      "- CHRS: Data doesn't exist for startDate = 1076454000, endDate = 1089756000\n",
      "- AGU: No data found for this date range, symbol may be delisted\n",
      "- BJS: No data found for this date range, symbol may be delisted\n",
      "- AAN: Data doesn't exist for startDate = 1076454000, endDate = 1089756000\n",
      "- NMG.B: No data found for this date range, symbol may be delisted\n",
      "- HBG: Data doesn't exist for startDate = 1076454000, endDate = 1089756000\n",
      "- SSINQ: No data found, symbol may be delisted\n",
      "- DSCP: No data found for this date range, symbol may be delisted\n",
      "- BRK.B: No data found, symbol may be delisted\n",
      "- EPL: No data found for this date range, symbol may be delisted\n",
      "- APCC.XX9: No data found, symbol may be delisted\n",
      "- PP.XX9: No data found, symbol may be delisted\n",
      "- INET1: No data found, symbol may be delisted\n",
      "- SYD: Data doesn't exist for startDate = 1076454000, endDate = 1089756000\n",
      "- SKO: Data doesn't exist for startDate = 1076454000, endDate = 1089756000\n",
      "- SWFT: No data found for this date range, symbol may be delisted\n",
      "- BNI: No data found for this date range, symbol may be delisted\n",
      "- TBL: No data found for this date range, symbol may be delisted\n",
      "- USG: No data found, symbol may be delisted\n",
      "- COL: Data doesn't exist for startDate = 1076454000, endDate = 1089756000\n",
      "- MTLQQ: No data found for this date range, symbol may be delisted\n",
      "- ASCA: Data doesn't exist for startDate = 1076454000, endDate = 1089756000\n",
      "- SPOK: Data doesn't exist for startDate = 1076454000, endDate = 1089756000\n",
      "- NMG.A: No data found, symbol may be delisted\n",
      "- OUTR: No data found for this date range, symbol may be delisted\n",
      "- ANN: No data found for this date range, symbol may be delisted\n",
      "- BGPIQ: No data found, symbol may be delisted\n",
      "- OMM: Data doesn't exist for startDate = 1076454000, endDate = 1089756000\n",
      "- CEPH: No data found for this date range, symbol may be delisted\n",
      "- DLM: Data doesn't exist for startDate = 1076454000, endDate = 1089756000\n",
      "- EFII: No data found, symbol may be delisted\n",
      "- NEV: Data doesn't exist for startDate = 1076454000, endDate = 1089756000\n",
      "- BRK.A: No data found, symbol may be delisted\n",
      "- SEM.XX9: No data found, symbol may be delisted\n",
      "- BRY: Data doesn't exist for startDate = 1076454000, endDate = 1089756000\n",
      "- PETM: Data doesn't exist for startDate = 1076454000, endDate = 1089756000\n",
      "- AXE: No data found, symbol may be delisted\n",
      "- RSHCQ: No data found for this date range, symbol may be delisted\n",
      "- MTLG: No data found for this date range, symbol may be delisted\n",
      "- LABH: No data found, symbol may be delisted\n",
      "- AOT: No data found for this date range, symbol may be delisted\n",
      "- BRP: Data doesn't exist for startDate = 1076454000, endDate = 1089756000\n",
      "- GTM: No data found for this date range, symbol may be delisted\n",
      "- TRK: No data found, symbol may be delisted\n",
      "- EDMC: No data found for this date range, symbol may be delisted\n"
     ]
    }
   ],
   "source": [
    "test = calculate_returns_for_companies(list_of_dates, list_of_companies[1:100],start_date, end_date)"
   ]
  },
  {
   "cell_type": "code",
   "execution_count": 183,
   "metadata": {},
   "outputs": [
    {
     "data": {
      "text/html": [
       "<div>\n",
       "<style scoped>\n",
       "    .dataframe tbody tr th:only-of-type {\n",
       "        vertical-align: middle;\n",
       "    }\n",
       "\n",
       "    .dataframe tbody tr th {\n",
       "        vertical-align: top;\n",
       "    }\n",
       "\n",
       "    .dataframe thead th {\n",
       "        text-align: right;\n",
       "    }\n",
       "</style>\n",
       "<table border=\"1\" class=\"dataframe\">\n",
       "  <thead>\n",
       "    <tr style=\"text-align: right;\">\n",
       "      <th></th>\n",
       "      <th>DATE</th>\n",
       "      <th>STOCK</th>\n",
       "      <th>1MReturn</th>\n",
       "      <th>3MReturn</th>\n",
       "      <th>6MReturn</th>\n",
       "      <th>12MReturn</th>\n",
       "      <th>6MRerturn</th>\n",
       "    </tr>\n",
       "  </thead>\n",
       "  <tbody>\n",
       "    <tr>\n",
       "      <th>0</th>\n",
       "      <td>2004-02-11</td>\n",
       "      <td>TTEK</td>\n",
       "      <td>-0.071624</td>\n",
       "      <td>-0.238595</td>\n",
       "      <td>-1.0</td>\n",
       "      <td>-1.0</td>\n",
       "      <td>NaN</td>\n",
       "    </tr>\n",
       "    <tr>\n",
       "      <th>1</th>\n",
       "      <td>2004-02-18</td>\n",
       "      <td>TTEK</td>\n",
       "      <td>-0.040246</td>\n",
       "      <td>-0.233428</td>\n",
       "      <td>-1.0</td>\n",
       "      <td>-1.0</td>\n",
       "      <td>NaN</td>\n",
       "    </tr>\n",
       "    <tr>\n",
       "      <th>2</th>\n",
       "      <td>2004-02-25</td>\n",
       "      <td>TTEK</td>\n",
       "      <td>-0.017266</td>\n",
       "      <td>-0.203357</td>\n",
       "      <td>-1.0</td>\n",
       "      <td>-1.0</td>\n",
       "      <td>NaN</td>\n",
       "    </tr>\n",
       "    <tr>\n",
       "      <th>3</th>\n",
       "      <td>2004-03-03</td>\n",
       "      <td>TTEK</td>\n",
       "      <td>0.073337</td>\n",
       "      <td>-0.151044</td>\n",
       "      <td>-1.0</td>\n",
       "      <td>-1.0</td>\n",
       "      <td>NaN</td>\n",
       "    </tr>\n",
       "    <tr>\n",
       "      <th>4</th>\n",
       "      <td>2004-03-10</td>\n",
       "      <td>TTEK</td>\n",
       "      <td>-0.006816</td>\n",
       "      <td>-0.154820</td>\n",
       "      <td>-1.0</td>\n",
       "      <td>-1.0</td>\n",
       "      <td>NaN</td>\n",
       "    </tr>\n",
       "  </tbody>\n",
       "</table>\n",
       "</div>"
      ],
      "text/plain": [
       "        DATE STOCK  1MReturn  3MReturn  6MReturn  12MReturn 6MRerturn\n",
       "0 2004-02-11  TTEK -0.071624 -0.238595      -1.0       -1.0       NaN\n",
       "1 2004-02-18  TTEK -0.040246 -0.233428      -1.0       -1.0       NaN\n",
       "2 2004-02-25  TTEK -0.017266 -0.203357      -1.0       -1.0       NaN\n",
       "3 2004-03-03  TTEK  0.073337 -0.151044      -1.0       -1.0       NaN\n",
       "4 2004-03-10  TTEK -0.006816 -0.154820      -1.0       -1.0       NaN"
      ]
     },
     "execution_count": 183,
     "metadata": {},
     "output_type": "execute_result"
    }
   ],
   "source": [
    "test.head()"
   ]
  },
  {
   "cell_type": "code",
   "execution_count": 184,
   "metadata": {},
   "outputs": [],
   "source": [
    "new_df = pd.merge(df2, test,  how='right', left_on=['DATE','STOCK'], right_on = ['DATE','STOCK'])\n"
   ]
  },
  {
   "cell_type": "code",
   "execution_count": 185,
   "metadata": {},
   "outputs": [
    {
     "data": {
      "text/html": [
       "<div>\n",
       "<style scoped>\n",
       "    .dataframe tbody tr th:only-of-type {\n",
       "        vertical-align: middle;\n",
       "    }\n",
       "\n",
       "    .dataframe tbody tr th {\n",
       "        vertical-align: top;\n",
       "    }\n",
       "\n",
       "    .dataframe thead th {\n",
       "        text-align: right;\n",
       "    }\n",
       "</style>\n",
       "<table border=\"1\" class=\"dataframe\">\n",
       "  <thead>\n",
       "    <tr style=\"text-align: right;\">\n",
       "      <th></th>\n",
       "      <th>DATE</th>\n",
       "      <th>ID</th>\n",
       "      <th>STOCK</th>\n",
       "      <th>SECTOR</th>\n",
       "      <th>TYPE</th>\n",
       "      <th>SCORE</th>\n",
       "      <th>TIME</th>\n",
       "      <th>1MReturn</th>\n",
       "      <th>3MReturn</th>\n",
       "      <th>6MReturn</th>\n",
       "      <th>12MReturn</th>\n",
       "      <th>6MRerturn</th>\n",
       "    </tr>\n",
       "  </thead>\n",
       "  <tbody>\n",
       "    <tr>\n",
       "      <th>0</th>\n",
       "      <td>2004-02-11</td>\n",
       "      <td>V60F1Z-R</td>\n",
       "      <td>TTEK</td>\n",
       "      <td>Industrial Services</td>\n",
       "      <td>MERGED</td>\n",
       "      <td>0.320429</td>\n",
       "      <td>10:01:54.408</td>\n",
       "      <td>-0.071624</td>\n",
       "      <td>-0.238595</td>\n",
       "      <td>-1.0</td>\n",
       "      <td>-1.0</td>\n",
       "      <td>NaN</td>\n",
       "    </tr>\n",
       "    <tr>\n",
       "      <th>1</th>\n",
       "      <td>2004-02-18</td>\n",
       "      <td>V60F1Z-R</td>\n",
       "      <td>TTEK</td>\n",
       "      <td>Industrial Services</td>\n",
       "      <td>MERGED</td>\n",
       "      <td>0.313523</td>\n",
       "      <td>10:01:55.720</td>\n",
       "      <td>-0.040246</td>\n",
       "      <td>-0.233428</td>\n",
       "      <td>-1.0</td>\n",
       "      <td>-1.0</td>\n",
       "      <td>NaN</td>\n",
       "    </tr>\n",
       "    <tr>\n",
       "      <th>2</th>\n",
       "      <td>2004-02-25</td>\n",
       "      <td>V60F1Z-R</td>\n",
       "      <td>TTEK</td>\n",
       "      <td>Industrial Services</td>\n",
       "      <td>MERGED</td>\n",
       "      <td>0.321246</td>\n",
       "      <td>10:01:56.309</td>\n",
       "      <td>-0.017266</td>\n",
       "      <td>-0.203357</td>\n",
       "      <td>-1.0</td>\n",
       "      <td>-1.0</td>\n",
       "      <td>NaN</td>\n",
       "    </tr>\n",
       "    <tr>\n",
       "      <th>3</th>\n",
       "      <td>2004-03-03</td>\n",
       "      <td>V60F1Z-R</td>\n",
       "      <td>TTEK</td>\n",
       "      <td>Industrial Services</td>\n",
       "      <td>MERGED</td>\n",
       "      <td>0.320851</td>\n",
       "      <td>10:01:57.220</td>\n",
       "      <td>0.073337</td>\n",
       "      <td>-0.151044</td>\n",
       "      <td>-1.0</td>\n",
       "      <td>-1.0</td>\n",
       "      <td>NaN</td>\n",
       "    </tr>\n",
       "    <tr>\n",
       "      <th>4</th>\n",
       "      <td>2004-03-10</td>\n",
       "      <td>V60F1Z-R</td>\n",
       "      <td>TTEK</td>\n",
       "      <td>Industrial Services</td>\n",
       "      <td>MERGED</td>\n",
       "      <td>0.322088</td>\n",
       "      <td>10:01:58.763</td>\n",
       "      <td>-0.006816</td>\n",
       "      <td>-0.154820</td>\n",
       "      <td>-1.0</td>\n",
       "      <td>-1.0</td>\n",
       "      <td>NaN</td>\n",
       "    </tr>\n",
       "  </tbody>\n",
       "</table>\n",
       "</div>"
      ],
      "text/plain": [
       "        DATE        ID STOCK               SECTOR    TYPE     SCORE  \\\n",
       "0 2004-02-11  V60F1Z-R  TTEK  Industrial Services  MERGED  0.320429   \n",
       "1 2004-02-18  V60F1Z-R  TTEK  Industrial Services  MERGED  0.313523   \n",
       "2 2004-02-25  V60F1Z-R  TTEK  Industrial Services  MERGED  0.321246   \n",
       "3 2004-03-03  V60F1Z-R  TTEK  Industrial Services  MERGED  0.320851   \n",
       "4 2004-03-10  V60F1Z-R  TTEK  Industrial Services  MERGED  0.322088   \n",
       "\n",
       "           TIME  1MReturn  3MReturn  6MReturn  12MReturn 6MRerturn  \n",
       "0  10:01:54.408 -0.071624 -0.238595      -1.0       -1.0       NaN  \n",
       "1  10:01:55.720 -0.040246 -0.233428      -1.0       -1.0       NaN  \n",
       "2  10:01:56.309 -0.017266 -0.203357      -1.0       -1.0       NaN  \n",
       "3  10:01:57.220  0.073337 -0.151044      -1.0       -1.0       NaN  \n",
       "4  10:01:58.763 -0.006816 -0.154820      -1.0       -1.0       NaN  "
      ]
     },
     "execution_count": 185,
     "metadata": {},
     "output_type": "execute_result"
    }
   ],
   "source": [
    "new_df.head()"
   ]
  },
  {
   "cell_type": "markdown",
   "metadata": {},
   "source": [
    "### Aditional data"
   ]
  },
  {
   "cell_type": "markdown",
   "metadata": {},
   "source": [
    "## Simply Regression"
   ]
  },
  {
   "cell_type": "markdown",
   "metadata": {},
   "source": [
    "### 1 month"
   ]
  },
  {
   "cell_type": "code",
   "execution_count": 166,
   "metadata": {},
   "outputs": [],
   "source": [
    "regression_data = new_df.filter(['SCORE',\"1MReturn\"],axis=1)\n",
    "regression_data.dropna(inplace = True)\n",
    "X = regression_data.filter(['SCORE'], axis=1)\n",
    "Y = regression_data.filter(['1MReturn'], axis=1)\n",
    "\n",
    "lm = linear_model.LinearRegression()"
   ]
  },
  {
   "cell_type": "code",
   "execution_count": 167,
   "metadata": {},
   "outputs": [
    {
     "name": "stdout",
     "output_type": "stream",
     "text": [
      "Intercept: \n",
      " [-0.27868712]\n",
      "Coefficients: \n",
      " [[0.52452624]]\n"
     ]
    }
   ],
   "source": [
    "model = lm.fit(X,Y)\n",
    "\n",
    "print(\"Intercept: \\n\", lm.intercept_)\n",
    "print(\"Coefficients: \\n\", lm.coef_)"
   ]
  },
  {
   "cell_type": "code",
   "execution_count": 168,
   "metadata": {},
   "outputs": [],
   "source": [
    "predictions = lm.predict(X)"
   ]
  },
  {
   "cell_type": "code",
   "execution_count": 169,
   "metadata": {},
   "outputs": [
    {
     "data": {
      "text/plain": [
       "0.019749343191932667"
      ]
     },
     "execution_count": 169,
     "metadata": {},
     "output_type": "execute_result"
    }
   ],
   "source": [
    "lm.score(X,Y) "
   ]
  },
  {
   "cell_type": "markdown",
   "metadata": {},
   "source": [
    "### 3 months"
   ]
  },
  {
   "cell_type": "code",
   "execution_count": 186,
   "metadata": {},
   "outputs": [],
   "source": [
    "regression_data = new_df.filter(['SCORE',\"3MReturn\",\"STOCK\"],axis=1)\n",
    "regression_data.dropna(inplace = True)\n",
    "\n",
    "companies_in_sample = regression_data[\"STOCK\"].unique()\n",
    "\n",
    "companies_train, companies_test = train_test_split(companies_in_sample, test_size=0.2,random_state =2)   "
   ]
  },
  {
   "cell_type": "code",
   "execution_count": 189,
   "metadata": {},
   "outputs": [],
   "source": [
    "train_data = regression_data[regression_data['STOCK'].isin(companies_train)]\n",
    "test_data = regression_data[regression_data['STOCK'].isin(companies_test)]"
   ]
  },
  {
   "cell_type": "code",
   "execution_count": 190,
   "metadata": {},
   "outputs": [],
   "source": [
    "X_train = train_data.filter(['SCORE'], axis=1)\n",
    "Y_train = train_data.filter(['3MReturn'], axis=1)\n",
    "\n",
    "X_test = test_data.filter([\"SCORE\"],axis=1)\n",
    "Y_train - test_data.filter([\"3MReturn\"],axis=1)\n",
    "\n",
    "\n",
    "lm3 = linear_model.LinearRegression()"
   ]
  },
  {
   "cell_type": "code",
   "execution_count": 191,
   "metadata": {},
   "outputs": [
    {
     "name": "stdout",
     "output_type": "stream",
     "text": [
      "Intercept: \n",
      " [-0.37580189]\n",
      "Coefficients: \n",
      " [[-0.38539599]]\n"
     ]
    }
   ],
   "source": [
    "model = lm3.fit(X_train,Y_train)\n",
    "\n",
    "print(\"Intercept: \\n\", lm3.intercept_)\n",
    "print(\"Coefficients: \\n\", lm3.coef_)"
   ]
  },
  {
   "cell_type": "code",
   "execution_count": 193,
   "metadata": {},
   "outputs": [
    {
     "data": {
      "text/plain": [
       "0.007003022434370121"
      ]
     },
     "execution_count": 193,
     "metadata": {},
     "output_type": "execute_result"
    }
   ],
   "source": [
    "lm3.score(X_train,Y_train) "
   ]
  },
  {
   "cell_type": "code",
   "execution_count": null,
   "metadata": {},
   "outputs": [],
   "source": []
  },
  {
   "cell_type": "markdown",
   "metadata": {},
   "source": [
    "## Exploratory analysis"
   ]
  },
  {
   "cell_type": "code",
   "execution_count": 16,
   "metadata": {},
   "outputs": [
    {
     "name": "stderr",
     "output_type": "stream",
     "text": [
      "Done! Use 'show' commands to display/save.   |██████████| [100%]   00:00 -> (00:00 left)\n"
     ]
    }
   ],
   "source": [
    "sweet_report = sv.analyze(df2)"
   ]
  },
  {
   "cell_type": "code",
   "execution_count": 17,
   "metadata": {},
   "outputs": [
    {
     "name": "stdout",
     "output_type": "stream",
     "text": [
      "Report sweet_report.html was generated! NOTEBOOK/COLAB USERS: the web browser MAY not pop up, regardless, the report IS saved in your notebook/colab files.\n"
     ]
    }
   ],
   "source": [
    "sweet_report.show_html('sweet_report.html')"
   ]
  },
  {
   "cell_type": "markdown",
   "metadata": {},
   "source": [
    " 23% of all scores are nulls"
   ]
  },
  {
   "cell_type": "markdown",
   "metadata": {},
   "source": [
    "many companies dont have historical stock prices"
   ]
  },
  {
   "cell_type": "code",
   "execution_count": 29,
   "metadata": {},
   "outputs": [],
   "source": [
    "stock_with_score_by_date = df2[df2['SCORE'].notna()].groupby('DATE')['STOCK'].nunique()"
   ]
  },
  {
   "cell_type": "code",
   "execution_count": 30,
   "metadata": {},
   "outputs": [],
   "source": [
    "stock_with_dates_count = df2[df2['SCORE'].notna()].groupby('STOCK')['DATE'].nunique()\n"
   ]
  },
  {
   "cell_type": "code",
   "execution_count": 31,
   "metadata": {},
   "outputs": [
    {
     "data": {
      "text/plain": [
       "pandas.core.series.Series"
      ]
     },
     "execution_count": 31,
     "metadata": {},
     "output_type": "execute_result"
    }
   ],
   "source": [
    "type(stock_with_score_by_date)"
   ]
  },
  {
   "cell_type": "code",
   "execution_count": 36,
   "metadata": {},
   "outputs": [
    {
     "data": {
      "application/vnd.plotly.v1+json": {
       "config": {
        "plotlyServerURL": "https://plot.ly"
       },
       "data": [
        {
         "hovertemplate": "variable=STOCK<br>DATE=%{x}<br>value=%{y}<extra></extra>",
         "legendgroup": "STOCK",
         "line": {
          "color": "#636efa",
          "dash": "solid"
         },
         "marker": {
          "symbol": "circle"
         },
         "mode": "lines",
         "name": "STOCK",
         "orientation": "v",
         "showlegend": true,
         "type": "scatter",
         "x": [
          "2004-02-11T00:00:00",
          "2004-02-18T00:00:00",
          "2004-02-25T00:00:00",
          "2004-03-03T00:00:00",
          "2004-03-10T00:00:00",
          "2004-03-17T00:00:00",
          "2004-03-24T00:00:00",
          "2004-03-31T00:00:00",
          "2004-04-07T00:00:00",
          "2004-04-14T00:00:00",
          "2004-04-21T00:00:00",
          "2004-04-28T00:00:00",
          "2004-05-05T00:00:00",
          "2004-05-12T00:00:00",
          "2004-05-19T00:00:00",
          "2004-05-26T00:00:00",
          "2004-06-02T00:00:00",
          "2004-06-09T00:00:00",
          "2004-06-16T00:00:00",
          "2004-06-23T00:00:00",
          "2004-06-30T00:00:00",
          "2004-07-07T00:00:00",
          "2004-07-14T00:00:00"
         ],
         "xaxis": "x",
         "y": [
          536,
          536,
          535,
          543,
          552,
          553,
          554,
          616,
          615,
          608,
          615,
          621,
          643,
          669,
          665,
          665,
          683,
          686,
          688,
          689,
          719,
          719,
          718
         ],
         "yaxis": "y"
        }
       ],
       "layout": {
        "legend": {
         "title": {
          "text": "variable"
         },
         "tracegroupgap": 0
        },
        "template": {
         "data": {
          "bar": [
           {
            "error_x": {
             "color": "#2a3f5f"
            },
            "error_y": {
             "color": "#2a3f5f"
            },
            "marker": {
             "line": {
              "color": "#E5ECF6",
              "width": 0.5
             },
             "pattern": {
              "fillmode": "overlay",
              "size": 10,
              "solidity": 0.2
             }
            },
            "type": "bar"
           }
          ],
          "barpolar": [
           {
            "marker": {
             "line": {
              "color": "#E5ECF6",
              "width": 0.5
             },
             "pattern": {
              "fillmode": "overlay",
              "size": 10,
              "solidity": 0.2
             }
            },
            "type": "barpolar"
           }
          ],
          "carpet": [
           {
            "aaxis": {
             "endlinecolor": "#2a3f5f",
             "gridcolor": "white",
             "linecolor": "white",
             "minorgridcolor": "white",
             "startlinecolor": "#2a3f5f"
            },
            "baxis": {
             "endlinecolor": "#2a3f5f",
             "gridcolor": "white",
             "linecolor": "white",
             "minorgridcolor": "white",
             "startlinecolor": "#2a3f5f"
            },
            "type": "carpet"
           }
          ],
          "choropleth": [
           {
            "colorbar": {
             "outlinewidth": 0,
             "ticks": ""
            },
            "type": "choropleth"
           }
          ],
          "contour": [
           {
            "colorbar": {
             "outlinewidth": 0,
             "ticks": ""
            },
            "colorscale": [
             [
              0,
              "#0d0887"
             ],
             [
              0.1111111111111111,
              "#46039f"
             ],
             [
              0.2222222222222222,
              "#7201a8"
             ],
             [
              0.3333333333333333,
              "#9c179e"
             ],
             [
              0.4444444444444444,
              "#bd3786"
             ],
             [
              0.5555555555555556,
              "#d8576b"
             ],
             [
              0.6666666666666666,
              "#ed7953"
             ],
             [
              0.7777777777777778,
              "#fb9f3a"
             ],
             [
              0.8888888888888888,
              "#fdca26"
             ],
             [
              1,
              "#f0f921"
             ]
            ],
            "type": "contour"
           }
          ],
          "contourcarpet": [
           {
            "colorbar": {
             "outlinewidth": 0,
             "ticks": ""
            },
            "type": "contourcarpet"
           }
          ],
          "heatmap": [
           {
            "colorbar": {
             "outlinewidth": 0,
             "ticks": ""
            },
            "colorscale": [
             [
              0,
              "#0d0887"
             ],
             [
              0.1111111111111111,
              "#46039f"
             ],
             [
              0.2222222222222222,
              "#7201a8"
             ],
             [
              0.3333333333333333,
              "#9c179e"
             ],
             [
              0.4444444444444444,
              "#bd3786"
             ],
             [
              0.5555555555555556,
              "#d8576b"
             ],
             [
              0.6666666666666666,
              "#ed7953"
             ],
             [
              0.7777777777777778,
              "#fb9f3a"
             ],
             [
              0.8888888888888888,
              "#fdca26"
             ],
             [
              1,
              "#f0f921"
             ]
            ],
            "type": "heatmap"
           }
          ],
          "heatmapgl": [
           {
            "colorbar": {
             "outlinewidth": 0,
             "ticks": ""
            },
            "colorscale": [
             [
              0,
              "#0d0887"
             ],
             [
              0.1111111111111111,
              "#46039f"
             ],
             [
              0.2222222222222222,
              "#7201a8"
             ],
             [
              0.3333333333333333,
              "#9c179e"
             ],
             [
              0.4444444444444444,
              "#bd3786"
             ],
             [
              0.5555555555555556,
              "#d8576b"
             ],
             [
              0.6666666666666666,
              "#ed7953"
             ],
             [
              0.7777777777777778,
              "#fb9f3a"
             ],
             [
              0.8888888888888888,
              "#fdca26"
             ],
             [
              1,
              "#f0f921"
             ]
            ],
            "type": "heatmapgl"
           }
          ],
          "histogram": [
           {
            "marker": {
             "pattern": {
              "fillmode": "overlay",
              "size": 10,
              "solidity": 0.2
             }
            },
            "type": "histogram"
           }
          ],
          "histogram2d": [
           {
            "colorbar": {
             "outlinewidth": 0,
             "ticks": ""
            },
            "colorscale": [
             [
              0,
              "#0d0887"
             ],
             [
              0.1111111111111111,
              "#46039f"
             ],
             [
              0.2222222222222222,
              "#7201a8"
             ],
             [
              0.3333333333333333,
              "#9c179e"
             ],
             [
              0.4444444444444444,
              "#bd3786"
             ],
             [
              0.5555555555555556,
              "#d8576b"
             ],
             [
              0.6666666666666666,
              "#ed7953"
             ],
             [
              0.7777777777777778,
              "#fb9f3a"
             ],
             [
              0.8888888888888888,
              "#fdca26"
             ],
             [
              1,
              "#f0f921"
             ]
            ],
            "type": "histogram2d"
           }
          ],
          "histogram2dcontour": [
           {
            "colorbar": {
             "outlinewidth": 0,
             "ticks": ""
            },
            "colorscale": [
             [
              0,
              "#0d0887"
             ],
             [
              0.1111111111111111,
              "#46039f"
             ],
             [
              0.2222222222222222,
              "#7201a8"
             ],
             [
              0.3333333333333333,
              "#9c179e"
             ],
             [
              0.4444444444444444,
              "#bd3786"
             ],
             [
              0.5555555555555556,
              "#d8576b"
             ],
             [
              0.6666666666666666,
              "#ed7953"
             ],
             [
              0.7777777777777778,
              "#fb9f3a"
             ],
             [
              0.8888888888888888,
              "#fdca26"
             ],
             [
              1,
              "#f0f921"
             ]
            ],
            "type": "histogram2dcontour"
           }
          ],
          "mesh3d": [
           {
            "colorbar": {
             "outlinewidth": 0,
             "ticks": ""
            },
            "type": "mesh3d"
           }
          ],
          "parcoords": [
           {
            "line": {
             "colorbar": {
              "outlinewidth": 0,
              "ticks": ""
             }
            },
            "type": "parcoords"
           }
          ],
          "pie": [
           {
            "automargin": true,
            "type": "pie"
           }
          ],
          "scatter": [
           {
            "marker": {
             "colorbar": {
              "outlinewidth": 0,
              "ticks": ""
             }
            },
            "type": "scatter"
           }
          ],
          "scatter3d": [
           {
            "line": {
             "colorbar": {
              "outlinewidth": 0,
              "ticks": ""
             }
            },
            "marker": {
             "colorbar": {
              "outlinewidth": 0,
              "ticks": ""
             }
            },
            "type": "scatter3d"
           }
          ],
          "scattercarpet": [
           {
            "marker": {
             "colorbar": {
              "outlinewidth": 0,
              "ticks": ""
             }
            },
            "type": "scattercarpet"
           }
          ],
          "scattergeo": [
           {
            "marker": {
             "colorbar": {
              "outlinewidth": 0,
              "ticks": ""
             }
            },
            "type": "scattergeo"
           }
          ],
          "scattergl": [
           {
            "marker": {
             "colorbar": {
              "outlinewidth": 0,
              "ticks": ""
             }
            },
            "type": "scattergl"
           }
          ],
          "scattermapbox": [
           {
            "marker": {
             "colorbar": {
              "outlinewidth": 0,
              "ticks": ""
             }
            },
            "type": "scattermapbox"
           }
          ],
          "scatterpolar": [
           {
            "marker": {
             "colorbar": {
              "outlinewidth": 0,
              "ticks": ""
             }
            },
            "type": "scatterpolar"
           }
          ],
          "scatterpolargl": [
           {
            "marker": {
             "colorbar": {
              "outlinewidth": 0,
              "ticks": ""
             }
            },
            "type": "scatterpolargl"
           }
          ],
          "scatterternary": [
           {
            "marker": {
             "colorbar": {
              "outlinewidth": 0,
              "ticks": ""
             }
            },
            "type": "scatterternary"
           }
          ],
          "surface": [
           {
            "colorbar": {
             "outlinewidth": 0,
             "ticks": ""
            },
            "colorscale": [
             [
              0,
              "#0d0887"
             ],
             [
              0.1111111111111111,
              "#46039f"
             ],
             [
              0.2222222222222222,
              "#7201a8"
             ],
             [
              0.3333333333333333,
              "#9c179e"
             ],
             [
              0.4444444444444444,
              "#bd3786"
             ],
             [
              0.5555555555555556,
              "#d8576b"
             ],
             [
              0.6666666666666666,
              "#ed7953"
             ],
             [
              0.7777777777777778,
              "#fb9f3a"
             ],
             [
              0.8888888888888888,
              "#fdca26"
             ],
             [
              1,
              "#f0f921"
             ]
            ],
            "type": "surface"
           }
          ],
          "table": [
           {
            "cells": {
             "fill": {
              "color": "#EBF0F8"
             },
             "line": {
              "color": "white"
             }
            },
            "header": {
             "fill": {
              "color": "#C8D4E3"
             },
             "line": {
              "color": "white"
             }
            },
            "type": "table"
           }
          ]
         },
         "layout": {
          "annotationdefaults": {
           "arrowcolor": "#2a3f5f",
           "arrowhead": 0,
           "arrowwidth": 1
          },
          "autotypenumbers": "strict",
          "coloraxis": {
           "colorbar": {
            "outlinewidth": 0,
            "ticks": ""
           }
          },
          "colorscale": {
           "diverging": [
            [
             0,
             "#8e0152"
            ],
            [
             0.1,
             "#c51b7d"
            ],
            [
             0.2,
             "#de77ae"
            ],
            [
             0.3,
             "#f1b6da"
            ],
            [
             0.4,
             "#fde0ef"
            ],
            [
             0.5,
             "#f7f7f7"
            ],
            [
             0.6,
             "#e6f5d0"
            ],
            [
             0.7,
             "#b8e186"
            ],
            [
             0.8,
             "#7fbc41"
            ],
            [
             0.9,
             "#4d9221"
            ],
            [
             1,
             "#276419"
            ]
           ],
           "sequential": [
            [
             0,
             "#0d0887"
            ],
            [
             0.1111111111111111,
             "#46039f"
            ],
            [
             0.2222222222222222,
             "#7201a8"
            ],
            [
             0.3333333333333333,
             "#9c179e"
            ],
            [
             0.4444444444444444,
             "#bd3786"
            ],
            [
             0.5555555555555556,
             "#d8576b"
            ],
            [
             0.6666666666666666,
             "#ed7953"
            ],
            [
             0.7777777777777778,
             "#fb9f3a"
            ],
            [
             0.8888888888888888,
             "#fdca26"
            ],
            [
             1,
             "#f0f921"
            ]
           ],
           "sequentialminus": [
            [
             0,
             "#0d0887"
            ],
            [
             0.1111111111111111,
             "#46039f"
            ],
            [
             0.2222222222222222,
             "#7201a8"
            ],
            [
             0.3333333333333333,
             "#9c179e"
            ],
            [
             0.4444444444444444,
             "#bd3786"
            ],
            [
             0.5555555555555556,
             "#d8576b"
            ],
            [
             0.6666666666666666,
             "#ed7953"
            ],
            [
             0.7777777777777778,
             "#fb9f3a"
            ],
            [
             0.8888888888888888,
             "#fdca26"
            ],
            [
             1,
             "#f0f921"
            ]
           ]
          },
          "colorway": [
           "#636efa",
           "#EF553B",
           "#00cc96",
           "#ab63fa",
           "#FFA15A",
           "#19d3f3",
           "#FF6692",
           "#B6E880",
           "#FF97FF",
           "#FECB52"
          ],
          "font": {
           "color": "#2a3f5f"
          },
          "geo": {
           "bgcolor": "white",
           "lakecolor": "white",
           "landcolor": "#E5ECF6",
           "showlakes": true,
           "showland": true,
           "subunitcolor": "white"
          },
          "hoverlabel": {
           "align": "left"
          },
          "hovermode": "closest",
          "mapbox": {
           "style": "light"
          },
          "paper_bgcolor": "white",
          "plot_bgcolor": "#E5ECF6",
          "polar": {
           "angularaxis": {
            "gridcolor": "white",
            "linecolor": "white",
            "ticks": ""
           },
           "bgcolor": "#E5ECF6",
           "radialaxis": {
            "gridcolor": "white",
            "linecolor": "white",
            "ticks": ""
           }
          },
          "scene": {
           "xaxis": {
            "backgroundcolor": "#E5ECF6",
            "gridcolor": "white",
            "gridwidth": 2,
            "linecolor": "white",
            "showbackground": true,
            "ticks": "",
            "zerolinecolor": "white"
           },
           "yaxis": {
            "backgroundcolor": "#E5ECF6",
            "gridcolor": "white",
            "gridwidth": 2,
            "linecolor": "white",
            "showbackground": true,
            "ticks": "",
            "zerolinecolor": "white"
           },
           "zaxis": {
            "backgroundcolor": "#E5ECF6",
            "gridcolor": "white",
            "gridwidth": 2,
            "linecolor": "white",
            "showbackground": true,
            "ticks": "",
            "zerolinecolor": "white"
           }
          },
          "shapedefaults": {
           "line": {
            "color": "#2a3f5f"
           }
          },
          "ternary": {
           "aaxis": {
            "gridcolor": "white",
            "linecolor": "white",
            "ticks": ""
           },
           "baxis": {
            "gridcolor": "white",
            "linecolor": "white",
            "ticks": ""
           },
           "bgcolor": "#E5ECF6",
           "caxis": {
            "gridcolor": "white",
            "linecolor": "white",
            "ticks": ""
           }
          },
          "title": {
           "x": 0.05
          },
          "xaxis": {
           "automargin": true,
           "gridcolor": "white",
           "linecolor": "white",
           "ticks": "",
           "title": {
            "standoff": 15
           },
           "zerolinecolor": "white",
           "zerolinewidth": 2
          },
          "yaxis": {
           "automargin": true,
           "gridcolor": "white",
           "linecolor": "white",
           "ticks": "",
           "title": {
            "standoff": 15
           },
           "zerolinecolor": "white",
           "zerolinewidth": 2
          }
         }
        },
        "title": {
         "text": "number of Stocks in dates"
        },
        "xaxis": {
         "anchor": "y",
         "domain": [
          0,
          1
         ],
         "dtick": "M1",
         "rangeslider": {
          "visible": true
         },
         "title": {
          "text": "DATE"
         }
        },
        "yaxis": {
         "anchor": "x",
         "domain": [
          0,
          1
         ],
         "title": {
          "text": "value"
         }
        }
       }
      }
     },
     "metadata": {},
     "output_type": "display_data"
    }
   ],
   "source": [
    "fig = px.line(stock_with_score_by_date,title=\"number of Stocks in dates\")\n",
    "fig.update_xaxes(\n",
    "    dtick=\"M1\",rangeslider_visible=True)\n",
    "fig.show()"
   ]
  }
 ],
 "metadata": {
  "interpreter": {
   "hash": "62b4da82ab8eed337ff08ff647fa9458abd70eb477e91c298b2b408b176a3f70"
  },
  "kernelspec": {
   "display_name": "Python 3.8.5 32-bit",
   "language": "python",
   "name": "python3"
  },
  "language_info": {
   "codemirror_mode": {
    "name": "ipython",
    "version": 3
   },
   "file_extension": ".py",
   "mimetype": "text/x-python",
   "name": "python",
   "nbconvert_exporter": "python",
   "pygments_lexer": "ipython3",
   "version": "3.8.5"
  },
  "orig_nbformat": 4
 },
 "nbformat": 4,
 "nbformat_minor": 2
}
