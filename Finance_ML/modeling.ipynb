{
 "cells": [
  {
   "cell_type": "code",
   "execution_count": 1,
   "metadata": {},
   "outputs": [],
   "source": [
    "import numpy as np\n",
    "import pandas as pd\n",
    "\n",
    "import h2o\n",
    "from h2o.automl import H2OAutoML\n",
    "from sklearn.model_selection import train_test_split\n",
    "import plotly.express as px"
   ]
  },
  {
   "cell_type": "markdown",
   "metadata": {},
   "source": [
    "Preparing data"
   ]
  },
  {
   "cell_type": "code",
   "execution_count": 2,
   "metadata": {},
   "outputs": [],
   "source": [
    "data = pd.read_csv('data_to_forecast.csv')"
   ]
  },
  {
   "cell_type": "code",
   "execution_count": 3,
   "metadata": {},
   "outputs": [],
   "source": [
    "## formating date\n",
    "data['DATE'] = pd.to_datetime(\n",
    "                          data['DATE'],\n",
    "                          format='%Y-%m-%d')"
   ]
  },
  {
   "cell_type": "code",
   "execution_count": 4,
   "metadata": {},
   "outputs": [],
   "source": [
    "## sorting\n",
    "data = data.sort_values(by=\"DATE\")"
   ]
  },
  {
   "cell_type": "code",
   "execution_count": 5,
   "metadata": {},
   "outputs": [],
   "source": [
    "list_of_dates = data[\"DATE\"].unique()"
   ]
  },
  {
   "cell_type": "code",
   "execution_count": 6,
   "metadata": {},
   "outputs": [
    {
     "data": {
      "text/plain": [
       "array(['2004-02-11T00:00:00.000000000', '2004-02-18T00:00:00.000000000',\n",
       "       '2004-02-25T00:00:00.000000000', '2004-03-03T00:00:00.000000000',\n",
       "       '2004-03-10T00:00:00.000000000', '2004-03-17T00:00:00.000000000',\n",
       "       '2004-03-24T00:00:00.000000000', '2004-03-31T00:00:00.000000000',\n",
       "       '2004-04-07T00:00:00.000000000', '2004-04-14T00:00:00.000000000',\n",
       "       '2004-04-21T00:00:00.000000000', '2004-04-28T00:00:00.000000000',\n",
       "       '2004-05-05T00:00:00.000000000', '2004-05-12T00:00:00.000000000',\n",
       "       '2004-05-19T00:00:00.000000000', '2004-05-26T00:00:00.000000000',\n",
       "       '2004-06-02T00:00:00.000000000', '2004-06-09T00:00:00.000000000',\n",
       "       '2004-06-16T00:00:00.000000000', '2004-06-23T00:00:00.000000000',\n",
       "       '2004-06-30T00:00:00.000000000', '2004-07-07T00:00:00.000000000'],\n",
       "      dtype='datetime64[ns]')"
      ]
     },
     "execution_count": 6,
     "metadata": {},
     "output_type": "execute_result"
    }
   ],
   "source": [
    "list_of_dates"
   ]
  },
  {
   "cell_type": "code",
   "execution_count": 7,
   "metadata": {},
   "outputs": [],
   "source": [
    "train = data[(data['DATE'] < '2004-06-02')]\n",
    "test = data[(data['DATE'] >= '2004-06-02')]"
   ]
  },
  {
   "cell_type": "code",
   "execution_count": 8,
   "metadata": {},
   "outputs": [],
   "source": [
    "cols_to_keep = ['SCORE',\"1MReturn\"]\n",
    "train_1m = train.loc[:, cols_to_keep]"
   ]
  },
  {
   "cell_type": "code",
   "execution_count": 9,
   "metadata": {},
   "outputs": [
    {
     "name": "stdout",
     "output_type": "stream",
     "text": [
      "Checking whether there is an H2O instance running at http://localhost:54321 . connected.\n"
     ]
    },
    {
     "data": {
      "text/html": [
       "<div style=\"overflow:auto\"><table style=\"width:50%\"><tr><td>H2O_cluster_uptime:</td>\n",
       "<td>59 mins 07 secs</td></tr>\n",
       "<tr><td>H2O_cluster_timezone:</td>\n",
       "<td>Europe/Warsaw</td></tr>\n",
       "<tr><td>H2O_data_parsing_timezone:</td>\n",
       "<td>UTC</td></tr>\n",
       "<tr><td>H2O_cluster_version:</td>\n",
       "<td>3.36.1.2</td></tr>\n",
       "<tr><td>H2O_cluster_version_age:</td>\n",
       "<td>5 days </td></tr>\n",
       "<tr><td>H2O_cluster_name:</td>\n",
       "<td>H2O_from_python_Krzysztof_9n4x71</td></tr>\n",
       "<tr><td>H2O_cluster_total_nodes:</td>\n",
       "<td>1</td></tr>\n",
       "<tr><td>H2O_cluster_free_memory:</td>\n",
       "<td>1.846 Gb</td></tr>\n",
       "<tr><td>H2O_cluster_total_cores:</td>\n",
       "<td>4</td></tr>\n",
       "<tr><td>H2O_cluster_allowed_cores:</td>\n",
       "<td>4</td></tr>\n",
       "<tr><td>H2O_cluster_status:</td>\n",
       "<td>locked, healthy</td></tr>\n",
       "<tr><td>H2O_connection_url:</td>\n",
       "<td>http://localhost:54321</td></tr>\n",
       "<tr><td>H2O_connection_proxy:</td>\n",
       "<td>{\"http\": null, \"https\": null}</td></tr>\n",
       "<tr><td>H2O_internal_security:</td>\n",
       "<td>False</td></tr>\n",
       "<tr><td>Python_version:</td>\n",
       "<td>3.10.4 final</td></tr></table></div>"
      ],
      "text/plain": [
       "--------------------------  --------------------------------\n",
       "H2O_cluster_uptime:         59 mins 07 secs\n",
       "H2O_cluster_timezone:       Europe/Warsaw\n",
       "H2O_data_parsing_timezone:  UTC\n",
       "H2O_cluster_version:        3.36.1.2\n",
       "H2O_cluster_version_age:    5 days\n",
       "H2O_cluster_name:           H2O_from_python_Krzysztof_9n4x71\n",
       "H2O_cluster_total_nodes:    1\n",
       "H2O_cluster_free_memory:    1.846 Gb\n",
       "H2O_cluster_total_cores:    4\n",
       "H2O_cluster_allowed_cores:  4\n",
       "H2O_cluster_status:         locked, healthy\n",
       "H2O_connection_url:         http://localhost:54321\n",
       "H2O_connection_proxy:       {\"http\": null, \"https\": null}\n",
       "H2O_internal_security:      False\n",
       "Python_version:             3.10.4 final\n",
       "--------------------------  --------------------------------"
      ]
     },
     "metadata": {},
     "output_type": "display_data"
    }
   ],
   "source": [
    "h2o.init()"
   ]
  },
  {
   "cell_type": "markdown",
   "metadata": {},
   "source": [
    "Corelations"
   ]
  },
  {
   "cell_type": "code",
   "execution_count": 10,
   "metadata": {},
   "outputs": [],
   "source": [
    "cols_to_keep_for_corelation = [\"SCORE\",\"SECTOR\", \"1MReturn\", \"3MReturn\", \"6MReturn\", \"12MReturn\"]\n",
    "#train_1m = train.loc[:, cols_to_keep]\n",
    "data_to_corelation = data.loc[:, cols_to_keep_for_corelation]"
   ]
  },
  {
   "cell_type": "code",
   "execution_count": 11,
   "metadata": {},
   "outputs": [
    {
     "data": {
      "application/vnd.plotly.v1+json": {
       "config": {
        "plotlyServerURL": "https://plot.ly"
       },
       "data": [
        {
         "coloraxis": "coloraxis",
         "hovertemplate": "x: %{x}<br>y: %{y}<br>color: %{z}<extra></extra>",
         "name": "0",
         "type": "heatmap",
         "x": [
          "SCORE",
          "1MReturn",
          "3MReturn",
          "6MReturn",
          "12MReturn"
         ],
         "xaxis": "x",
         "y": [
          "SCORE",
          "1MReturn",
          "3MReturn",
          "6MReturn",
          "12MReturn"
         ],
         "yaxis": "y",
         "z": [
          [
           1,
           0.04344405085286998,
           0.07150616331988874,
           0.08511456159321322,
           0.09887299073613202
          ],
          [
           0.04344405085286998,
           1,
           0.5264620473554359,
           0.38131672970833214,
           0.2988708120652218
          ],
          [
           0.07150616331988874,
           0.5264620473554359,
           1,
           0.6790565268809657,
           0.5239118553192448
          ],
          [
           0.08511456159321322,
           0.38131672970833214,
           0.6790565268809657,
           1,
           0.7019323463362866
          ],
          [
           0.09887299073613202,
           0.2988708120652218,
           0.5239118553192448,
           0.7019323463362866,
           1
          ]
         ]
        }
       ],
       "layout": {
        "coloraxis": {
         "colorscale": [
          [
           0,
           "#0d0887"
          ],
          [
           0.1111111111111111,
           "#46039f"
          ],
          [
           0.2222222222222222,
           "#7201a8"
          ],
          [
           0.3333333333333333,
           "#9c179e"
          ],
          [
           0.4444444444444444,
           "#bd3786"
          ],
          [
           0.5555555555555556,
           "#d8576b"
          ],
          [
           0.6666666666666666,
           "#ed7953"
          ],
          [
           0.7777777777777778,
           "#fb9f3a"
          ],
          [
           0.8888888888888888,
           "#fdca26"
          ],
          [
           1,
           "#f0f921"
          ]
         ]
        },
        "margin": {
         "t": 60
        },
        "template": {
         "data": {
          "bar": [
           {
            "error_x": {
             "color": "#2a3f5f"
            },
            "error_y": {
             "color": "#2a3f5f"
            },
            "marker": {
             "line": {
              "color": "#E5ECF6",
              "width": 0.5
             },
             "pattern": {
              "fillmode": "overlay",
              "size": 10,
              "solidity": 0.2
             }
            },
            "type": "bar"
           }
          ],
          "barpolar": [
           {
            "marker": {
             "line": {
              "color": "#E5ECF6",
              "width": 0.5
             },
             "pattern": {
              "fillmode": "overlay",
              "size": 10,
              "solidity": 0.2
             }
            },
            "type": "barpolar"
           }
          ],
          "carpet": [
           {
            "aaxis": {
             "endlinecolor": "#2a3f5f",
             "gridcolor": "white",
             "linecolor": "white",
             "minorgridcolor": "white",
             "startlinecolor": "#2a3f5f"
            },
            "baxis": {
             "endlinecolor": "#2a3f5f",
             "gridcolor": "white",
             "linecolor": "white",
             "minorgridcolor": "white",
             "startlinecolor": "#2a3f5f"
            },
            "type": "carpet"
           }
          ],
          "choropleth": [
           {
            "colorbar": {
             "outlinewidth": 0,
             "ticks": ""
            },
            "type": "choropleth"
           }
          ],
          "contour": [
           {
            "colorbar": {
             "outlinewidth": 0,
             "ticks": ""
            },
            "colorscale": [
             [
              0,
              "#0d0887"
             ],
             [
              0.1111111111111111,
              "#46039f"
             ],
             [
              0.2222222222222222,
              "#7201a8"
             ],
             [
              0.3333333333333333,
              "#9c179e"
             ],
             [
              0.4444444444444444,
              "#bd3786"
             ],
             [
              0.5555555555555556,
              "#d8576b"
             ],
             [
              0.6666666666666666,
              "#ed7953"
             ],
             [
              0.7777777777777778,
              "#fb9f3a"
             ],
             [
              0.8888888888888888,
              "#fdca26"
             ],
             [
              1,
              "#f0f921"
             ]
            ],
            "type": "contour"
           }
          ],
          "contourcarpet": [
           {
            "colorbar": {
             "outlinewidth": 0,
             "ticks": ""
            },
            "type": "contourcarpet"
           }
          ],
          "heatmap": [
           {
            "colorbar": {
             "outlinewidth": 0,
             "ticks": ""
            },
            "colorscale": [
             [
              0,
              "#0d0887"
             ],
             [
              0.1111111111111111,
              "#46039f"
             ],
             [
              0.2222222222222222,
              "#7201a8"
             ],
             [
              0.3333333333333333,
              "#9c179e"
             ],
             [
              0.4444444444444444,
              "#bd3786"
             ],
             [
              0.5555555555555556,
              "#d8576b"
             ],
             [
              0.6666666666666666,
              "#ed7953"
             ],
             [
              0.7777777777777778,
              "#fb9f3a"
             ],
             [
              0.8888888888888888,
              "#fdca26"
             ],
             [
              1,
              "#f0f921"
             ]
            ],
            "type": "heatmap"
           }
          ],
          "heatmapgl": [
           {
            "colorbar": {
             "outlinewidth": 0,
             "ticks": ""
            },
            "colorscale": [
             [
              0,
              "#0d0887"
             ],
             [
              0.1111111111111111,
              "#46039f"
             ],
             [
              0.2222222222222222,
              "#7201a8"
             ],
             [
              0.3333333333333333,
              "#9c179e"
             ],
             [
              0.4444444444444444,
              "#bd3786"
             ],
             [
              0.5555555555555556,
              "#d8576b"
             ],
             [
              0.6666666666666666,
              "#ed7953"
             ],
             [
              0.7777777777777778,
              "#fb9f3a"
             ],
             [
              0.8888888888888888,
              "#fdca26"
             ],
             [
              1,
              "#f0f921"
             ]
            ],
            "type": "heatmapgl"
           }
          ],
          "histogram": [
           {
            "marker": {
             "pattern": {
              "fillmode": "overlay",
              "size": 10,
              "solidity": 0.2
             }
            },
            "type": "histogram"
           }
          ],
          "histogram2d": [
           {
            "colorbar": {
             "outlinewidth": 0,
             "ticks": ""
            },
            "colorscale": [
             [
              0,
              "#0d0887"
             ],
             [
              0.1111111111111111,
              "#46039f"
             ],
             [
              0.2222222222222222,
              "#7201a8"
             ],
             [
              0.3333333333333333,
              "#9c179e"
             ],
             [
              0.4444444444444444,
              "#bd3786"
             ],
             [
              0.5555555555555556,
              "#d8576b"
             ],
             [
              0.6666666666666666,
              "#ed7953"
             ],
             [
              0.7777777777777778,
              "#fb9f3a"
             ],
             [
              0.8888888888888888,
              "#fdca26"
             ],
             [
              1,
              "#f0f921"
             ]
            ],
            "type": "histogram2d"
           }
          ],
          "histogram2dcontour": [
           {
            "colorbar": {
             "outlinewidth": 0,
             "ticks": ""
            },
            "colorscale": [
             [
              0,
              "#0d0887"
             ],
             [
              0.1111111111111111,
              "#46039f"
             ],
             [
              0.2222222222222222,
              "#7201a8"
             ],
             [
              0.3333333333333333,
              "#9c179e"
             ],
             [
              0.4444444444444444,
              "#bd3786"
             ],
             [
              0.5555555555555556,
              "#d8576b"
             ],
             [
              0.6666666666666666,
              "#ed7953"
             ],
             [
              0.7777777777777778,
              "#fb9f3a"
             ],
             [
              0.8888888888888888,
              "#fdca26"
             ],
             [
              1,
              "#f0f921"
             ]
            ],
            "type": "histogram2dcontour"
           }
          ],
          "mesh3d": [
           {
            "colorbar": {
             "outlinewidth": 0,
             "ticks": ""
            },
            "type": "mesh3d"
           }
          ],
          "parcoords": [
           {
            "line": {
             "colorbar": {
              "outlinewidth": 0,
              "ticks": ""
             }
            },
            "type": "parcoords"
           }
          ],
          "pie": [
           {
            "automargin": true,
            "type": "pie"
           }
          ],
          "scatter": [
           {
            "fillpattern": {
             "fillmode": "overlay",
             "size": 10,
             "solidity": 0.2
            },
            "type": "scatter"
           }
          ],
          "scatter3d": [
           {
            "line": {
             "colorbar": {
              "outlinewidth": 0,
              "ticks": ""
             }
            },
            "marker": {
             "colorbar": {
              "outlinewidth": 0,
              "ticks": ""
             }
            },
            "type": "scatter3d"
           }
          ],
          "scattercarpet": [
           {
            "marker": {
             "colorbar": {
              "outlinewidth": 0,
              "ticks": ""
             }
            },
            "type": "scattercarpet"
           }
          ],
          "scattergeo": [
           {
            "marker": {
             "colorbar": {
              "outlinewidth": 0,
              "ticks": ""
             }
            },
            "type": "scattergeo"
           }
          ],
          "scattergl": [
           {
            "marker": {
             "colorbar": {
              "outlinewidth": 0,
              "ticks": ""
             }
            },
            "type": "scattergl"
           }
          ],
          "scattermapbox": [
           {
            "marker": {
             "colorbar": {
              "outlinewidth": 0,
              "ticks": ""
             }
            },
            "type": "scattermapbox"
           }
          ],
          "scatterpolar": [
           {
            "marker": {
             "colorbar": {
              "outlinewidth": 0,
              "ticks": ""
             }
            },
            "type": "scatterpolar"
           }
          ],
          "scatterpolargl": [
           {
            "marker": {
             "colorbar": {
              "outlinewidth": 0,
              "ticks": ""
             }
            },
            "type": "scatterpolargl"
           }
          ],
          "scatterternary": [
           {
            "marker": {
             "colorbar": {
              "outlinewidth": 0,
              "ticks": ""
             }
            },
            "type": "scatterternary"
           }
          ],
          "surface": [
           {
            "colorbar": {
             "outlinewidth": 0,
             "ticks": ""
            },
            "colorscale": [
             [
              0,
              "#0d0887"
             ],
             [
              0.1111111111111111,
              "#46039f"
             ],
             [
              0.2222222222222222,
              "#7201a8"
             ],
             [
              0.3333333333333333,
              "#9c179e"
             ],
             [
              0.4444444444444444,
              "#bd3786"
             ],
             [
              0.5555555555555556,
              "#d8576b"
             ],
             [
              0.6666666666666666,
              "#ed7953"
             ],
             [
              0.7777777777777778,
              "#fb9f3a"
             ],
             [
              0.8888888888888888,
              "#fdca26"
             ],
             [
              1,
              "#f0f921"
             ]
            ],
            "type": "surface"
           }
          ],
          "table": [
           {
            "cells": {
             "fill": {
              "color": "#EBF0F8"
             },
             "line": {
              "color": "white"
             }
            },
            "header": {
             "fill": {
              "color": "#C8D4E3"
             },
             "line": {
              "color": "white"
             }
            },
            "type": "table"
           }
          ]
         },
         "layout": {
          "annotationdefaults": {
           "arrowcolor": "#2a3f5f",
           "arrowhead": 0,
           "arrowwidth": 1
          },
          "autotypenumbers": "strict",
          "coloraxis": {
           "colorbar": {
            "outlinewidth": 0,
            "ticks": ""
           }
          },
          "colorscale": {
           "diverging": [
            [
             0,
             "#8e0152"
            ],
            [
             0.1,
             "#c51b7d"
            ],
            [
             0.2,
             "#de77ae"
            ],
            [
             0.3,
             "#f1b6da"
            ],
            [
             0.4,
             "#fde0ef"
            ],
            [
             0.5,
             "#f7f7f7"
            ],
            [
             0.6,
             "#e6f5d0"
            ],
            [
             0.7,
             "#b8e186"
            ],
            [
             0.8,
             "#7fbc41"
            ],
            [
             0.9,
             "#4d9221"
            ],
            [
             1,
             "#276419"
            ]
           ],
           "sequential": [
            [
             0,
             "#0d0887"
            ],
            [
             0.1111111111111111,
             "#46039f"
            ],
            [
             0.2222222222222222,
             "#7201a8"
            ],
            [
             0.3333333333333333,
             "#9c179e"
            ],
            [
             0.4444444444444444,
             "#bd3786"
            ],
            [
             0.5555555555555556,
             "#d8576b"
            ],
            [
             0.6666666666666666,
             "#ed7953"
            ],
            [
             0.7777777777777778,
             "#fb9f3a"
            ],
            [
             0.8888888888888888,
             "#fdca26"
            ],
            [
             1,
             "#f0f921"
            ]
           ],
           "sequentialminus": [
            [
             0,
             "#0d0887"
            ],
            [
             0.1111111111111111,
             "#46039f"
            ],
            [
             0.2222222222222222,
             "#7201a8"
            ],
            [
             0.3333333333333333,
             "#9c179e"
            ],
            [
             0.4444444444444444,
             "#bd3786"
            ],
            [
             0.5555555555555556,
             "#d8576b"
            ],
            [
             0.6666666666666666,
             "#ed7953"
            ],
            [
             0.7777777777777778,
             "#fb9f3a"
            ],
            [
             0.8888888888888888,
             "#fdca26"
            ],
            [
             1,
             "#f0f921"
            ]
           ]
          },
          "colorway": [
           "#636efa",
           "#EF553B",
           "#00cc96",
           "#ab63fa",
           "#FFA15A",
           "#19d3f3",
           "#FF6692",
           "#B6E880",
           "#FF97FF",
           "#FECB52"
          ],
          "font": {
           "color": "#2a3f5f"
          },
          "geo": {
           "bgcolor": "white",
           "lakecolor": "white",
           "landcolor": "#E5ECF6",
           "showlakes": true,
           "showland": true,
           "subunitcolor": "white"
          },
          "hoverlabel": {
           "align": "left"
          },
          "hovermode": "closest",
          "mapbox": {
           "style": "light"
          },
          "paper_bgcolor": "white",
          "plot_bgcolor": "#E5ECF6",
          "polar": {
           "angularaxis": {
            "gridcolor": "white",
            "linecolor": "white",
            "ticks": ""
           },
           "bgcolor": "#E5ECF6",
           "radialaxis": {
            "gridcolor": "white",
            "linecolor": "white",
            "ticks": ""
           }
          },
          "scene": {
           "xaxis": {
            "backgroundcolor": "#E5ECF6",
            "gridcolor": "white",
            "gridwidth": 2,
            "linecolor": "white",
            "showbackground": true,
            "ticks": "",
            "zerolinecolor": "white"
           },
           "yaxis": {
            "backgroundcolor": "#E5ECF6",
            "gridcolor": "white",
            "gridwidth": 2,
            "linecolor": "white",
            "showbackground": true,
            "ticks": "",
            "zerolinecolor": "white"
           },
           "zaxis": {
            "backgroundcolor": "#E5ECF6",
            "gridcolor": "white",
            "gridwidth": 2,
            "linecolor": "white",
            "showbackground": true,
            "ticks": "",
            "zerolinecolor": "white"
           }
          },
          "shapedefaults": {
           "line": {
            "color": "#2a3f5f"
           }
          },
          "ternary": {
           "aaxis": {
            "gridcolor": "white",
            "linecolor": "white",
            "ticks": ""
           },
           "baxis": {
            "gridcolor": "white",
            "linecolor": "white",
            "ticks": ""
           },
           "bgcolor": "#E5ECF6",
           "caxis": {
            "gridcolor": "white",
            "linecolor": "white",
            "ticks": ""
           }
          },
          "title": {
           "x": 0.05
          },
          "xaxis": {
           "automargin": true,
           "gridcolor": "white",
           "linecolor": "white",
           "ticks": "",
           "title": {
            "standoff": 15
           },
           "zerolinecolor": "white",
           "zerolinewidth": 2
          },
          "yaxis": {
           "automargin": true,
           "gridcolor": "white",
           "linecolor": "white",
           "ticks": "",
           "title": {
            "standoff": 15
           },
           "zerolinecolor": "white",
           "zerolinewidth": 2
          }
         }
        },
        "xaxis": {
         "anchor": "y",
         "constrain": "domain",
         "domain": [
          0,
          1
         ],
         "scaleanchor": "y"
        },
        "yaxis": {
         "anchor": "x",
         "autorange": "reversed",
         "constrain": "domain",
         "domain": [
          0,
          1
         ]
        }
       }
      }
     },
     "metadata": {},
     "output_type": "display_data"
    }
   ],
   "source": [
    "fig = px.imshow(data_to_corelation.corr())\n",
    "fig.show()"
   ]
  },
  {
   "cell_type": "markdown",
   "metadata": {},
   "source": [
    "for 1 month returns"
   ]
  },
  {
   "cell_type": "code",
   "execution_count": 12,
   "metadata": {},
   "outputs": [
    {
     "name": "stdout",
     "output_type": "stream",
     "text": [
      "Parse progress: |████████████████████████████████████████████████████████████████| (done) 100%\n"
     ]
    }
   ],
   "source": [
    "train_1m = h2o.H2OFrame(train_1m)"
   ]
  },
  {
   "cell_type": "code",
   "execution_count": 13,
   "metadata": {},
   "outputs": [],
   "source": [
    "x = train_1m.columns\n",
    "y = \"1MReturn\"\n",
    "x.remove(y)"
   ]
  },
  {
   "cell_type": "code",
   "execution_count": 14,
   "metadata": {},
   "outputs": [
    {
     "name": "stdout",
     "output_type": "stream",
     "text": [
      "AutoML progress: |██\n",
      "17:53:21.640: AutoML: XGBoost is not available; skipping it.\n",
      "\n",
      "█████████████████████████████████████████████████████████████| (done) 100%\n",
      "Model Details\n",
      "=============\n",
      "H2OStackedEnsembleEstimator :  Stacked Ensemble\n",
      "Model Key:  StackedEnsemble_BestOfFamily_1_AutoML_3_20220531_175321\n",
      "\n",
      "No model summary for this model\n",
      "\n",
      "ModelMetricsRegressionGLM: stackedensemble\n",
      "** Reported on train data. **\n",
      "\n",
      "MSE: 0.007381671351851378\n",
      "RMSE: 0.08591665351869437\n",
      "MAE: 0.06230858904765597\n",
      "RMSLE: 0.09353575968665465\n",
      "R^2: 0.0933387811416514\n",
      "Mean Residual Deviance: 0.007381671351851378\n",
      "Null degrees of freedom: 5863\n",
      "Residual degrees of freedom: 5861\n",
      "Null deviance: 47.742331873156864\n",
      "Residual deviance: 43.28612080725648\n",
      "AIC: -12135.629349396604\n",
      "\n",
      "ModelMetricsRegressionGLM: stackedensemble\n",
      "** Reported on cross-validation data. **\n",
      "\n",
      "MSE: 0.008111673158494108\n",
      "RMSE: 0.09006482753269507\n",
      "MAE: 0.0651676615365975\n",
      "RMSLE: 0.09747700617743545\n",
      "R^2: 0.0036755739584233282\n",
      "Mean Residual Deviance: 0.008111673158494108\n",
      "Null degrees of freedom: 5863\n",
      "Residual degrees of freedom: 5861\n",
      "Null deviance: 47.75018784889716\n",
      "Residual deviance: 47.56685140140945\n",
      "AIC: -11582.63027404982\n",
      "\n",
      "Cross-Validation Metrics Summary: \n"
     ]
    },
    {
     "data": {
      "text/html": [
       "<div>\n",
       "<style scoped>\n",
       "    .dataframe tbody tr th:only-of-type {\n",
       "        vertical-align: middle;\n",
       "    }\n",
       "\n",
       "    .dataframe tbody tr th {\n",
       "        vertical-align: top;\n",
       "    }\n",
       "\n",
       "    .dataframe thead th {\n",
       "        text-align: right;\n",
       "    }\n",
       "</style>\n",
       "<table border=\"1\" class=\"dataframe\">\n",
       "  <thead>\n",
       "    <tr style=\"text-align: right;\">\n",
       "      <th></th>\n",
       "      <th></th>\n",
       "      <th>mean</th>\n",
       "      <th>sd</th>\n",
       "      <th>cv_1_valid</th>\n",
       "      <th>cv_2_valid</th>\n",
       "      <th>cv_3_valid</th>\n",
       "      <th>cv_4_valid</th>\n",
       "      <th>cv_5_valid</th>\n",
       "    </tr>\n",
       "  </thead>\n",
       "  <tbody>\n",
       "    <tr>\n",
       "      <th>0</th>\n",
       "      <td>mae</td>\n",
       "      <td>0.065284</td>\n",
       "      <td>0.001737</td>\n",
       "      <td>0.062427</td>\n",
       "      <td>0.065503</td>\n",
       "      <td>0.065391</td>\n",
       "      <td>0.065986</td>\n",
       "      <td>0.067113</td>\n",
       "    </tr>\n",
       "    <tr>\n",
       "      <th>1</th>\n",
       "      <td>mean_residual_deviance</td>\n",
       "      <td>0.008137</td>\n",
       "      <td>0.000659</td>\n",
       "      <td>0.007046</td>\n",
       "      <td>0.008014</td>\n",
       "      <td>0.008381</td>\n",
       "      <td>0.008665</td>\n",
       "      <td>0.008580</td>\n",
       "    </tr>\n",
       "    <tr>\n",
       "      <th>2</th>\n",
       "      <td>mse</td>\n",
       "      <td>0.008137</td>\n",
       "      <td>0.000659</td>\n",
       "      <td>0.007046</td>\n",
       "      <td>0.008014</td>\n",
       "      <td>0.008381</td>\n",
       "      <td>0.008665</td>\n",
       "      <td>0.008580</td>\n",
       "    </tr>\n",
       "    <tr>\n",
       "      <th>3</th>\n",
       "      <td>null_deviance</td>\n",
       "      <td>9.550037</td>\n",
       "      <td>0.631418</td>\n",
       "      <td>8.595958</td>\n",
       "      <td>9.704977</td>\n",
       "      <td>9.705296</td>\n",
       "      <td>10.335165</td>\n",
       "      <td>9.408793</td>\n",
       "    </tr>\n",
       "    <tr>\n",
       "      <th>4</th>\n",
       "      <td>r2</td>\n",
       "      <td>0.001962</td>\n",
       "      <td>0.002745</td>\n",
       "      <td>0.001498</td>\n",
       "      <td>-0.001241</td>\n",
       "      <td>0.001787</td>\n",
       "      <td>0.006357</td>\n",
       "      <td>0.001409</td>\n",
       "    </tr>\n",
       "    <tr>\n",
       "      <th>5</th>\n",
       "      <td>residual_deviance</td>\n",
       "      <td>9.526366</td>\n",
       "      <td>0.618330</td>\n",
       "      <td>8.575536</td>\n",
       "      <td>9.704977</td>\n",
       "      <td>9.687949</td>\n",
       "      <td>10.268034</td>\n",
       "      <td>9.395336</td>\n",
       "    </tr>\n",
       "    <tr>\n",
       "      <th>6</th>\n",
       "      <td>rmse</td>\n",
       "      <td>0.090145</td>\n",
       "      <td>0.003729</td>\n",
       "      <td>0.083943</td>\n",
       "      <td>0.089521</td>\n",
       "      <td>0.091546</td>\n",
       "      <td>0.093086</td>\n",
       "      <td>0.092629</td>\n",
       "    </tr>\n",
       "    <tr>\n",
       "      <th>7</th>\n",
       "      <td>rmsle</td>\n",
       "      <td>0.096613</td>\n",
       "      <td>0.016091</td>\n",
       "      <td>0.085098</td>\n",
       "      <td>0.088313</td>\n",
       "      <td>0.124719</td>\n",
       "      <td>0.094697</td>\n",
       "      <td>0.090241</td>\n",
       "    </tr>\n",
       "  </tbody>\n",
       "</table>\n",
       "</div>"
      ],
      "text/plain": [
       "                               mean        sd  cv_1_valid  cv_2_valid  \\\n",
       "0                     mae  0.065284  0.001737    0.062427    0.065503   \n",
       "1  mean_residual_deviance  0.008137  0.000659    0.007046    0.008014   \n",
       "2                     mse  0.008137  0.000659    0.007046    0.008014   \n",
       "3           null_deviance  9.550037  0.631418    8.595958    9.704977   \n",
       "4                      r2  0.001962  0.002745    0.001498   -0.001241   \n",
       "5       residual_deviance  9.526366  0.618330    8.575536    9.704977   \n",
       "6                    rmse  0.090145  0.003729    0.083943    0.089521   \n",
       "7                   rmsle  0.096613  0.016091    0.085098    0.088313   \n",
       "\n",
       "   cv_3_valid  cv_4_valid  cv_5_valid  \n",
       "0    0.065391    0.065986    0.067113  \n",
       "1    0.008381    0.008665    0.008580  \n",
       "2    0.008381    0.008665    0.008580  \n",
       "3    9.705296   10.335165    9.408793  \n",
       "4    0.001787    0.006357    0.001409  \n",
       "5    9.687949   10.268034    9.395336  \n",
       "6    0.091546    0.093086    0.092629  \n",
       "7    0.124719    0.094697    0.090241  "
      ]
     },
     "metadata": {},
     "output_type": "display_data"
    },
    {
     "data": {
      "text/plain": []
     },
     "execution_count": 14,
     "metadata": {},
     "output_type": "execute_result"
    }
   ],
   "source": [
    "\n",
    "aml = H2OAutoML(max_models=7, seed=1)\n",
    "aml.train(x=x, y=y, training_frame=train_1m)"
   ]
  },
  {
   "cell_type": "code",
   "execution_count": 15,
   "metadata": {},
   "outputs": [
    {
     "data": {
      "text/html": [
       "<table>\n",
       "<thead>\n",
       "<tr><th>model_id                                               </th><th style=\"text-align: right;\">     rmse</th><th style=\"text-align: right;\">       mse</th><th style=\"text-align: right;\">      mae</th><th style=\"text-align: right;\">    rmsle</th><th style=\"text-align: right;\">  mean_residual_deviance</th></tr>\n",
       "</thead>\n",
       "<tbody>\n",
       "<tr><td>StackedEnsemble_BestOfFamily_1_AutoML_3_20220531_175321</td><td style=\"text-align: right;\">0.0900648</td><td style=\"text-align: right;\">0.00811167</td><td style=\"text-align: right;\">0.0651677</td><td style=\"text-align: right;\">0.097477 </td><td style=\"text-align: right;\">              0.00811167</td></tr>\n",
       "<tr><td>StackedEnsemble_AllModels_1_AutoML_3_20220531_175321   </td><td style=\"text-align: right;\">0.0900711</td><td style=\"text-align: right;\">0.0081128 </td><td style=\"text-align: right;\">0.0651794</td><td style=\"text-align: right;\">0.0974778</td><td style=\"text-align: right;\">              0.0081128 </td></tr>\n",
       "<tr><td>GLM_1_AutoML_3_20220531_175321                         </td><td style=\"text-align: right;\">0.0901794</td><td style=\"text-align: right;\">0.00813232</td><td style=\"text-align: right;\">0.0652372</td><td style=\"text-align: right;\">0.0976014</td><td style=\"text-align: right;\">              0.00813232</td></tr>\n",
       "<tr><td>GBM_1_AutoML_3_20220531_175321                         </td><td style=\"text-align: right;\">0.0902128</td><td style=\"text-align: right;\">0.00813835</td><td style=\"text-align: right;\">0.0653927</td><td style=\"text-align: right;\">0.0976343</td><td style=\"text-align: right;\">              0.00813835</td></tr>\n",
       "<tr><td>GBM_2_AutoML_3_20220531_175321                         </td><td style=\"text-align: right;\">0.0904252</td><td style=\"text-align: right;\">0.00817672</td><td style=\"text-align: right;\">0.0656122</td><td style=\"text-align: right;\">0.0978358</td><td style=\"text-align: right;\">              0.00817672</td></tr>\n",
       "<tr><td>GBM_3_AutoML_3_20220531_175321                         </td><td style=\"text-align: right;\">0.090594 </td><td style=\"text-align: right;\">0.00820727</td><td style=\"text-align: right;\">0.0657742</td><td style=\"text-align: right;\">0.0979736</td><td style=\"text-align: right;\">              0.00820727</td></tr>\n",
       "<tr><td>GBM_4_AutoML_3_20220531_175321                         </td><td style=\"text-align: right;\">0.091281 </td><td style=\"text-align: right;\">0.00833222</td><td style=\"text-align: right;\">0.0664482</td><td style=\"text-align: right;\">0.0985943</td><td style=\"text-align: right;\">              0.00833222</td></tr>\n",
       "<tr><td>XRT_1_AutoML_3_20220531_175321                         </td><td style=\"text-align: right;\">0.101982 </td><td style=\"text-align: right;\">0.0104004 </td><td style=\"text-align: right;\">0.0742613</td><td style=\"text-align: right;\">0.109302 </td><td style=\"text-align: right;\">              0.0104004 </td></tr>\n",
       "<tr><td>DRF_1_AutoML_3_20220531_175321                         </td><td style=\"text-align: right;\">0.104001 </td><td style=\"text-align: right;\">0.0108163 </td><td style=\"text-align: right;\">0.075797 </td><td style=\"text-align: right;\">0.110641 </td><td style=\"text-align: right;\">              0.0108163 </td></tr>\n",
       "</tbody>\n",
       "</table>"
      ]
     },
     "metadata": {},
     "output_type": "display_data"
    },
    {
     "data": {
      "text/plain": []
     },
     "execution_count": 15,
     "metadata": {},
     "output_type": "execute_result"
    }
   ],
   "source": [
    "lb = aml.leaderboard\n",
    "lb.head(rows=lb.nrows)"
   ]
  },
  {
   "cell_type": "markdown",
   "metadata": {},
   "source": [
    "3 months forecasting"
   ]
  },
  {
   "cell_type": "code",
   "execution_count": 17,
   "metadata": {},
   "outputs": [],
   "source": [
    "cols_to_keep_3m = ['SCORE',\"3MReturn\"]\n",
    "train_3m = train.loc[:, cols_to_keep_3m]"
   ]
  },
  {
   "cell_type": "code",
   "execution_count": 18,
   "metadata": {},
   "outputs": [
    {
     "name": "stdout",
     "output_type": "stream",
     "text": [
      "Parse progress: |████████████████████████████████████████████████████████████████| (done) 100%\n"
     ]
    }
   ],
   "source": [
    "train_3m = h2o.H2OFrame(train_3m)"
   ]
  },
  {
   "cell_type": "code",
   "execution_count": 19,
   "metadata": {},
   "outputs": [],
   "source": [
    "x_3m = train_3m.columns\n",
    "y_3m = \"3MReturn\"\n",
    "x_3m.remove(y_3m)"
   ]
  },
  {
   "cell_type": "code",
   "execution_count": 20,
   "metadata": {},
   "outputs": [
    {
     "name": "stdout",
     "output_type": "stream",
     "text": [
      "AutoML progress: |█\n",
      "17:59:15.69: AutoML: XGBoost is not available; skipping it.\n",
      "\n",
      "██████████████████████████████████████████████████████████████| (done) 100%\n",
      "Model Details\n",
      "=============\n",
      "H2OStackedEnsembleEstimator :  Stacked Ensemble\n",
      "Model Key:  StackedEnsemble_BestOfFamily_1_AutoML_4_20220531_175915\n",
      "\n",
      "No model summary for this model\n",
      "\n",
      "ModelMetricsRegressionGLM: stackedensemble\n",
      "** Reported on train data. **\n",
      "\n",
      "MSE: 0.016325576178007978\n",
      "RMSE: 0.12777157813069376\n",
      "MAE: 0.09753969705405346\n",
      "RMSLE: 0.13184091254269506\n",
      "R^2: 0.17238885788155667\n",
      "Mean Residual Deviance: 0.016325576178007978\n",
      "Null degrees of freedom: 5863\n",
      "Residual degrees of freedom: 5861\n",
      "Null deviance: 115.67410567091783\n",
      "Residual deviance: 95.73317870783879\n",
      "AIC: -7481.179709768114\n",
      "\n",
      "ModelMetricsRegressionGLM: stackedensemble\n",
      "** Reported on cross-validation data. **\n",
      "\n",
      "MSE: 0.01930067833756554\n",
      "RMSE: 0.13892688126336653\n",
      "MAE: 0.10603122861300968\n",
      "RMSLE: 0.14269482495042762\n",
      "R^2: 0.021568594673483488\n",
      "Mean Residual Deviance: 0.01930067833756554\n",
      "Null degrees of freedom: 5863\n",
      "Residual degrees of freedom: 5860\n",
      "Null deviance: 115.7652038014839\n",
      "Residual deviance: 113.17917777148433\n",
      "AIC: -6497.503457578093\n",
      "\n",
      "Cross-Validation Metrics Summary: \n"
     ]
    },
    {
     "data": {
      "text/html": [
       "<div>\n",
       "<style scoped>\n",
       "    .dataframe tbody tr th:only-of-type {\n",
       "        vertical-align: middle;\n",
       "    }\n",
       "\n",
       "    .dataframe tbody tr th {\n",
       "        vertical-align: top;\n",
       "    }\n",
       "\n",
       "    .dataframe thead th {\n",
       "        text-align: right;\n",
       "    }\n",
       "</style>\n",
       "<table border=\"1\" class=\"dataframe\">\n",
       "  <thead>\n",
       "    <tr style=\"text-align: right;\">\n",
       "      <th></th>\n",
       "      <th></th>\n",
       "      <th>mean</th>\n",
       "      <th>sd</th>\n",
       "      <th>cv_1_valid</th>\n",
       "      <th>cv_2_valid</th>\n",
       "      <th>cv_3_valid</th>\n",
       "      <th>cv_4_valid</th>\n",
       "      <th>cv_5_valid</th>\n",
       "    </tr>\n",
       "  </thead>\n",
       "  <tbody>\n",
       "    <tr>\n",
       "      <th>0</th>\n",
       "      <td>mae</td>\n",
       "      <td>0.105994</td>\n",
       "      <td>0.003471</td>\n",
       "      <td>0.103720</td>\n",
       "      <td>0.103573</td>\n",
       "      <td>0.109185</td>\n",
       "      <td>0.110341</td>\n",
       "      <td>0.103150</td>\n",
       "    </tr>\n",
       "    <tr>\n",
       "      <th>1</th>\n",
       "      <td>mean_residual_deviance</td>\n",
       "      <td>0.019295</td>\n",
       "      <td>0.001518</td>\n",
       "      <td>0.018741</td>\n",
       "      <td>0.017721</td>\n",
       "      <td>0.020603</td>\n",
       "      <td>0.021187</td>\n",
       "      <td>0.018225</td>\n",
       "    </tr>\n",
       "    <tr>\n",
       "      <th>2</th>\n",
       "      <td>mse</td>\n",
       "      <td>0.019295</td>\n",
       "      <td>0.001518</td>\n",
       "      <td>0.018741</td>\n",
       "      <td>0.017721</td>\n",
       "      <td>0.020603</td>\n",
       "      <td>0.021187</td>\n",
       "      <td>0.018225</td>\n",
       "    </tr>\n",
       "    <tr>\n",
       "      <th>3</th>\n",
       "      <td>null_deviance</td>\n",
       "      <td>23.153040</td>\n",
       "      <td>2.078057</td>\n",
       "      <td>23.321238</td>\n",
       "      <td>21.938042</td>\n",
       "      <td>24.332294</td>\n",
       "      <td>25.767240</td>\n",
       "      <td>20.406390</td>\n",
       "    </tr>\n",
       "    <tr>\n",
       "      <th>4</th>\n",
       "      <td>r2</td>\n",
       "      <td>0.020373</td>\n",
       "      <td>0.002783</td>\n",
       "      <td>0.019737</td>\n",
       "      <td>0.018486</td>\n",
       "      <td>0.018206</td>\n",
       "      <td>0.025097</td>\n",
       "      <td>0.020339</td>\n",
       "    </tr>\n",
       "    <tr>\n",
       "      <th>5</th>\n",
       "      <td>residual_deviance</td>\n",
       "      <td>22.629496</td>\n",
       "      <td>2.005821</td>\n",
       "      <td>22.807425</td>\n",
       "      <td>21.460133</td>\n",
       "      <td>23.817486</td>\n",
       "      <td>25.106443</td>\n",
       "      <td>19.955996</td>\n",
       "    </tr>\n",
       "    <tr>\n",
       "      <th>6</th>\n",
       "      <td>rmse</td>\n",
       "      <td>0.138822</td>\n",
       "      <td>0.005442</td>\n",
       "      <td>0.136897</td>\n",
       "      <td>0.133120</td>\n",
       "      <td>0.143539</td>\n",
       "      <td>0.145557</td>\n",
       "      <td>0.134999</td>\n",
       "    </tr>\n",
       "    <tr>\n",
       "      <th>7</th>\n",
       "      <td>rmsle</td>\n",
       "      <td>0.142536</td>\n",
       "      <td>0.007454</td>\n",
       "      <td>0.143288</td>\n",
       "      <td>0.131803</td>\n",
       "      <td>0.146021</td>\n",
       "      <td>0.151836</td>\n",
       "      <td>0.139730</td>\n",
       "    </tr>\n",
       "  </tbody>\n",
       "</table>\n",
       "</div>"
      ],
      "text/plain": [
       "                                mean        sd  cv_1_valid  cv_2_valid  \\\n",
       "0                     mae   0.105994  0.003471    0.103720    0.103573   \n",
       "1  mean_residual_deviance   0.019295  0.001518    0.018741    0.017721   \n",
       "2                     mse   0.019295  0.001518    0.018741    0.017721   \n",
       "3           null_deviance  23.153040  2.078057   23.321238   21.938042   \n",
       "4                      r2   0.020373  0.002783    0.019737    0.018486   \n",
       "5       residual_deviance  22.629496  2.005821   22.807425   21.460133   \n",
       "6                    rmse   0.138822  0.005442    0.136897    0.133120   \n",
       "7                   rmsle   0.142536  0.007454    0.143288    0.131803   \n",
       "\n",
       "   cv_3_valid  cv_4_valid  cv_5_valid  \n",
       "0    0.109185    0.110341    0.103150  \n",
       "1    0.020603    0.021187    0.018225  \n",
       "2    0.020603    0.021187    0.018225  \n",
       "3   24.332294   25.767240   20.406390  \n",
       "4    0.018206    0.025097    0.020339  \n",
       "5   23.817486   25.106443   19.955996  \n",
       "6    0.143539    0.145557    0.134999  \n",
       "7    0.146021    0.151836    0.139730  "
      ]
     },
     "metadata": {},
     "output_type": "display_data"
    },
    {
     "data": {
      "text/plain": []
     },
     "execution_count": 20,
     "metadata": {},
     "output_type": "execute_result"
    }
   ],
   "source": [
    "aml_3m = H2OAutoML(max_models=7, seed=1)\n",
    "aml_3m.train(x=x_3m, y=y_3m, training_frame=train_3m)"
   ]
  },
  {
   "cell_type": "code",
   "execution_count": 21,
   "metadata": {},
   "outputs": [
    {
     "data": {
      "text/html": [
       "<table>\n",
       "<thead>\n",
       "<tr><th>model_id                                               </th><th style=\"text-align: right;\">    rmse</th><th style=\"text-align: right;\">      mse</th><th style=\"text-align: right;\">     mae</th><th style=\"text-align: right;\">   rmsle</th><th style=\"text-align: right;\">  mean_residual_deviance</th></tr>\n",
       "</thead>\n",
       "<tbody>\n",
       "<tr><td>StackedEnsemble_BestOfFamily_1_AutoML_4_20220531_175915</td><td style=\"text-align: right;\">0.138927</td><td style=\"text-align: right;\">0.0193007</td><td style=\"text-align: right;\">0.106031</td><td style=\"text-align: right;\">0.142695</td><td style=\"text-align: right;\">               0.0193007</td></tr>\n",
       "<tr><td>StackedEnsemble_AllModels_1_AutoML_4_20220531_175915   </td><td style=\"text-align: right;\">0.138932</td><td style=\"text-align: right;\">0.0193021</td><td style=\"text-align: right;\">0.106004</td><td style=\"text-align: right;\">0.142695</td><td style=\"text-align: right;\">               0.0193021</td></tr>\n",
       "<tr><td>GBM_2_AutoML_4_20220531_175915                         </td><td style=\"text-align: right;\">0.139169</td><td style=\"text-align: right;\">0.019368 </td><td style=\"text-align: right;\">0.106384</td><td style=\"text-align: right;\">0.142837</td><td style=\"text-align: right;\">               0.019368 </td></tr>\n",
       "<tr><td>GBM_3_AutoML_4_20220531_175915                         </td><td style=\"text-align: right;\">0.139539</td><td style=\"text-align: right;\">0.0194713</td><td style=\"text-align: right;\">0.106533</td><td style=\"text-align: right;\">0.14322 </td><td style=\"text-align: right;\">               0.0194713</td></tr>\n",
       "<tr><td>GBM_1_AutoML_4_20220531_175915                         </td><td style=\"text-align: right;\">0.13958 </td><td style=\"text-align: right;\">0.0194825</td><td style=\"text-align: right;\">0.106547</td><td style=\"text-align: right;\">0.143261</td><td style=\"text-align: right;\">               0.0194825</td></tr>\n",
       "<tr><td>GBM_4_AutoML_4_20220531_175915                         </td><td style=\"text-align: right;\">0.140065</td><td style=\"text-align: right;\">0.0196181</td><td style=\"text-align: right;\">0.106983</td><td style=\"text-align: right;\">0.143689</td><td style=\"text-align: right;\">               0.0196181</td></tr>\n",
       "<tr><td>GLM_1_AutoML_4_20220531_175915                         </td><td style=\"text-align: right;\">0.140274</td><td style=\"text-align: right;\">0.0196767</td><td style=\"text-align: right;\">0.106789</td><td style=\"text-align: right;\">0.144049</td><td style=\"text-align: right;\">               0.0196767</td></tr>\n",
       "<tr><td>XRT_1_AutoML_4_20220531_175915                         </td><td style=\"text-align: right;\">0.155516</td><td style=\"text-align: right;\">0.0241851</td><td style=\"text-align: right;\">0.118911</td><td style=\"text-align: right;\">0.158635</td><td style=\"text-align: right;\">               0.0241851</td></tr>\n",
       "<tr><td>DRF_1_AutoML_4_20220531_175915                         </td><td style=\"text-align: right;\">0.156751</td><td style=\"text-align: right;\">0.0245707</td><td style=\"text-align: right;\">0.11978 </td><td style=\"text-align: right;\">0.159837</td><td style=\"text-align: right;\">               0.0245707</td></tr>\n",
       "</tbody>\n",
       "</table>"
      ]
     },
     "metadata": {},
     "output_type": "display_data"
    },
    {
     "data": {
      "text/plain": []
     },
     "execution_count": 21,
     "metadata": {},
     "output_type": "execute_result"
    }
   ],
   "source": [
    "lb_3m = aml_3m.leaderboard\n",
    "lb_3m.head(rows=lb_3m.nrows)"
   ]
  },
  {
   "cell_type": "code",
   "execution_count": 22,
   "metadata": {},
   "outputs": [
    {
     "name": "stdout",
     "output_type": "stream",
     "text": [
      "Model Details\n",
      "=============\n",
      "H2OStackedEnsembleEstimator :  Stacked Ensemble\n",
      "Model Key:  StackedEnsemble_BestOfFamily_1_AutoML_4_20220531_175915\n",
      "\n",
      "No model summary for this model\n",
      "\n",
      "ModelMetricsRegressionGLM: stackedensemble\n",
      "** Reported on train data. **\n",
      "\n",
      "MSE: 0.016325576178007978\n",
      "RMSE: 0.12777157813069376\n",
      "MAE: 0.09753969705405346\n",
      "RMSLE: 0.13184091254269506\n",
      "R^2: 0.17238885788155667\n",
      "Mean Residual Deviance: 0.016325576178007978\n",
      "Null degrees of freedom: 5863\n",
      "Residual degrees of freedom: 5861\n",
      "Null deviance: 115.67410567091783\n",
      "Residual deviance: 95.73317870783879\n",
      "AIC: -7481.179709768114\n",
      "\n",
      "ModelMetricsRegressionGLM: stackedensemble\n",
      "** Reported on cross-validation data. **\n",
      "\n",
      "MSE: 0.01930067833756554\n",
      "RMSE: 0.13892688126336653\n",
      "MAE: 0.10603122861300968\n",
      "RMSLE: 0.14269482495042762\n",
      "R^2: 0.021568594673483488\n",
      "Mean Residual Deviance: 0.01930067833756554\n",
      "Null degrees of freedom: 5863\n",
      "Residual degrees of freedom: 5860\n",
      "Null deviance: 115.7652038014839\n",
      "Residual deviance: 113.17917777148433\n",
      "AIC: -6497.503457578093\n",
      "\n",
      "Cross-Validation Metrics Summary: \n"
     ]
    },
    {
     "data": {
      "text/html": [
       "<div>\n",
       "<style scoped>\n",
       "    .dataframe tbody tr th:only-of-type {\n",
       "        vertical-align: middle;\n",
       "    }\n",
       "\n",
       "    .dataframe tbody tr th {\n",
       "        vertical-align: top;\n",
       "    }\n",
       "\n",
       "    .dataframe thead th {\n",
       "        text-align: right;\n",
       "    }\n",
       "</style>\n",
       "<table border=\"1\" class=\"dataframe\">\n",
       "  <thead>\n",
       "    <tr style=\"text-align: right;\">\n",
       "      <th></th>\n",
       "      <th></th>\n",
       "      <th>mean</th>\n",
       "      <th>sd</th>\n",
       "      <th>cv_1_valid</th>\n",
       "      <th>cv_2_valid</th>\n",
       "      <th>cv_3_valid</th>\n",
       "      <th>cv_4_valid</th>\n",
       "      <th>cv_5_valid</th>\n",
       "    </tr>\n",
       "  </thead>\n",
       "  <tbody>\n",
       "    <tr>\n",
       "      <th>0</th>\n",
       "      <td>mae</td>\n",
       "      <td>0.105994</td>\n",
       "      <td>0.003471</td>\n",
       "      <td>0.103720</td>\n",
       "      <td>0.103573</td>\n",
       "      <td>0.109185</td>\n",
       "      <td>0.110341</td>\n",
       "      <td>0.103150</td>\n",
       "    </tr>\n",
       "    <tr>\n",
       "      <th>1</th>\n",
       "      <td>mean_residual_deviance</td>\n",
       "      <td>0.019295</td>\n",
       "      <td>0.001518</td>\n",
       "      <td>0.018741</td>\n",
       "      <td>0.017721</td>\n",
       "      <td>0.020603</td>\n",
       "      <td>0.021187</td>\n",
       "      <td>0.018225</td>\n",
       "    </tr>\n",
       "    <tr>\n",
       "      <th>2</th>\n",
       "      <td>mse</td>\n",
       "      <td>0.019295</td>\n",
       "      <td>0.001518</td>\n",
       "      <td>0.018741</td>\n",
       "      <td>0.017721</td>\n",
       "      <td>0.020603</td>\n",
       "      <td>0.021187</td>\n",
       "      <td>0.018225</td>\n",
       "    </tr>\n",
       "    <tr>\n",
       "      <th>3</th>\n",
       "      <td>null_deviance</td>\n",
       "      <td>23.153040</td>\n",
       "      <td>2.078057</td>\n",
       "      <td>23.321238</td>\n",
       "      <td>21.938042</td>\n",
       "      <td>24.332294</td>\n",
       "      <td>25.767240</td>\n",
       "      <td>20.406390</td>\n",
       "    </tr>\n",
       "    <tr>\n",
       "      <th>4</th>\n",
       "      <td>r2</td>\n",
       "      <td>0.020373</td>\n",
       "      <td>0.002783</td>\n",
       "      <td>0.019737</td>\n",
       "      <td>0.018486</td>\n",
       "      <td>0.018206</td>\n",
       "      <td>0.025097</td>\n",
       "      <td>0.020339</td>\n",
       "    </tr>\n",
       "    <tr>\n",
       "      <th>5</th>\n",
       "      <td>residual_deviance</td>\n",
       "      <td>22.629496</td>\n",
       "      <td>2.005821</td>\n",
       "      <td>22.807425</td>\n",
       "      <td>21.460133</td>\n",
       "      <td>23.817486</td>\n",
       "      <td>25.106443</td>\n",
       "      <td>19.955996</td>\n",
       "    </tr>\n",
       "    <tr>\n",
       "      <th>6</th>\n",
       "      <td>rmse</td>\n",
       "      <td>0.138822</td>\n",
       "      <td>0.005442</td>\n",
       "      <td>0.136897</td>\n",
       "      <td>0.133120</td>\n",
       "      <td>0.143539</td>\n",
       "      <td>0.145557</td>\n",
       "      <td>0.134999</td>\n",
       "    </tr>\n",
       "    <tr>\n",
       "      <th>7</th>\n",
       "      <td>rmsle</td>\n",
       "      <td>0.142536</td>\n",
       "      <td>0.007454</td>\n",
       "      <td>0.143288</td>\n",
       "      <td>0.131803</td>\n",
       "      <td>0.146021</td>\n",
       "      <td>0.151836</td>\n",
       "      <td>0.139730</td>\n",
       "    </tr>\n",
       "  </tbody>\n",
       "</table>\n",
       "</div>"
      ],
      "text/plain": [
       "                                mean        sd  cv_1_valid  cv_2_valid  \\\n",
       "0                     mae   0.105994  0.003471    0.103720    0.103573   \n",
       "1  mean_residual_deviance   0.019295  0.001518    0.018741    0.017721   \n",
       "2                     mse   0.019295  0.001518    0.018741    0.017721   \n",
       "3           null_deviance  23.153040  2.078057   23.321238   21.938042   \n",
       "4                      r2   0.020373  0.002783    0.019737    0.018486   \n",
       "5       residual_deviance  22.629496  2.005821   22.807425   21.460133   \n",
       "6                    rmse   0.138822  0.005442    0.136897    0.133120   \n",
       "7                   rmsle   0.142536  0.007454    0.143288    0.131803   \n",
       "\n",
       "   cv_3_valid  cv_4_valid  cv_5_valid  \n",
       "0    0.109185    0.110341    0.103150  \n",
       "1    0.020603    0.021187    0.018225  \n",
       "2    0.020603    0.021187    0.018225  \n",
       "3   24.332294   25.767240   20.406390  \n",
       "4    0.018206    0.025097    0.020339  \n",
       "5   23.817486   25.106443   19.955996  \n",
       "6    0.143539    0.145557    0.134999  \n",
       "7    0.146021    0.151836    0.139730  "
      ]
     },
     "metadata": {},
     "output_type": "display_data"
    },
    {
     "data": {
      "text/plain": []
     },
     "execution_count": 22,
     "metadata": {},
     "output_type": "execute_result"
    }
   ],
   "source": [
    "aml_3m.leader"
   ]
  },
  {
   "cell_type": "markdown",
   "metadata": {},
   "source": [
    "For 6 months"
   ]
  },
  {
   "cell_type": "code",
   "execution_count": 23,
   "metadata": {},
   "outputs": [
    {
     "name": "stdout",
     "output_type": "stream",
     "text": [
      "Parse progress: |████████████████████████████████████████████████████████████████| (done) 100%\n"
     ]
    }
   ],
   "source": [
    "cols_to_keep_6m = ['SCORE',\"6MReturn\"]\n",
    "train_6m = train.loc[:, cols_to_keep_6m]\n",
    "train_6m = h2o.H2OFrame(train_6m)\n",
    "x_6m = train_6m.columns\n",
    "y_6m = \"6MReturn\"\n",
    "x_6m.remove(y_6m)"
   ]
  },
  {
   "cell_type": "code",
   "execution_count": 24,
   "metadata": {},
   "outputs": [
    {
     "name": "stdout",
     "output_type": "stream",
     "text": [
      "AutoML progress: |█\n",
      "18:11:31.25: AutoML: XGBoost is not available; skipping it.\n",
      "\n",
      "██████████████████████████████████████████████████████████████| (done) 100%\n",
      "Model Details\n",
      "=============\n",
      "H2OStackedEnsembleEstimator :  Stacked Ensemble\n",
      "Model Key:  StackedEnsemble_BestOfFamily_1_AutoML_5_20220531_181131\n",
      "\n",
      "No model summary for this model\n",
      "\n",
      "ModelMetricsRegressionGLM: stackedensemble\n",
      "** Reported on train data. **\n",
      "\n",
      "MSE: 0.041524810941009425\n",
      "RMSE: 0.2037763748352822\n",
      "MAE: 0.1524815135076402\n",
      "RMSLE: 0.19598729167857118\n",
      "R^2: 0.15862225776471361\n",
      "Mean Residual Deviance: 0.041524810941009425\n",
      "Null degrees of freedom: 5863\n",
      "Residual degrees of freedom: 5860\n",
      "Null deviance: 289.4080496010846\n",
      "Residual deviance: 243.50149135807928\n",
      "AIC: -2004.7948129192973\n",
      "\n",
      "ModelMetricsRegressionGLM: stackedensemble\n",
      "** Reported on cross-validation data. **\n",
      "\n",
      "MSE: 0.047766505603362513\n",
      "RMSE: 0.21855549776512717\n",
      "MAE: 0.1630769163167287\n",
      "RMSLE: 0.20920672859656106\n",
      "R^2: 0.03215273644182426\n",
      "Mean Residual Deviance: 0.047766505603362513\n",
      "Null degrees of freedom: 5863\n",
      "Residual degrees of freedom: 5860\n",
      "Null deviance: 289.44385933996404\n",
      "Residual deviance: 280.1027888581178\n",
      "AIC: -1183.6379485268699\n",
      "\n",
      "Cross-Validation Metrics Summary: \n"
     ]
    },
    {
     "data": {
      "text/html": [
       "<div>\n",
       "<style scoped>\n",
       "    .dataframe tbody tr th:only-of-type {\n",
       "        vertical-align: middle;\n",
       "    }\n",
       "\n",
       "    .dataframe tbody tr th {\n",
       "        vertical-align: top;\n",
       "    }\n",
       "\n",
       "    .dataframe thead th {\n",
       "        text-align: right;\n",
       "    }\n",
       "</style>\n",
       "<table border=\"1\" class=\"dataframe\">\n",
       "  <thead>\n",
       "    <tr style=\"text-align: right;\">\n",
       "      <th></th>\n",
       "      <th></th>\n",
       "      <th>mean</th>\n",
       "      <th>sd</th>\n",
       "      <th>cv_1_valid</th>\n",
       "      <th>cv_2_valid</th>\n",
       "      <th>cv_3_valid</th>\n",
       "      <th>cv_4_valid</th>\n",
       "      <th>cv_5_valid</th>\n",
       "    </tr>\n",
       "  </thead>\n",
       "  <tbody>\n",
       "    <tr>\n",
       "      <th>0</th>\n",
       "      <td>mae</td>\n",
       "      <td>0.162911</td>\n",
       "      <td>0.005886</td>\n",
       "      <td>0.160960</td>\n",
       "      <td>0.160249</td>\n",
       "      <td>0.167719</td>\n",
       "      <td>0.170043</td>\n",
       "      <td>0.155582</td>\n",
       "    </tr>\n",
       "    <tr>\n",
       "      <th>1</th>\n",
       "      <td>mean_residual_deviance</td>\n",
       "      <td>0.047720</td>\n",
       "      <td>0.003158</td>\n",
       "      <td>0.046705</td>\n",
       "      <td>0.045768</td>\n",
       "      <td>0.049807</td>\n",
       "      <td>0.052054</td>\n",
       "      <td>0.044267</td>\n",
       "    </tr>\n",
       "    <tr>\n",
       "      <th>2</th>\n",
       "      <td>mse</td>\n",
       "      <td>0.047720</td>\n",
       "      <td>0.003158</td>\n",
       "      <td>0.046705</td>\n",
       "      <td>0.045768</td>\n",
       "      <td>0.049807</td>\n",
       "      <td>0.052054</td>\n",
       "      <td>0.044267</td>\n",
       "    </tr>\n",
       "    <tr>\n",
       "      <th>3</th>\n",
       "      <td>null_deviance</td>\n",
       "      <td>57.888770</td>\n",
       "      <td>4.925566</td>\n",
       "      <td>58.269245</td>\n",
       "      <td>57.687750</td>\n",
       "      <td>58.600370</td>\n",
       "      <td>64.369870</td>\n",
       "      <td>50.516620</td>\n",
       "    </tr>\n",
       "    <tr>\n",
       "      <th>4</th>\n",
       "      <td>r2</td>\n",
       "      <td>0.032370</td>\n",
       "      <td>0.010979</td>\n",
       "      <td>0.024166</td>\n",
       "      <td>0.038664</td>\n",
       "      <td>0.017223</td>\n",
       "      <td>0.041322</td>\n",
       "      <td>0.040474</td>\n",
       "    </tr>\n",
       "    <tr>\n",
       "      <th>5</th>\n",
       "      <td>residual_deviance</td>\n",
       "      <td>55.999413</td>\n",
       "      <td>4.808766</td>\n",
       "      <td>56.840416</td>\n",
       "      <td>55.424522</td>\n",
       "      <td>57.576576</td>\n",
       "      <td>61.683563</td>\n",
       "      <td>48.471985</td>\n",
       "    </tr>\n",
       "    <tr>\n",
       "      <th>6</th>\n",
       "      <td>rmse</td>\n",
       "      <td>0.218354</td>\n",
       "      <td>0.007196</td>\n",
       "      <td>0.216114</td>\n",
       "      <td>0.213934</td>\n",
       "      <td>0.223174</td>\n",
       "      <td>0.228153</td>\n",
       "      <td>0.210396</td>\n",
       "    </tr>\n",
       "    <tr>\n",
       "      <th>7</th>\n",
       "      <td>rmsle</td>\n",
       "      <td>0.208704</td>\n",
       "      <td>0.013334</td>\n",
       "      <td>0.214531</td>\n",
       "      <td>0.196203</td>\n",
       "      <td>0.210760</td>\n",
       "      <td>0.226921</td>\n",
       "      <td>0.195106</td>\n",
       "    </tr>\n",
       "  </tbody>\n",
       "</table>\n",
       "</div>"
      ],
      "text/plain": [
       "                                mean        sd  cv_1_valid  cv_2_valid  \\\n",
       "0                     mae   0.162911  0.005886    0.160960    0.160249   \n",
       "1  mean_residual_deviance   0.047720  0.003158    0.046705    0.045768   \n",
       "2                     mse   0.047720  0.003158    0.046705    0.045768   \n",
       "3           null_deviance  57.888770  4.925566   58.269245   57.687750   \n",
       "4                      r2   0.032370  0.010979    0.024166    0.038664   \n",
       "5       residual_deviance  55.999413  4.808766   56.840416   55.424522   \n",
       "6                    rmse   0.218354  0.007196    0.216114    0.213934   \n",
       "7                   rmsle   0.208704  0.013334    0.214531    0.196203   \n",
       "\n",
       "   cv_3_valid  cv_4_valid  cv_5_valid  \n",
       "0    0.167719    0.170043    0.155582  \n",
       "1    0.049807    0.052054    0.044267  \n",
       "2    0.049807    0.052054    0.044267  \n",
       "3   58.600370   64.369870   50.516620  \n",
       "4    0.017223    0.041322    0.040474  \n",
       "5   57.576576   61.683563   48.471985  \n",
       "6    0.223174    0.228153    0.210396  \n",
       "7    0.210760    0.226921    0.195106  "
      ]
     },
     "metadata": {},
     "output_type": "display_data"
    },
    {
     "data": {
      "text/plain": []
     },
     "execution_count": 24,
     "metadata": {},
     "output_type": "execute_result"
    }
   ],
   "source": [
    "aml_6m = H2OAutoML(max_models=7, seed=1)\n",
    "aml_6m.train(x=x_6m, y=y_6m, training_frame=train_6m)"
   ]
  },
  {
   "cell_type": "code",
   "execution_count": 25,
   "metadata": {},
   "outputs": [
    {
     "data": {
      "text/html": [
       "<table>\n",
       "<thead>\n",
       "<tr><th>model_id                                               </th><th style=\"text-align: right;\">    rmse</th><th style=\"text-align: right;\">      mse</th><th style=\"text-align: right;\">     mae</th><th style=\"text-align: right;\">   rmsle</th><th style=\"text-align: right;\">  mean_residual_deviance</th></tr>\n",
       "</thead>\n",
       "<tbody>\n",
       "<tr><td>StackedEnsemble_BestOfFamily_1_AutoML_5_20220531_181131</td><td style=\"text-align: right;\">0.218555</td><td style=\"text-align: right;\">0.0477665</td><td style=\"text-align: right;\">0.163077</td><td style=\"text-align: right;\">0.209207</td><td style=\"text-align: right;\">               0.0477665</td></tr>\n",
       "<tr><td>StackedEnsemble_AllModels_1_AutoML_5_20220531_181131   </td><td style=\"text-align: right;\">0.218654</td><td style=\"text-align: right;\">0.0478097</td><td style=\"text-align: right;\">0.163231</td><td style=\"text-align: right;\">0.209313</td><td style=\"text-align: right;\">               0.0478097</td></tr>\n",
       "<tr><td>GBM_2_AutoML_5_20220531_181131                         </td><td style=\"text-align: right;\">0.218709</td><td style=\"text-align: right;\">0.0478337</td><td style=\"text-align: right;\">0.163212</td><td style=\"text-align: right;\">0.209155</td><td style=\"text-align: right;\">               0.0478337</td></tr>\n",
       "<tr><td>GBM_3_AutoML_5_20220531_181131                         </td><td style=\"text-align: right;\">0.219047</td><td style=\"text-align: right;\">0.0479814</td><td style=\"text-align: right;\">0.163717</td><td style=\"text-align: right;\">0.209421</td><td style=\"text-align: right;\">               0.0479814</td></tr>\n",
       "<tr><td>GBM_1_AutoML_5_20220531_181131                         </td><td style=\"text-align: right;\">0.219743</td><td style=\"text-align: right;\">0.0482869</td><td style=\"text-align: right;\">0.164968</td><td style=\"text-align: right;\">0.210219</td><td style=\"text-align: right;\">               0.0482869</td></tr>\n",
       "<tr><td>GBM_4_AutoML_5_20220531_181131                         </td><td style=\"text-align: right;\">0.220278</td><td style=\"text-align: right;\">0.0485225</td><td style=\"text-align: right;\">0.164492</td><td style=\"text-align: right;\">0.210361</td><td style=\"text-align: right;\">               0.0485225</td></tr>\n",
       "<tr><td>GLM_1_AutoML_5_20220531_181131                         </td><td style=\"text-align: right;\">0.22138 </td><td style=\"text-align: right;\">0.0490093</td><td style=\"text-align: right;\">0.165243</td><td style=\"text-align: right;\">0.211896</td><td style=\"text-align: right;\">               0.0490093</td></tr>\n",
       "<tr><td>XRT_1_AutoML_5_20220531_181131                         </td><td style=\"text-align: right;\">0.247819</td><td style=\"text-align: right;\">0.0614141</td><td style=\"text-align: right;\">0.184626</td><td style=\"text-align: right;\">0.234376</td><td style=\"text-align: right;\">               0.0614141</td></tr>\n",
       "<tr><td>DRF_1_AutoML_5_20220531_181131                         </td><td style=\"text-align: right;\">0.252008</td><td style=\"text-align: right;\">0.0635079</td><td style=\"text-align: right;\">0.187416</td><td style=\"text-align: right;\">0.237808</td><td style=\"text-align: right;\">               0.0635079</td></tr>\n",
       "</tbody>\n",
       "</table>"
      ]
     },
     "metadata": {},
     "output_type": "display_data"
    },
    {
     "data": {
      "text/plain": []
     },
     "execution_count": 25,
     "metadata": {},
     "output_type": "execute_result"
    }
   ],
   "source": [
    "lb_6m = aml_6m.leaderboard\n",
    "lb_6m.head(rows=lb_6m.nrows)"
   ]
  },
  {
   "cell_type": "code",
   "execution_count": 26,
   "metadata": {},
   "outputs": [
    {
     "name": "stdout",
     "output_type": "stream",
     "text": [
      "Model Details\n",
      "=============\n",
      "H2OStackedEnsembleEstimator :  Stacked Ensemble\n",
      "Model Key:  StackedEnsemble_BestOfFamily_1_AutoML_5_20220531_181131\n",
      "\n",
      "No model summary for this model\n",
      "\n",
      "ModelMetricsRegressionGLM: stackedensemble\n",
      "** Reported on train data. **\n",
      "\n",
      "MSE: 0.041524810941009425\n",
      "RMSE: 0.2037763748352822\n",
      "MAE: 0.1524815135076402\n",
      "RMSLE: 0.19598729167857118\n",
      "R^2: 0.15862225776471361\n",
      "Mean Residual Deviance: 0.041524810941009425\n",
      "Null degrees of freedom: 5863\n",
      "Residual degrees of freedom: 5860\n",
      "Null deviance: 289.4080496010846\n",
      "Residual deviance: 243.50149135807928\n",
      "AIC: -2004.7948129192973\n",
      "\n",
      "ModelMetricsRegressionGLM: stackedensemble\n",
      "** Reported on cross-validation data. **\n",
      "\n",
      "MSE: 0.047766505603362513\n",
      "RMSE: 0.21855549776512717\n",
      "MAE: 0.1630769163167287\n",
      "RMSLE: 0.20920672859656106\n",
      "R^2: 0.03215273644182426\n",
      "Mean Residual Deviance: 0.047766505603362513\n",
      "Null degrees of freedom: 5863\n",
      "Residual degrees of freedom: 5860\n",
      "Null deviance: 289.44385933996404\n",
      "Residual deviance: 280.1027888581178\n",
      "AIC: -1183.6379485268699\n",
      "\n",
      "Cross-Validation Metrics Summary: \n"
     ]
    },
    {
     "data": {
      "text/html": [
       "<div>\n",
       "<style scoped>\n",
       "    .dataframe tbody tr th:only-of-type {\n",
       "        vertical-align: middle;\n",
       "    }\n",
       "\n",
       "    .dataframe tbody tr th {\n",
       "        vertical-align: top;\n",
       "    }\n",
       "\n",
       "    .dataframe thead th {\n",
       "        text-align: right;\n",
       "    }\n",
       "</style>\n",
       "<table border=\"1\" class=\"dataframe\">\n",
       "  <thead>\n",
       "    <tr style=\"text-align: right;\">\n",
       "      <th></th>\n",
       "      <th></th>\n",
       "      <th>mean</th>\n",
       "      <th>sd</th>\n",
       "      <th>cv_1_valid</th>\n",
       "      <th>cv_2_valid</th>\n",
       "      <th>cv_3_valid</th>\n",
       "      <th>cv_4_valid</th>\n",
       "      <th>cv_5_valid</th>\n",
       "    </tr>\n",
       "  </thead>\n",
       "  <tbody>\n",
       "    <tr>\n",
       "      <th>0</th>\n",
       "      <td>mae</td>\n",
       "      <td>0.162911</td>\n",
       "      <td>0.005886</td>\n",
       "      <td>0.160960</td>\n",
       "      <td>0.160249</td>\n",
       "      <td>0.167719</td>\n",
       "      <td>0.170043</td>\n",
       "      <td>0.155582</td>\n",
       "    </tr>\n",
       "    <tr>\n",
       "      <th>1</th>\n",
       "      <td>mean_residual_deviance</td>\n",
       "      <td>0.047720</td>\n",
       "      <td>0.003158</td>\n",
       "      <td>0.046705</td>\n",
       "      <td>0.045768</td>\n",
       "      <td>0.049807</td>\n",
       "      <td>0.052054</td>\n",
       "      <td>0.044267</td>\n",
       "    </tr>\n",
       "    <tr>\n",
       "      <th>2</th>\n",
       "      <td>mse</td>\n",
       "      <td>0.047720</td>\n",
       "      <td>0.003158</td>\n",
       "      <td>0.046705</td>\n",
       "      <td>0.045768</td>\n",
       "      <td>0.049807</td>\n",
       "      <td>0.052054</td>\n",
       "      <td>0.044267</td>\n",
       "    </tr>\n",
       "    <tr>\n",
       "      <th>3</th>\n",
       "      <td>null_deviance</td>\n",
       "      <td>57.888770</td>\n",
       "      <td>4.925566</td>\n",
       "      <td>58.269245</td>\n",
       "      <td>57.687750</td>\n",
       "      <td>58.600370</td>\n",
       "      <td>64.369870</td>\n",
       "      <td>50.516620</td>\n",
       "    </tr>\n",
       "    <tr>\n",
       "      <th>4</th>\n",
       "      <td>r2</td>\n",
       "      <td>0.032370</td>\n",
       "      <td>0.010979</td>\n",
       "      <td>0.024166</td>\n",
       "      <td>0.038664</td>\n",
       "      <td>0.017223</td>\n",
       "      <td>0.041322</td>\n",
       "      <td>0.040474</td>\n",
       "    </tr>\n",
       "    <tr>\n",
       "      <th>5</th>\n",
       "      <td>residual_deviance</td>\n",
       "      <td>55.999413</td>\n",
       "      <td>4.808766</td>\n",
       "      <td>56.840416</td>\n",
       "      <td>55.424522</td>\n",
       "      <td>57.576576</td>\n",
       "      <td>61.683563</td>\n",
       "      <td>48.471985</td>\n",
       "    </tr>\n",
       "    <tr>\n",
       "      <th>6</th>\n",
       "      <td>rmse</td>\n",
       "      <td>0.218354</td>\n",
       "      <td>0.007196</td>\n",
       "      <td>0.216114</td>\n",
       "      <td>0.213934</td>\n",
       "      <td>0.223174</td>\n",
       "      <td>0.228153</td>\n",
       "      <td>0.210396</td>\n",
       "    </tr>\n",
       "    <tr>\n",
       "      <th>7</th>\n",
       "      <td>rmsle</td>\n",
       "      <td>0.208704</td>\n",
       "      <td>0.013334</td>\n",
       "      <td>0.214531</td>\n",
       "      <td>0.196203</td>\n",
       "      <td>0.210760</td>\n",
       "      <td>0.226921</td>\n",
       "      <td>0.195106</td>\n",
       "    </tr>\n",
       "  </tbody>\n",
       "</table>\n",
       "</div>"
      ],
      "text/plain": [
       "                                mean        sd  cv_1_valid  cv_2_valid  \\\n",
       "0                     mae   0.162911  0.005886    0.160960    0.160249   \n",
       "1  mean_residual_deviance   0.047720  0.003158    0.046705    0.045768   \n",
       "2                     mse   0.047720  0.003158    0.046705    0.045768   \n",
       "3           null_deviance  57.888770  4.925566   58.269245   57.687750   \n",
       "4                      r2   0.032370  0.010979    0.024166    0.038664   \n",
       "5       residual_deviance  55.999413  4.808766   56.840416   55.424522   \n",
       "6                    rmse   0.218354  0.007196    0.216114    0.213934   \n",
       "7                   rmsle   0.208704  0.013334    0.214531    0.196203   \n",
       "\n",
       "   cv_3_valid  cv_4_valid  cv_5_valid  \n",
       "0    0.167719    0.170043    0.155582  \n",
       "1    0.049807    0.052054    0.044267  \n",
       "2    0.049807    0.052054    0.044267  \n",
       "3   58.600370   64.369870   50.516620  \n",
       "4    0.017223    0.041322    0.040474  \n",
       "5   57.576576   61.683563   48.471985  \n",
       "6    0.223174    0.228153    0.210396  \n",
       "7    0.210760    0.226921    0.195106  "
      ]
     },
     "metadata": {},
     "output_type": "display_data"
    },
    {
     "data": {
      "text/plain": []
     },
     "execution_count": 26,
     "metadata": {},
     "output_type": "execute_result"
    }
   ],
   "source": [
    "aml_6m.leader"
   ]
  },
  {
   "cell_type": "markdown",
   "metadata": {},
   "source": [
    "12 months"
   ]
  },
  {
   "cell_type": "code",
   "execution_count": 27,
   "metadata": {},
   "outputs": [
    {
     "name": "stdout",
     "output_type": "stream",
     "text": [
      "Parse progress: |████████████████████████████████████████████████████████████████| (done) 100%\n"
     ]
    }
   ],
   "source": [
    "cols_to_keep_12m = ['SCORE',\"12MReturn\"]\n",
    "train_12m = train.loc[:, cols_to_keep_12m]\n",
    "train_12m = h2o.H2OFrame(train_12m)\n",
    "x_12m = train_12m.columns\n",
    "y_12m = \"12MReturn\"\n",
    "x_12m.remove(y_12m)"
   ]
  },
  {
   "cell_type": "code",
   "execution_count": 29,
   "metadata": {},
   "outputs": [
    {
     "name": "stdout",
     "output_type": "stream",
     "text": [
      "AutoML progress: |█\n",
      "18:28:07.364: AutoML: XGBoost is not available; skipping it.\n",
      "\n",
      "██████████████████████████████████████████████████████████████| (done) 100%\n",
      "Model Details\n",
      "=============\n",
      "H2OStackedEnsembleEstimator :  Stacked Ensemble\n",
      "Model Key:  StackedEnsemble_BestOfFamily_1_AutoML_7_20220531_182807\n",
      "\n",
      "No model summary for this model\n",
      "\n",
      "ModelMetricsRegressionGLM: stackedensemble\n",
      "** Reported on train data. **\n",
      "\n",
      "MSE: 0.10069957835401587\n",
      "RMSE: 0.3173319686921188\n",
      "MAE: 0.22534389611057756\n",
      "RMSLE: 0.2659935331875712\n",
      "R^2: 0.17340134911807226\n",
      "Mean Residual Deviance: 0.10069957835401587\n",
      "Null degrees of freedom: 5863\n",
      "Residual degrees of freedom: 5860\n",
      "Null deviance: 714.3761084510802\n",
      "Residual deviance: 590.502327467949\n",
      "AIC: 3189.832577559926\n",
      "\n",
      "ModelMetricsRegressionGLM: stackedensemble\n",
      "** Reported on cross-validation data. **\n",
      "\n",
      "MSE: 0.11750409250785605\n",
      "RMSE: 0.3427886995043099\n",
      "MAE: 0.2425937338208772\n",
      "RMSLE: 0.2851254644810321\n",
      "R^2: 0.03546046639204792\n",
      "Mean Residual Deviance: 0.11750409250785605\n",
      "Null degrees of freedom: 5863\n",
      "Residual degrees of freedom: 5860\n",
      "Null deviance: 714.6483025787527\n",
      "Residual deviance: 689.0439984660679\n",
      "AIC: 4094.8327883186053\n",
      "\n",
      "Cross-Validation Metrics Summary: \n"
     ]
    },
    {
     "data": {
      "text/html": [
       "<div>\n",
       "<style scoped>\n",
       "    .dataframe tbody tr th:only-of-type {\n",
       "        vertical-align: middle;\n",
       "    }\n",
       "\n",
       "    .dataframe tbody tr th {\n",
       "        vertical-align: top;\n",
       "    }\n",
       "\n",
       "    .dataframe thead th {\n",
       "        text-align: right;\n",
       "    }\n",
       "</style>\n",
       "<table border=\"1\" class=\"dataframe\">\n",
       "  <thead>\n",
       "    <tr style=\"text-align: right;\">\n",
       "      <th></th>\n",
       "      <th></th>\n",
       "      <th>mean</th>\n",
       "      <th>sd</th>\n",
       "      <th>cv_1_valid</th>\n",
       "      <th>cv_2_valid</th>\n",
       "      <th>cv_3_valid</th>\n",
       "      <th>cv_4_valid</th>\n",
       "      <th>cv_5_valid</th>\n",
       "    </tr>\n",
       "  </thead>\n",
       "  <tbody>\n",
       "    <tr>\n",
       "      <th>0</th>\n",
       "      <td>mae</td>\n",
       "      <td>0.242412</td>\n",
       "      <td>0.010355</td>\n",
       "      <td>0.242334</td>\n",
       "      <td>0.241176</td>\n",
       "      <td>0.252491</td>\n",
       "      <td>0.250014</td>\n",
       "      <td>0.226042</td>\n",
       "    </tr>\n",
       "    <tr>\n",
       "      <th>1</th>\n",
       "      <td>mean_residual_deviance</td>\n",
       "      <td>0.117291</td>\n",
       "      <td>0.009697</td>\n",
       "      <td>0.114406</td>\n",
       "      <td>0.121166</td>\n",
       "      <td>0.123808</td>\n",
       "      <td>0.125416</td>\n",
       "      <td>0.101662</td>\n",
       "    </tr>\n",
       "    <tr>\n",
       "      <th>2</th>\n",
       "      <td>mse</td>\n",
       "      <td>0.117291</td>\n",
       "      <td>0.009697</td>\n",
       "      <td>0.114406</td>\n",
       "      <td>0.121166</td>\n",
       "      <td>0.123808</td>\n",
       "      <td>0.125416</td>\n",
       "      <td>0.101662</td>\n",
       "    </tr>\n",
       "    <tr>\n",
       "      <th>3</th>\n",
       "      <td>null_deviance</td>\n",
       "      <td>142.929660</td>\n",
       "      <td>15.402166</td>\n",
       "      <td>144.145220</td>\n",
       "      <td>151.627780</td>\n",
       "      <td>146.954390</td>\n",
       "      <td>155.433960</td>\n",
       "      <td>116.486960</td>\n",
       "    </tr>\n",
       "    <tr>\n",
       "      <th>4</th>\n",
       "      <td>r2</td>\n",
       "      <td>0.035155</td>\n",
       "      <td>0.007801</td>\n",
       "      <td>0.034075</td>\n",
       "      <td>0.031127</td>\n",
       "      <td>0.024880</td>\n",
       "      <td>0.041817</td>\n",
       "      <td>0.043877</td>\n",
       "    </tr>\n",
       "    <tr>\n",
       "      <th>5</th>\n",
       "      <td>residual_deviance</td>\n",
       "      <td>137.804550</td>\n",
       "      <td>15.234646</td>\n",
       "      <td>139.231960</td>\n",
       "      <td>146.731480</td>\n",
       "      <td>143.121930</td>\n",
       "      <td>148.617740</td>\n",
       "      <td>111.319640</td>\n",
       "    </tr>\n",
       "    <tr>\n",
       "      <th>6</th>\n",
       "      <td>rmse</td>\n",
       "      <td>0.342235</td>\n",
       "      <td>0.014421</td>\n",
       "      <td>0.338239</td>\n",
       "      <td>0.348088</td>\n",
       "      <td>0.351863</td>\n",
       "      <td>0.354141</td>\n",
       "      <td>0.318844</td>\n",
       "    </tr>\n",
       "    <tr>\n",
       "      <th>7</th>\n",
       "      <td>rmsle</td>\n",
       "      <td>0.284370</td>\n",
       "      <td>0.019683</td>\n",
       "      <td>0.283895</td>\n",
       "      <td>0.271425</td>\n",
       "      <td>0.291291</td>\n",
       "      <td>0.313241</td>\n",
       "      <td>0.262000</td>\n",
       "    </tr>\n",
       "  </tbody>\n",
       "</table>\n",
       "</div>"
      ],
      "text/plain": [
       "                                 mean         sd  cv_1_valid  cv_2_valid  \\\n",
       "0                     mae    0.242412   0.010355    0.242334    0.241176   \n",
       "1  mean_residual_deviance    0.117291   0.009697    0.114406    0.121166   \n",
       "2                     mse    0.117291   0.009697    0.114406    0.121166   \n",
       "3           null_deviance  142.929660  15.402166  144.145220  151.627780   \n",
       "4                      r2    0.035155   0.007801    0.034075    0.031127   \n",
       "5       residual_deviance  137.804550  15.234646  139.231960  146.731480   \n",
       "6                    rmse    0.342235   0.014421    0.338239    0.348088   \n",
       "7                   rmsle    0.284370   0.019683    0.283895    0.271425   \n",
       "\n",
       "   cv_3_valid  cv_4_valid  cv_5_valid  \n",
       "0    0.252491    0.250014    0.226042  \n",
       "1    0.123808    0.125416    0.101662  \n",
       "2    0.123808    0.125416    0.101662  \n",
       "3  146.954390  155.433960  116.486960  \n",
       "4    0.024880    0.041817    0.043877  \n",
       "5  143.121930  148.617740  111.319640  \n",
       "6    0.351863    0.354141    0.318844  \n",
       "7    0.291291    0.313241    0.262000  "
      ]
     },
     "metadata": {},
     "output_type": "display_data"
    },
    {
     "data": {
      "text/plain": []
     },
     "execution_count": 29,
     "metadata": {},
     "output_type": "execute_result"
    }
   ],
   "source": [
    "aml_12m = H2OAutoML(max_models=7, seed=1)\n",
    "aml_12m.train(x=x_12m, y=y_12m, training_frame=train_12m)"
   ]
  },
  {
   "cell_type": "code",
   "execution_count": 30,
   "metadata": {},
   "outputs": [
    {
     "data": {
      "text/html": [
       "<table>\n",
       "<thead>\n",
       "<tr><th>model_id                                               </th><th style=\"text-align: right;\">    rmse</th><th style=\"text-align: right;\">     mse</th><th style=\"text-align: right;\">     mae</th><th style=\"text-align: right;\">   rmsle</th><th style=\"text-align: right;\">  mean_residual_deviance</th></tr>\n",
       "</thead>\n",
       "<tbody>\n",
       "<tr><td>StackedEnsemble_BestOfFamily_1_AutoML_7_20220531_182807</td><td style=\"text-align: right;\">0.342789</td><td style=\"text-align: right;\">0.117504</td><td style=\"text-align: right;\">0.242594</td><td style=\"text-align: right;\">0.285125</td><td style=\"text-align: right;\">                0.117504</td></tr>\n",
       "<tr><td>StackedEnsemble_AllModels_1_AutoML_7_20220531_182807   </td><td style=\"text-align: right;\">0.342852</td><td style=\"text-align: right;\">0.117548</td><td style=\"text-align: right;\">0.242665</td><td style=\"text-align: right;\">0.2851  </td><td style=\"text-align: right;\">                0.117548</td></tr>\n",
       "<tr><td>GBM_2_AutoML_7_20220531_182807                         </td><td style=\"text-align: right;\">0.343295</td><td style=\"text-align: right;\">0.117852</td><td style=\"text-align: right;\">0.243133</td><td style=\"text-align: right;\">0.285215</td><td style=\"text-align: right;\">                0.117852</td></tr>\n",
       "<tr><td>GBM_3_AutoML_7_20220531_182807                         </td><td style=\"text-align: right;\">0.344369</td><td style=\"text-align: right;\">0.11859 </td><td style=\"text-align: right;\">0.244175</td><td style=\"text-align: right;\">0.286137</td><td style=\"text-align: right;\">                0.11859 </td></tr>\n",
       "<tr><td>GBM_1_AutoML_7_20220531_182807                         </td><td style=\"text-align: right;\">0.344734</td><td style=\"text-align: right;\">0.118841</td><td style=\"text-align: right;\">0.244131</td><td style=\"text-align: right;\">0.286418</td><td style=\"text-align: right;\">                0.118841</td></tr>\n",
       "<tr><td>GBM_4_AutoML_7_20220531_182807                         </td><td style=\"text-align: right;\">0.34512 </td><td style=\"text-align: right;\">0.119108</td><td style=\"text-align: right;\">0.24476 </td><td style=\"text-align: right;\">0.28664 </td><td style=\"text-align: right;\">                0.119108</td></tr>\n",
       "<tr><td>GLM_1_AutoML_7_20220531_182807                         </td><td style=\"text-align: right;\">0.347568</td><td style=\"text-align: right;\">0.120803</td><td style=\"text-align: right;\">0.245149</td><td style=\"text-align: right;\">0.288904</td><td style=\"text-align: right;\">                0.120803</td></tr>\n",
       "<tr><td>XRT_1_AutoML_7_20220531_182807                         </td><td style=\"text-align: right;\">0.385479</td><td style=\"text-align: right;\">0.148594</td><td style=\"text-align: right;\">0.273389</td><td style=\"text-align: right;\">0.314991</td><td style=\"text-align: right;\">                0.148594</td></tr>\n",
       "<tr><td>DRF_1_AutoML_7_20220531_182807                         </td><td style=\"text-align: right;\">0.390944</td><td style=\"text-align: right;\">0.152837</td><td style=\"text-align: right;\">0.276827</td><td style=\"text-align: right;\">0.318843</td><td style=\"text-align: right;\">                0.152837</td></tr>\n",
       "</tbody>\n",
       "</table>"
      ]
     },
     "metadata": {},
     "output_type": "display_data"
    },
    {
     "data": {
      "text/plain": []
     },
     "execution_count": 30,
     "metadata": {},
     "output_type": "execute_result"
    }
   ],
   "source": [
    "lb_12m = aml_12m.leaderboard\n",
    "lb_12m.head(rows=lb_12m.nrows)"
   ]
  },
  {
   "cell_type": "code",
   "execution_count": 31,
   "metadata": {},
   "outputs": [
    {
     "name": "stdout",
     "output_type": "stream",
     "text": [
      "Model Details\n",
      "=============\n",
      "H2OStackedEnsembleEstimator :  Stacked Ensemble\n",
      "Model Key:  StackedEnsemble_BestOfFamily_1_AutoML_7_20220531_182807\n",
      "\n",
      "No model summary for this model\n",
      "\n",
      "ModelMetricsRegressionGLM: stackedensemble\n",
      "** Reported on train data. **\n",
      "\n",
      "MSE: 0.10069957835401587\n",
      "RMSE: 0.3173319686921188\n",
      "MAE: 0.22534389611057756\n",
      "RMSLE: 0.2659935331875712\n",
      "R^2: 0.17340134911807226\n",
      "Mean Residual Deviance: 0.10069957835401587\n",
      "Null degrees of freedom: 5863\n",
      "Residual degrees of freedom: 5860\n",
      "Null deviance: 714.3761084510802\n",
      "Residual deviance: 590.502327467949\n",
      "AIC: 3189.832577559926\n",
      "\n",
      "ModelMetricsRegressionGLM: stackedensemble\n",
      "** Reported on cross-validation data. **\n",
      "\n",
      "MSE: 0.11750409250785605\n",
      "RMSE: 0.3427886995043099\n",
      "MAE: 0.2425937338208772\n",
      "RMSLE: 0.2851254644810321\n",
      "R^2: 0.03546046639204792\n",
      "Mean Residual Deviance: 0.11750409250785605\n",
      "Null degrees of freedom: 5863\n",
      "Residual degrees of freedom: 5860\n",
      "Null deviance: 714.6483025787527\n",
      "Residual deviance: 689.0439984660679\n",
      "AIC: 4094.8327883186053\n",
      "\n",
      "Cross-Validation Metrics Summary: \n"
     ]
    },
    {
     "data": {
      "text/html": [
       "<div>\n",
       "<style scoped>\n",
       "    .dataframe tbody tr th:only-of-type {\n",
       "        vertical-align: middle;\n",
       "    }\n",
       "\n",
       "    .dataframe tbody tr th {\n",
       "        vertical-align: top;\n",
       "    }\n",
       "\n",
       "    .dataframe thead th {\n",
       "        text-align: right;\n",
       "    }\n",
       "</style>\n",
       "<table border=\"1\" class=\"dataframe\">\n",
       "  <thead>\n",
       "    <tr style=\"text-align: right;\">\n",
       "      <th></th>\n",
       "      <th></th>\n",
       "      <th>mean</th>\n",
       "      <th>sd</th>\n",
       "      <th>cv_1_valid</th>\n",
       "      <th>cv_2_valid</th>\n",
       "      <th>cv_3_valid</th>\n",
       "      <th>cv_4_valid</th>\n",
       "      <th>cv_5_valid</th>\n",
       "    </tr>\n",
       "  </thead>\n",
       "  <tbody>\n",
       "    <tr>\n",
       "      <th>0</th>\n",
       "      <td>mae</td>\n",
       "      <td>0.242412</td>\n",
       "      <td>0.010355</td>\n",
       "      <td>0.242334</td>\n",
       "      <td>0.241176</td>\n",
       "      <td>0.252491</td>\n",
       "      <td>0.250014</td>\n",
       "      <td>0.226042</td>\n",
       "    </tr>\n",
       "    <tr>\n",
       "      <th>1</th>\n",
       "      <td>mean_residual_deviance</td>\n",
       "      <td>0.117291</td>\n",
       "      <td>0.009697</td>\n",
       "      <td>0.114406</td>\n",
       "      <td>0.121166</td>\n",
       "      <td>0.123808</td>\n",
       "      <td>0.125416</td>\n",
       "      <td>0.101662</td>\n",
       "    </tr>\n",
       "    <tr>\n",
       "      <th>2</th>\n",
       "      <td>mse</td>\n",
       "      <td>0.117291</td>\n",
       "      <td>0.009697</td>\n",
       "      <td>0.114406</td>\n",
       "      <td>0.121166</td>\n",
       "      <td>0.123808</td>\n",
       "      <td>0.125416</td>\n",
       "      <td>0.101662</td>\n",
       "    </tr>\n",
       "    <tr>\n",
       "      <th>3</th>\n",
       "      <td>null_deviance</td>\n",
       "      <td>142.929660</td>\n",
       "      <td>15.402166</td>\n",
       "      <td>144.145220</td>\n",
       "      <td>151.627780</td>\n",
       "      <td>146.954390</td>\n",
       "      <td>155.433960</td>\n",
       "      <td>116.486960</td>\n",
       "    </tr>\n",
       "    <tr>\n",
       "      <th>4</th>\n",
       "      <td>r2</td>\n",
       "      <td>0.035155</td>\n",
       "      <td>0.007801</td>\n",
       "      <td>0.034075</td>\n",
       "      <td>0.031127</td>\n",
       "      <td>0.024880</td>\n",
       "      <td>0.041817</td>\n",
       "      <td>0.043877</td>\n",
       "    </tr>\n",
       "    <tr>\n",
       "      <th>5</th>\n",
       "      <td>residual_deviance</td>\n",
       "      <td>137.804550</td>\n",
       "      <td>15.234646</td>\n",
       "      <td>139.231960</td>\n",
       "      <td>146.731480</td>\n",
       "      <td>143.121930</td>\n",
       "      <td>148.617740</td>\n",
       "      <td>111.319640</td>\n",
       "    </tr>\n",
       "    <tr>\n",
       "      <th>6</th>\n",
       "      <td>rmse</td>\n",
       "      <td>0.342235</td>\n",
       "      <td>0.014421</td>\n",
       "      <td>0.338239</td>\n",
       "      <td>0.348088</td>\n",
       "      <td>0.351863</td>\n",
       "      <td>0.354141</td>\n",
       "      <td>0.318844</td>\n",
       "    </tr>\n",
       "    <tr>\n",
       "      <th>7</th>\n",
       "      <td>rmsle</td>\n",
       "      <td>0.284370</td>\n",
       "      <td>0.019683</td>\n",
       "      <td>0.283895</td>\n",
       "      <td>0.271425</td>\n",
       "      <td>0.291291</td>\n",
       "      <td>0.313241</td>\n",
       "      <td>0.262000</td>\n",
       "    </tr>\n",
       "  </tbody>\n",
       "</table>\n",
       "</div>"
      ],
      "text/plain": [
       "                                 mean         sd  cv_1_valid  cv_2_valid  \\\n",
       "0                     mae    0.242412   0.010355    0.242334    0.241176   \n",
       "1  mean_residual_deviance    0.117291   0.009697    0.114406    0.121166   \n",
       "2                     mse    0.117291   0.009697    0.114406    0.121166   \n",
       "3           null_deviance  142.929660  15.402166  144.145220  151.627780   \n",
       "4                      r2    0.035155   0.007801    0.034075    0.031127   \n",
       "5       residual_deviance  137.804550  15.234646  139.231960  146.731480   \n",
       "6                    rmse    0.342235   0.014421    0.338239    0.348088   \n",
       "7                   rmsle    0.284370   0.019683    0.283895    0.271425   \n",
       "\n",
       "   cv_3_valid  cv_4_valid  cv_5_valid  \n",
       "0    0.252491    0.250014    0.226042  \n",
       "1    0.123808    0.125416    0.101662  \n",
       "2    0.123808    0.125416    0.101662  \n",
       "3  146.954390  155.433960  116.486960  \n",
       "4    0.024880    0.041817    0.043877  \n",
       "5  143.121930  148.617740  111.319640  \n",
       "6    0.351863    0.354141    0.318844  \n",
       "7    0.291291    0.313241    0.262000  "
      ]
     },
     "metadata": {},
     "output_type": "display_data"
    },
    {
     "data": {
      "text/plain": []
     },
     "execution_count": 31,
     "metadata": {},
     "output_type": "execute_result"
    }
   ],
   "source": [
    "aml_12m.leader"
   ]
  }
 ],
 "metadata": {
  "interpreter": {
   "hash": "e1810f1b07ff6a9bd6e2ce811cb2206e3ea7393940b0ab24041e8daedbafedfc"
  },
  "kernelspec": {
   "display_name": "Python 3.10.4 64-bit",
   "language": "python",
   "name": "python3"
  },
  "language_info": {
   "codemirror_mode": {
    "name": "ipython",
    "version": 3
   },
   "file_extension": ".py",
   "mimetype": "text/x-python",
   "name": "python",
   "nbconvert_exporter": "python",
   "pygments_lexer": "ipython3",
   "version": "3.10.4"
  },
  "orig_nbformat": 4
 },
 "nbformat": 4,
 "nbformat_minor": 2
}
