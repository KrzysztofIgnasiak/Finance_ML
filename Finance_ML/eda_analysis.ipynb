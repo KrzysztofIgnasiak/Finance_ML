{
 "cells": [
  {
   "cell_type": "code",
   "execution_count": 2,
   "metadata": {},
   "outputs": [],
   "source": [
    "import numpy as np\n",
    "import pandas as pd\n",
    "import re\n",
    "import yfinance as yf\n",
    "\n",
    "import matplotlib as mpl\n",
    "import matplotlib.pyplot as plt\n",
    "import seaborn as sns"
   ]
  },
  {
   "cell_type": "code",
   "execution_count": 3,
   "metadata": {},
   "outputs": [],
   "source": [
    "#define Seaborn color palette to use\n",
    "colors = sns.color_palette('pastel')[0:5]"
   ]
  },
  {
   "cell_type": "code",
   "execution_count": 7,
   "metadata": {},
   "outputs": [],
   "source": [
    "returns_columns = [\"1MReturn\",\"3MReturn\",\"6MReturn\",\"12MReturn\"]"
   ]
  },
  {
   "cell_type": "markdown",
   "metadata": {},
   "source": [
    "Importing data"
   ]
  },
  {
   "cell_type": "code",
   "execution_count": 4,
   "metadata": {},
   "outputs": [],
   "source": [
    "convictions_and_returns = pd.read_csv('convictions_and_returns.csv')  "
   ]
  },
  {
   "cell_type": "code",
   "execution_count": 6,
   "metadata": {},
   "outputs": [],
   "source": [
    "## formating date\n",
    "convictions_and_returns['DATE'] = pd.to_datetime(\n",
    "                          convictions_and_returns['DATE'],\n",
    "                          format='%Y-%m-%d')"
   ]
  },
  {
   "cell_type": "code",
   "execution_count": 8,
   "metadata": {},
   "outputs": [],
   "source": [
    "## sorting\n",
    "convictions_and_returns = convictions_and_returns.sort_values(by=\"DATE\")"
   ]
  },
  {
   "cell_type": "code",
   "execution_count": 9,
   "metadata": {},
   "outputs": [],
   "source": [
    "# replace -1 with nan in Returns columns\n",
    "convictions_and_returns[returns_columns] = convictions_and_returns[returns_columns].replace({'-1':np.nan, -1:np.nan})"
   ]
  },
  {
   "cell_type": "code",
   "execution_count": 10,
   "metadata": {},
   "outputs": [],
   "source": [
    "# drop duplicated index\n",
    "\n",
    "convictions_and_returns.drop(['Unnamed: 0'],axis=1, inplace=True)"
   ]
  },
  {
   "cell_type": "markdown",
   "metadata": {},
   "source": [
    "are some rows duplicated?"
   ]
  },
  {
   "cell_type": "code",
   "execution_count": 11,
   "metadata": {},
   "outputs": [
    {
     "data": {
      "text/plain": [
       "Index(['DATE', 'ID', 'STOCK', 'SECTOR', 'TYPE', 'SCORE', 'TIME', '1MReturn',\n",
       "       '3MReturn', '6MReturn', '12MReturn'],\n",
       "      dtype='object')"
      ]
     },
     "execution_count": 11,
     "metadata": {},
     "output_type": "execute_result"
    }
   ],
   "source": [
    "convictions_and_returns.columns"
   ]
  },
  {
   "cell_type": "code",
   "execution_count": 12,
   "metadata": {},
   "outputs": [
    {
     "data": {
      "text/plain": [
       "0"
      ]
     },
     "execution_count": 12,
     "metadata": {},
     "output_type": "execute_result"
    }
   ],
   "source": [
    "convictions_and_returns.duplicated().sum()"
   ]
  },
  {
   "cell_type": "markdown",
   "metadata": {},
   "source": [
    "How many stocks dont have any ratings"
   ]
  },
  {
   "cell_type": "code",
   "execution_count": 13,
   "metadata": {},
   "outputs": [],
   "source": [
    "is_all_null_per_stock = convictions_and_returns.groupby('STOCK')['SCORE'].apply(lambda x: x.isnull().all()).to_frame()\n",
    "all_null_per_stock_count = is_all_null_per_stock['SCORE'].value_counts().to_frame()\n",
    "all_null_per_stock_count.reset_index(inplace=True)\n",
    "all_null_per_stock_count.columns = ['VALUE', 'COUNT']"
   ]
  },
  {
   "cell_type": "code",
   "execution_count": 14,
   "metadata": {},
   "outputs": [
    {
     "data": {
      "image/png": "[encoded data removed]",
      "text/plain": [
       "<Figure size 432x288 with 1 Axes>"
      ]
     },
     "metadata": {
      "needs_background": "light"
     },
     "output_type": "display_data"
    }
   ],
   "source": [
    "ax = sns.barplot(x='VALUE', y='COUNT', data=all_null_per_stock_count)\n",
    "ax.bar_label(ax.containers[0])\n",
    "plt.show()"
   ]
  },
  {
   "cell_type": "markdown",
   "metadata": {},
   "source": [
    "Companies whitout any ratings can be deleted. There is nothing more to analyze"
   ]
  },
  {
   "cell_type": "code",
   "execution_count": 15,
   "metadata": {},
   "outputs": [],
   "source": [
    "# deleting companies without any ratings\n",
    "companies_without_scores = is_all_null_per_stock.loc[is_all_null_per_stock['SCORE'] == True]\n",
    "companies_without_scores.reset_index(inplace=True)\n",
    "companies_without_score = companies_without_scores['STOCK'].to_list()"
   ]
  },
  {
   "cell_type": "code",
   "execution_count": 16,
   "metadata": {},
   "outputs": [],
   "source": [
    "convictions_and_returns = convictions_and_returns[~convictions_and_returns['STOCK'].isin(companies_without_score)]"
   ]
  },
  {
   "cell_type": "markdown",
   "metadata": {},
   "source": [
    "Duplicated values in-depth analysis"
   ]
  },
  {
   "cell_type": "code",
   "execution_count": 17,
   "metadata": {},
   "outputs": [
    {
     "data": {
      "text/plain": [
       "115"
      ]
     },
     "execution_count": 17,
     "metadata": {},
     "output_type": "execute_result"
    }
   ],
   "source": [
    "convictions_and_returns.duplicated(subset=[\"STOCK\",\"DATE\"]).sum()"
   ]
  },
  {
   "cell_type": "code",
   "execution_count": 18,
   "metadata": {},
   "outputs": [
    {
     "data": {
      "text/plain": [
       "115"
      ]
     },
     "execution_count": 18,
     "metadata": {},
     "output_type": "execute_result"
    }
   ],
   "source": [
    "convictions_and_returns.duplicated(subset=[\"STOCK\",\"DATE\",\"SCORE\"]).sum()"
   ]
  },
  {
   "cell_type": "markdown",
   "metadata": {},
   "source": [
    "The duplicated rows can be removed, because more or two scores for the same date and stock dont bring any new information"
   ]
  },
  {
   "cell_type": "code",
   "execution_count": 19,
   "metadata": {},
   "outputs": [],
   "source": [
    "convictions_and_returns.drop_duplicates(subset=[\"STOCK\",\"DATE\",\"SCORE\"],keep=\"first\",inplace=True)"
   ]
  },
  {
   "cell_type": "code",
   "execution_count": 38,
   "metadata": {},
   "outputs": [],
   "source": [
    "## save deduplicated convictions and returns without companies with no convictions\n",
    "\n",
    "convictions_and_returns.to_csv('convictions_and_returns_cleaned.csv')"
   ]
  },
  {
   "cell_type": "markdown",
   "metadata": {},
   "source": [
    "How many Stocks have at least one missing score?"
   ]
  },
  {
   "cell_type": "code",
   "execution_count": 20,
   "metadata": {},
   "outputs": [],
   "source": [
    "is_any_null_per_stock = convictions_and_returns.groupby('STOCK')['SCORE'].apply(lambda x: x.isnull().any()).to_frame()"
   ]
  },
  {
   "cell_type": "code",
   "execution_count": 21,
   "metadata": {},
   "outputs": [],
   "source": [
    "any_null_per_stock_count = is_any_null_per_stock['SCORE'].value_counts().to_frame()\n",
    "any_null_per_stock_count.reset_index(inplace=True)\n",
    "any_null_per_stock_count.columns = ['VALUE', 'COUNT']"
   ]
  },
  {
   "cell_type": "code",
   "execution_count": 22,
   "metadata": {},
   "outputs": [
    {
     "data": {
      "image/png": "[encoded data removed]",
      "text/plain": [
       "<Figure size 432x288 with 1 Axes>"
      ]
     },
     "metadata": {},
     "output_type": "display_data"
    }
   ],
   "source": [
    "plt.pie(any_null_per_stock_count['COUNT'], labels = any_null_per_stock_count['VALUE'], colors = colors, autopct='%.0f%%')\n",
    "plt.show()"
   ]
  },
  {
   "cell_type": "markdown",
   "metadata": {},
   "source": [
    "Almost 80 percent of companies have at least one measing value when it comes to score"
   ]
  },
  {
   "cell_type": "markdown",
   "metadata": {},
   "source": [
    "Which Percent of Returns are missing"
   ]
  },
  {
   "cell_type": "code",
   "execution_count": 23,
   "metadata": {},
   "outputs": [],
   "source": [
    "percent_missing = convictions_and_returns[returns_columns].isnull().sum() * 100 / len(convictions_and_returns)"
   ]
  },
  {
   "cell_type": "code",
   "execution_count": 24,
   "metadata": {},
   "outputs": [
    {
     "data": {
      "text/plain": [
       "1MReturn     0.164745\n",
       "3MReturn     0.114605\n",
       "6MReturn     0.100279\n",
       "12MReturn    4.440943\n",
       "dtype: float64"
      ]
     },
     "execution_count": 24,
     "metadata": {},
     "output_type": "execute_result"
    }
   ],
   "source": [
    "percent_missing"
   ]
  },
  {
   "cell_type": "markdown",
   "metadata": {},
   "source": [
    "How many companies dont have any returns?"
   ]
  },
  {
   "cell_type": "code",
   "execution_count": 25,
   "metadata": {},
   "outputs": [],
   "source": [
    "is_all_returns_null_per_stock = convictions_and_returns.groupby('STOCK')[returns_columns].apply(lambda x: x.isnull().all())\n",
    "is_all_returns_per_stock_count = is_all_returns_null_per_stock[returns_columns].value_counts()"
   ]
  },
  {
   "cell_type": "code",
   "execution_count": 26,
   "metadata": {},
   "outputs": [
    {
     "data": {
      "text/plain": [
       "1MReturn  3MReturn  6MReturn  12MReturn\n",
       "False     False     False     False        608\n",
       "dtype: int64"
      ]
     },
     "execution_count": 26,
     "metadata": {},
     "output_type": "execute_result"
    }
   ],
   "source": [
    "is_all_returns_per_stock_count"
   ]
  },
  {
   "cell_type": "markdown",
   "metadata": {},
   "source": [
    " there is no companies left witch dont have any "
   ]
  },
  {
   "cell_type": "markdown",
   "metadata": {},
   "source": [
    "Consequtives nans for each company"
   ]
  },
  {
   "cell_type": "code",
   "execution_count": 27,
   "metadata": {},
   "outputs": [],
   "source": [
    "list_of_companies = convictions_and_returns[\"STOCK\"].unique()\n",
    "list_of_dates = convictions_and_returns[\"DATE\"].unique()"
   ]
  },
  {
   "cell_type": "code",
   "execution_count": 28,
   "metadata": {},
   "outputs": [],
   "source": [
    "def extract_nan_statistics(df, list_of_companies):\n",
    "    nulls = pd.DataFrame(columns=[\"STOCK\",\"NAN number\",'Consequtive NAN max' ])\n",
    "    for l in list_of_companies:\n",
    "        stock_data = df.loc[df['STOCK'] == l]\n",
    "        temp = stock_data.SCORE.isnull().astype(int).groupby(stock_data.SCORE.notnull().astype(int).cumsum()).sum() ## consequtives nans\n",
    "        nulls.loc[len(nulls.index)] = [l, temp.sum(), temp.max()]\n",
    "        \n",
    "    return nulls\n"
   ]
  },
  {
   "cell_type": "code",
   "execution_count": 29,
   "metadata": {},
   "outputs": [],
   "source": [
    "nulls = extract_nan_statistics(convictions_and_returns, list_of_companies)"
   ]
  },
  {
   "cell_type": "code",
   "execution_count": 30,
   "metadata": {},
   "outputs": [],
   "source": [
    "nulls_max_value_counts = nulls['Consequtive NAN max'].value_counts().to_frame()\n",
    "nulls_max_value_counts.reset_index(inplace = True)"
   ]
  },
  {
   "cell_type": "code",
   "execution_count": 31,
   "metadata": {},
   "outputs": [
    {
     "data": {
      "text/plain": [
       "Index(['index', 'Consequtive NAN max'], dtype='object')"
      ]
     },
     "execution_count": 31,
     "metadata": {},
     "output_type": "execute_result"
    }
   ],
   "source": [
    "nulls_max_value_counts.columns"
   ]
  },
  {
   "cell_type": "code",
   "execution_count": 32,
   "metadata": {},
   "outputs": [
    {
     "data": {
      "image/png": "[encoded data removed]",
      "text/plain": [
       "<Figure size 432x288 with 1 Axes>"
      ]
     },
     "metadata": {
      "needs_background": "light"
     },
     "output_type": "display_data"
    }
   ],
   "source": [
    "ax = sns.barplot(x=\"index\", y=\"Consequtive NAN max\", data=nulls_max_value_counts)\n",
    "plt.show()"
   ]
  },
  {
   "cell_type": "code",
   "execution_count": 33,
   "metadata": {},
   "outputs": [
    {
     "name": "stdout",
     "output_type": "stream",
     "text": [
      "23\n"
     ]
    }
   ],
   "source": [
    "print(len(list_of_dates))"
   ]
  },
  {
   "cell_type": "markdown",
   "metadata": {},
   "source": [
    "Which part of nans is only one period specific?"
   ]
  },
  {
   "cell_type": "code",
   "execution_count": 34,
   "metadata": {},
   "outputs": [],
   "source": [
    "nulls['one period only'] = np.where(nulls['NAN number']== nulls[\"Consequtive NAN max\"], True, False)"
   ]
  },
  {
   "cell_type": "code",
   "execution_count": 35,
   "metadata": {},
   "outputs": [],
   "source": [
    "is_nan_one_period_only_count = nulls['one period only'].value_counts().to_frame()\n",
    "is_nan_one_period_only_count.reset_index(inplace=True)\n",
    "is_nan_one_period_only_count.columns = ['VALUE', 'COUNT']"
   ]
  },
  {
   "cell_type": "code",
   "execution_count": 36,
   "metadata": {},
   "outputs": [
    {
     "data": {
      "text/html": [
       "<div>\n",
       "<style scoped>\n",
       "    .dataframe tbody tr th:only-of-type {\n",
       "        vertical-align: middle;\n",
       "    }\n",
       "\n",
       "    .dataframe tbody tr th {\n",
       "        vertical-align: top;\n",
       "    }\n",
       "\n",
       "    .dataframe thead th {\n",
       "        text-align: right;\n",
       "    }\n",
       "</style>\n",
       "<table border=\"1\" class=\"dataframe\">\n",
       "  <thead>\n",
       "    <tr style=\"text-align: right;\">\n",
       "      <th></th>\n",
       "      <th>VALUE</th>\n",
       "      <th>COUNT</th>\n",
       "    </tr>\n",
       "  </thead>\n",
       "  <tbody>\n",
       "    <tr>\n",
       "      <th>0</th>\n",
       "      <td>True</td>\n",
       "      <td>529</td>\n",
       "    </tr>\n",
       "    <tr>\n",
       "      <th>1</th>\n",
       "      <td>False</td>\n",
       "      <td>79</td>\n",
       "    </tr>\n",
       "  </tbody>\n",
       "</table>\n",
       "</div>"
      ],
      "text/plain": [
       "   VALUE  COUNT\n",
       "0   True    529\n",
       "1  False     79"
      ]
     },
     "execution_count": 36,
     "metadata": {},
     "output_type": "execute_result"
    }
   ],
   "source": [
    "is_nan_one_period_only_count"
   ]
  },
  {
   "cell_type": "code",
   "execution_count": 37,
   "metadata": {},
   "outputs": [
    {
     "data": {
      "image/png": "[encoded data removed]",
      "text/plain": [
       "<Figure size 432x288 with 1 Axes>"
      ]
     },
     "metadata": {},
     "output_type": "display_data"
    }
   ],
   "source": [
    "plt.pie(is_nan_one_period_only_count['COUNT'], labels = is_nan_one_period_only_count['VALUE'], colors = colors, autopct='%.0f%%')\n",
    "plt.show()"
   ]
  }
 ],
 "metadata": {
  "interpreter": {
   "hash": "e1810f1b07ff6a9bd6e2ce811cb2206e3ea7393940b0ab24041e8daedbafedfc"
  },
  "kernelspec": {
   "display_name": "Python 3.10.4 64-bit",
   "language": "python",
   "name": "python3"
  },
  "language_info": {
   "codemirror_mode": {
    "name": "ipython",
    "version": 3
   },
   "file_extension": ".py",
   "mimetype": "text/x-python",
   "name": "python",
   "nbconvert_exporter": "python",
   "pygments_lexer": "ipython3",
   "version": "3.10.4"
  },
  "orig_nbformat": 4
 },
 "nbformat": 4,
 "nbformat_minor": 2
}
