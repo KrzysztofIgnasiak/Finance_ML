{
 "cells": [
  {
   "cell_type": "code",
   "execution_count": 1,
   "metadata": {},
   "outputs": [],
   "source": [
    "import numpy as np\n",
    "import pandas as pd\n",
    "\n",
    "import h2o\n",
    "from h2o.estimators.glm import H2OGeneralizedLinearEstimator\n",
    "import plotly.express as px"
   ]
  },
  {
   "cell_type": "markdown",
   "metadata": {},
   "source": [
    "Data preparation"
   ]
  },
  {
   "cell_type": "code",
   "execution_count": 2,
   "metadata": {},
   "outputs": [],
   "source": [
    "data = pd.read_csv(r'Assets\\data_to_forecast.csv')"
   ]
  },
  {
   "cell_type": "code",
   "execution_count": 3,
   "metadata": {},
   "outputs": [],
   "source": [
    "## formating date\n",
    "data['DATE'] = pd.to_datetime(\n",
    "                          data['DATE'],\n",
    "                          format='%Y-%m-%d')"
   ]
  },
  {
   "cell_type": "code",
   "execution_count": 4,
   "metadata": {},
   "outputs": [],
   "source": [
    "## sorting\n",
    "data = data.sort_values(by=\"DATE\")"
   ]
  },
  {
   "cell_type": "code",
   "execution_count": 5,
   "metadata": {},
   "outputs": [],
   "source": [
    "train = data[(data['DATE'] < '2004-06-02')]\n",
    "test = data[(data['DATE'] >= '2004-06-02')]"
   ]
  },
  {
   "cell_type": "code",
   "execution_count": 6,
   "metadata": {},
   "outputs": [
    {
     "name": "stdout",
     "output_type": "stream",
     "text": [
      "Checking whether there is an H2O instance running at http://localhost:54321 ..... not found.\n",
      "Attempting to start a local H2O server...\n",
      "; Java HotSpot(TM) 64-Bit Server VM (build 18.0.1.1+2-6, mixed mode, sharing)\n",
      "  Starting server from C:\\Users\\Krzysztof\\AppData\\Local\\Programs\\Python\\Python310\\Lib\\site-packages\\h2o\\backend\\bin\\h2o.jar\n",
      "  Ice root: C:\\Users\\KRZYSZ~1\\AppData\\Local\\Temp\\tmp56vl2iyt\n",
      "  JVM stdout: C:\\Users\\KRZYSZ~1\\AppData\\Local\\Temp\\tmp56vl2iyt\\h2o_Krzysztof_started_from_python.out\n",
      "  JVM stderr: C:\\Users\\KRZYSZ~1\\AppData\\Local\\Temp\\tmp56vl2iyt\\h2o_Krzysztof_started_from_python.err\n",
      "  Server is running at http://127.0.0.1:54321\n",
      "Connecting to H2O server at http://127.0.0.1:54321 ... successful.\n"
     ]
    },
    {
     "data": {
      "text/html": [
       "<div style=\"overflow:auto\"><table style=\"width:50%\"><tr><td>H2O_cluster_uptime:</td>\n",
       "<td>09 secs</td></tr>\n",
       "<tr><td>H2O_cluster_timezone:</td>\n",
       "<td>Europe/Warsaw</td></tr>\n",
       "<tr><td>H2O_data_parsing_timezone:</td>\n",
       "<td>UTC</td></tr>\n",
       "<tr><td>H2O_cluster_version:</td>\n",
       "<td>3.36.1.2</td></tr>\n",
       "<tr><td>H2O_cluster_version_age:</td>\n",
       "<td>14 days, 20 hours and 30 minutes </td></tr>\n",
       "<tr><td>H2O_cluster_name:</td>\n",
       "<td>H2O_from_python_Krzysztof_8szl7n</td></tr>\n",
       "<tr><td>H2O_cluster_total_nodes:</td>\n",
       "<td>1</td></tr>\n",
       "<tr><td>H2O_cluster_free_memory:</td>\n",
       "<td>1.955 Gb</td></tr>\n",
       "<tr><td>H2O_cluster_total_cores:</td>\n",
       "<td>4</td></tr>\n",
       "<tr><td>H2O_cluster_allowed_cores:</td>\n",
       "<td>4</td></tr>\n",
       "<tr><td>H2O_cluster_status:</td>\n",
       "<td>locked, healthy</td></tr>\n",
       "<tr><td>H2O_connection_url:</td>\n",
       "<td>http://127.0.0.1:54321</td></tr>\n",
       "<tr><td>H2O_connection_proxy:</td>\n",
       "<td>{\"http\": null, \"https\": null}</td></tr>\n",
       "<tr><td>H2O_internal_security:</td>\n",
       "<td>False</td></tr>\n",
       "<tr><td>Python_version:</td>\n",
       "<td>3.10.4 final</td></tr></table></div>"
      ],
      "text/plain": [
       "--------------------------  --------------------------------\n",
       "H2O_cluster_uptime:         09 secs\n",
       "H2O_cluster_timezone:       Europe/Warsaw\n",
       "H2O_data_parsing_timezone:  UTC\n",
       "H2O_cluster_version:        3.36.1.2\n",
       "H2O_cluster_version_age:    14 days, 20 hours and 30 minutes\n",
       "H2O_cluster_name:           H2O_from_python_Krzysztof_8szl7n\n",
       "H2O_cluster_total_nodes:    1\n",
       "H2O_cluster_free_memory:    1.955 Gb\n",
       "H2O_cluster_total_cores:    4\n",
       "H2O_cluster_allowed_cores:  4\n",
       "H2O_cluster_status:         locked, healthy\n",
       "H2O_connection_url:         http://127.0.0.1:54321\n",
       "H2O_connection_proxy:       {\"http\": null, \"https\": null}\n",
       "H2O_internal_security:      False\n",
       "Python_version:             3.10.4 final\n",
       "--------------------------  --------------------------------"
      ]
     },
     "metadata": {},
     "output_type": "display_data"
    }
   ],
   "source": [
    "h2o.init()"
   ]
  },
  {
   "cell_type": "markdown",
   "metadata": {},
   "source": [
    "1Month Returns"
   ]
  },
  {
   "cell_type": "code",
   "execution_count": 7,
   "metadata": {},
   "outputs": [],
   "source": [
    "cols_to_keep = ['SCORE',\"1MReturn\"]\n",
    "train_1m = train.loc[:, cols_to_keep]"
   ]
  },
  {
   "cell_type": "code",
   "execution_count": 8,
   "metadata": {},
   "outputs": [
    {
     "name": "stdout",
     "output_type": "stream",
     "text": [
      "Parse progress: |████████████████████████████████████████████████████████████████| (done) 100%\n"
     ]
    }
   ],
   "source": [
    "train_1m = h2o.H2OFrame(train_1m)"
   ]
  },
  {
   "cell_type": "code",
   "execution_count": 9,
   "metadata": {},
   "outputs": [],
   "source": [
    "x = train_1m.columns\n",
    "y = \"1MReturn\"\n",
    "x.remove(y)"
   ]
  },
  {
   "cell_type": "code",
   "execution_count": 10,
   "metadata": {},
   "outputs": [],
   "source": [
    "linear_model_1month = H2OGeneralizedLinearEstimator(family= \"gaussian\")"
   ]
  },
  {
   "cell_type": "code",
   "execution_count": 11,
   "metadata": {},
   "outputs": [
    {
     "name": "stdout",
     "output_type": "stream",
     "text": [
      "glm Model Build progress: |██████████████████████████████████████████████████████| (done) 100%\n",
      "Model Details\n",
      "=============\n",
      "H2OGeneralizedLinearEstimator :  Generalized Linear Modeling\n",
      "Model Key:  GLM_model_python_1654852860706_1\n",
      "\n",
      "\n",
      "GLM Model: summary\n"
     ]
    },
    {
     "data": {
      "text/html": [
       "<div>\n",
       "<style scoped>\n",
       "    .dataframe tbody tr th:only-of-type {\n",
       "        vertical-align: middle;\n",
       "    }\n",
       "\n",
       "    .dataframe tbody tr th {\n",
       "        vertical-align: top;\n",
       "    }\n",
       "\n",
       "    .dataframe thead th {\n",
       "        text-align: right;\n",
       "    }\n",
       "</style>\n",
       "<table border=\"1\" class=\"dataframe\">\n",
       "  <thead>\n",
       "    <tr style=\"text-align: right;\">\n",
       "      <th></th>\n",
       "      <th></th>\n",
       "      <th>family</th>\n",
       "      <th>link</th>\n",
       "      <th>regularization</th>\n",
       "      <th>number_of_predictors_total</th>\n",
       "      <th>number_of_active_predictors</th>\n",
       "      <th>number_of_iterations</th>\n",
       "      <th>training_frame</th>\n",
       "    </tr>\n",
       "  </thead>\n",
       "  <tbody>\n",
       "    <tr>\n",
       "      <th>0</th>\n",
       "      <td></td>\n",
       "      <td>gaussian</td>\n",
       "      <td>identity</td>\n",
       "      <td>Elastic Net (alpha = 0.5, lambda = 7.018E-6 )</td>\n",
       "      <td>1</td>\n",
       "      <td>1</td>\n",
       "      <td>1</td>\n",
       "      <td>Key_Frame__upload_819b6a4c3f51376c4fc95017584b4dda.hex</td>\n",
       "    </tr>\n",
       "  </tbody>\n",
       "</table>\n",
       "</div>"
      ],
      "text/plain": [
       "       family      link                                 regularization  \\\n",
       "0    gaussian  identity  Elastic Net (alpha = 0.5, lambda = 7.018E-6 )   \n",
       "\n",
       "   number_of_predictors_total number_of_active_predictors  \\\n",
       "0                           1                           1   \n",
       "\n",
       "   number_of_iterations  \\\n",
       "0                     1   \n",
       "\n",
       "                                           training_frame  \n",
       "0  Key_Frame__upload_819b6a4c3f51376c4fc95017584b4dda.hex  "
      ]
     },
     "metadata": {},
     "output_type": "display_data"
    },
    {
     "name": "stdout",
     "output_type": "stream",
     "text": [
      "\n",
      "\n",
      "ModelMetricsRegressionGLM: glm\n",
      "** Reported on train data. **\n",
      "\n",
      "MSE: 0.008129283127391352\n",
      "RMSE: 0.09016253727236913\n",
      "MAE: 0.06522198322621751\n",
      "RMSLE: 0.09758429489364846\n",
      "R^2: 0.0015126117912749315\n",
      "Mean Residual Deviance: 0.008129283127391352\n",
      "Null degrees of freedom: 5863\n",
      "Residual degrees of freedom: 5862\n",
      "Null deviance: 47.742331873156864\n",
      "Residual deviance: 47.67011625902288\n",
      "AIC: -11571.913670881264\n",
      "\n",
      "Scoring History: \n"
     ]
    },
    {
     "data": {
      "text/html": [
       "<div>\n",
       "<style scoped>\n",
       "    .dataframe tbody tr th:only-of-type {\n",
       "        vertical-align: middle;\n",
       "    }\n",
       "\n",
       "    .dataframe tbody tr th {\n",
       "        vertical-align: top;\n",
       "    }\n",
       "\n",
       "    .dataframe thead th {\n",
       "        text-align: right;\n",
       "    }\n",
       "</style>\n",
       "<table border=\"1\" class=\"dataframe\">\n",
       "  <thead>\n",
       "    <tr style=\"text-align: right;\">\n",
       "      <th></th>\n",
       "      <th></th>\n",
       "      <th>timestamp</th>\n",
       "      <th>duration</th>\n",
       "      <th>iterations</th>\n",
       "      <th>negative_log_likelihood</th>\n",
       "      <th>objective</th>\n",
       "      <th>training_rmse</th>\n",
       "      <th>training_deviance</th>\n",
       "      <th>training_mae</th>\n",
       "      <th>training_r2</th>\n",
       "    </tr>\n",
       "  </thead>\n",
       "  <tbody>\n",
       "    <tr>\n",
       "      <th>0</th>\n",
       "      <td></td>\n",
       "      <td>2022-06-10 11:21:31</td>\n",
       "      <td>0.000 sec</td>\n",
       "      <td>0</td>\n",
       "      <td>47.742332</td>\n",
       "      <td>0.008142</td>\n",
       "      <td></td>\n",
       "      <td></td>\n",
       "      <td></td>\n",
       "      <td></td>\n",
       "    </tr>\n",
       "    <tr>\n",
       "      <th>1</th>\n",
       "      <td></td>\n",
       "      <td>2022-06-10 11:21:31</td>\n",
       "      <td>0.232 sec</td>\n",
       "      <td>1</td>\n",
       "      <td></td>\n",
       "      <td></td>\n",
       "      <td>0.090163</td>\n",
       "      <td>0.008129</td>\n",
       "      <td>0.065222</td>\n",
       "      <td>0.001513</td>\n",
       "    </tr>\n",
       "  </tbody>\n",
       "</table>\n",
       "</div>"
      ],
      "text/plain": [
       "               timestamp    duration  iterations negative_log_likelihood  \\\n",
       "0    2022-06-10 11:21:31   0.000 sec           0               47.742332   \n",
       "1    2022-06-10 11:21:31   0.232 sec           1                           \n",
       "\n",
       "  objective training_rmse training_deviance training_mae training_r2  \n",
       "0  0.008142                                                           \n",
       "1                0.090163          0.008129     0.065222    0.001513  "
      ]
     },
     "metadata": {},
     "output_type": "display_data"
    },
    {
     "name": "stdout",
     "output_type": "stream",
     "text": [
      "\n",
      "Variable Importances: \n"
     ]
    },
    {
     "data": {
      "text/html": [
       "<div>\n",
       "<style scoped>\n",
       "    .dataframe tbody tr th:only-of-type {\n",
       "        vertical-align: middle;\n",
       "    }\n",
       "\n",
       "    .dataframe tbody tr th {\n",
       "        vertical-align: top;\n",
       "    }\n",
       "\n",
       "    .dataframe thead th {\n",
       "        text-align: right;\n",
       "    }\n",
       "</style>\n",
       "<table border=\"1\" class=\"dataframe\">\n",
       "  <thead>\n",
       "    <tr style=\"text-align: right;\">\n",
       "      <th></th>\n",
       "      <th>variable</th>\n",
       "      <th>relative_importance</th>\n",
       "      <th>scaled_importance</th>\n",
       "      <th>percentage</th>\n",
       "    </tr>\n",
       "  </thead>\n",
       "  <tbody>\n",
       "    <tr>\n",
       "      <th>0</th>\n",
       "      <td>SCORE</td>\n",
       "      <td>0.003502</td>\n",
       "      <td>1.0</td>\n",
       "      <td>1.0</td>\n",
       "    </tr>\n",
       "  </tbody>\n",
       "</table>\n",
       "</div>"
      ],
      "text/plain": [
       "  variable  relative_importance  scaled_importance  percentage\n",
       "0    SCORE             0.003502                1.0         1.0"
      ]
     },
     "metadata": {},
     "output_type": "display_data"
    },
    {
     "data": {
      "text/plain": []
     },
     "execution_count": 11,
     "metadata": {},
     "output_type": "execute_result"
    }
   ],
   "source": [
    "linear_model_1month.train(x, \"1MReturn\", training_frame= train_1m)"
   ]
  },
  {
   "cell_type": "markdown",
   "metadata": {},
   "source": [
    "3 months"
   ]
  },
  {
   "cell_type": "code",
   "execution_count": 12,
   "metadata": {},
   "outputs": [
    {
     "name": "stdout",
     "output_type": "stream",
     "text": [
      "Parse progress: |████████████████████████████████████████████████████████████████| (done) 100%\n"
     ]
    }
   ],
   "source": [
    "cols_to_keep = ['SCORE',\"3MReturn\"]\n",
    "train_3m = train.loc[:, cols_to_keep]\n",
    "train_3m = h2o.H2OFrame(train_3m)\n",
    "\n",
    "x_3m = train_3m.columns\n",
    "y_3m = \"3MReturn\"\n",
    "x_3m.remove(y_3m)"
   ]
  },
  {
   "cell_type": "code",
   "execution_count": 13,
   "metadata": {},
   "outputs": [
    {
     "name": "stdout",
     "output_type": "stream",
     "text": [
      "glm Model Build progress: |██████████████████████████████████████████████████████| (done) 100%\n",
      "Model Details\n",
      "=============\n",
      "H2OGeneralizedLinearEstimator :  Generalized Linear Modeling\n",
      "Model Key:  GLM_model_python_1654852860706_2\n",
      "\n",
      "\n",
      "GLM Model: summary\n"
     ]
    },
    {
     "data": {
      "text/html": [
       "<div>\n",
       "<style scoped>\n",
       "    .dataframe tbody tr th:only-of-type {\n",
       "        vertical-align: middle;\n",
       "    }\n",
       "\n",
       "    .dataframe tbody tr th {\n",
       "        vertical-align: top;\n",
       "    }\n",
       "\n",
       "    .dataframe thead th {\n",
       "        text-align: right;\n",
       "    }\n",
       "</style>\n",
       "<table border=\"1\" class=\"dataframe\">\n",
       "  <thead>\n",
       "    <tr style=\"text-align: right;\">\n",
       "      <th></th>\n",
       "      <th></th>\n",
       "      <th>family</th>\n",
       "      <th>link</th>\n",
       "      <th>regularization</th>\n",
       "      <th>number_of_predictors_total</th>\n",
       "      <th>number_of_active_predictors</th>\n",
       "      <th>number_of_iterations</th>\n",
       "      <th>training_frame</th>\n",
       "    </tr>\n",
       "  </thead>\n",
       "  <tbody>\n",
       "    <tr>\n",
       "      <th>0</th>\n",
       "      <td></td>\n",
       "      <td>gaussian</td>\n",
       "      <td>identity</td>\n",
       "      <td>Elastic Net (alpha = 0.5, lambda = 1.732E-5 )</td>\n",
       "      <td>1</td>\n",
       "      <td>1</td>\n",
       "      <td>1</td>\n",
       "      <td>Key_Frame__upload_b16cf914a9b1342f99e287f885ba41fd.hex</td>\n",
       "    </tr>\n",
       "  </tbody>\n",
       "</table>\n",
       "</div>"
      ],
      "text/plain": [
       "       family      link                                 regularization  \\\n",
       "0    gaussian  identity  Elastic Net (alpha = 0.5, lambda = 1.732E-5 )   \n",
       "\n",
       "   number_of_predictors_total number_of_active_predictors  \\\n",
       "0                           1                           1   \n",
       "\n",
       "   number_of_iterations  \\\n",
       "0                     1   \n",
       "\n",
       "                                           training_frame  \n",
       "0  Key_Frame__upload_b16cf914a9b1342f99e287f885ba41fd.hex  "
      ]
     },
     "metadata": {},
     "output_type": "display_data"
    },
    {
     "name": "stdout",
     "output_type": "stream",
     "text": [
      "\n",
      "\n",
      "ModelMetricsRegressionGLM: glm\n",
      "** Reported on train data. **\n",
      "\n",
      "MSE: 0.019651160796592508\n",
      "RMSE: 0.14018259805194264\n",
      "MAE: 0.10669972112039819\n",
      "RMSLE: 0.14396357761085166\n",
      "R^2: 0.00380118572908128\n",
      "Mean Residual Deviance: 0.019651160796592508\n",
      "Null degrees of freedom: 5863\n",
      "Residual degrees of freedom: 5862\n",
      "Null deviance: 115.67410567091783\n",
      "Residual deviance: 115.23440691121847\n",
      "AIC: -6395.973929181882\n",
      "\n",
      "Scoring History: \n"
     ]
    },
    {
     "data": {
      "text/html": [
       "<div>\n",
       "<style scoped>\n",
       "    .dataframe tbody tr th:only-of-type {\n",
       "        vertical-align: middle;\n",
       "    }\n",
       "\n",
       "    .dataframe tbody tr th {\n",
       "        vertical-align: top;\n",
       "    }\n",
       "\n",
       "    .dataframe thead th {\n",
       "        text-align: right;\n",
       "    }\n",
       "</style>\n",
       "<table border=\"1\" class=\"dataframe\">\n",
       "  <thead>\n",
       "    <tr style=\"text-align: right;\">\n",
       "      <th></th>\n",
       "      <th></th>\n",
       "      <th>timestamp</th>\n",
       "      <th>duration</th>\n",
       "      <th>iterations</th>\n",
       "      <th>negative_log_likelihood</th>\n",
       "      <th>objective</th>\n",
       "      <th>training_rmse</th>\n",
       "      <th>training_deviance</th>\n",
       "      <th>training_mae</th>\n",
       "      <th>training_r2</th>\n",
       "    </tr>\n",
       "  </thead>\n",
       "  <tbody>\n",
       "    <tr>\n",
       "      <th>0</th>\n",
       "      <td></td>\n",
       "      <td>2022-06-10 11:22:17</td>\n",
       "      <td>0.000 sec</td>\n",
       "      <td>0</td>\n",
       "      <td>115.674106</td>\n",
       "      <td>0.019726</td>\n",
       "      <td></td>\n",
       "      <td></td>\n",
       "      <td></td>\n",
       "      <td></td>\n",
       "    </tr>\n",
       "    <tr>\n",
       "      <th>1</th>\n",
       "      <td></td>\n",
       "      <td>2022-06-10 11:22:17</td>\n",
       "      <td>0.256 sec</td>\n",
       "      <td>1</td>\n",
       "      <td></td>\n",
       "      <td></td>\n",
       "      <td>0.140183</td>\n",
       "      <td>0.019651</td>\n",
       "      <td>0.1067</td>\n",
       "      <td>0.003801</td>\n",
       "    </tr>\n",
       "  </tbody>\n",
       "</table>\n",
       "</div>"
      ],
      "text/plain": [
       "               timestamp    duration  iterations negative_log_likelihood  \\\n",
       "0    2022-06-10 11:22:17   0.000 sec           0              115.674106   \n",
       "1    2022-06-10 11:22:17   0.256 sec           1                           \n",
       "\n",
       "  objective training_rmse training_deviance training_mae training_r2  \n",
       "0  0.019726                                                           \n",
       "1                0.140183          0.019651       0.1067    0.003801  "
      ]
     },
     "metadata": {},
     "output_type": "display_data"
    },
    {
     "name": "stdout",
     "output_type": "stream",
     "text": [
      "\n",
      "Variable Importances: \n"
     ]
    },
    {
     "data": {
      "text/html": [
       "<div>\n",
       "<style scoped>\n",
       "    .dataframe tbody tr th:only-of-type {\n",
       "        vertical-align: middle;\n",
       "    }\n",
       "\n",
       "    .dataframe tbody tr th {\n",
       "        vertical-align: top;\n",
       "    }\n",
       "\n",
       "    .dataframe thead th {\n",
       "        text-align: right;\n",
       "    }\n",
       "</style>\n",
       "<table border=\"1\" class=\"dataframe\">\n",
       "  <thead>\n",
       "    <tr style=\"text-align: right;\">\n",
       "      <th></th>\n",
       "      <th>variable</th>\n",
       "      <th>relative_importance</th>\n",
       "      <th>scaled_importance</th>\n",
       "      <th>percentage</th>\n",
       "    </tr>\n",
       "  </thead>\n",
       "  <tbody>\n",
       "    <tr>\n",
       "      <th>0</th>\n",
       "      <td>SCORE</td>\n",
       "      <td>0.008642</td>\n",
       "      <td>1.0</td>\n",
       "      <td>1.0</td>\n",
       "    </tr>\n",
       "  </tbody>\n",
       "</table>\n",
       "</div>"
      ],
      "text/plain": [
       "  variable  relative_importance  scaled_importance  percentage\n",
       "0    SCORE             0.008642                1.0         1.0"
      ]
     },
     "metadata": {},
     "output_type": "display_data"
    },
    {
     "data": {
      "text/plain": []
     },
     "execution_count": 13,
     "metadata": {},
     "output_type": "execute_result"
    }
   ],
   "source": [
    "linear_model_3month = H2OGeneralizedLinearEstimator(family= \"gaussian\")\n",
    "linear_model_3month.train(x_3m, \"3MReturn\", training_frame= train_3m)"
   ]
  },
  {
   "cell_type": "markdown",
   "metadata": {},
   "source": [
    "6M models\n"
   ]
  },
  {
   "cell_type": "code",
   "execution_count": 14,
   "metadata": {},
   "outputs": [
    {
     "name": "stdout",
     "output_type": "stream",
     "text": [
      "Parse progress: |████████████████████████████████████████████████████████████████| (done) 100%\n"
     ]
    }
   ],
   "source": [
    "cols_to_keep_6m = ['SCORE',\"6MReturn\"]\n",
    "train_6m = train.loc[:, cols_to_keep_6m]\n",
    "train_6m = h2o.H2OFrame(train_6m)\n",
    "\n",
    "x_6m = train_6m.columns\n",
    "y_6m = \"6MReturn\"\n",
    "x_6m.remove(y_6m)"
   ]
  },
  {
   "cell_type": "code",
   "execution_count": 15,
   "metadata": {},
   "outputs": [
    {
     "name": "stdout",
     "output_type": "stream",
     "text": [
      "glm Model Build progress: |██████████████████████████████████████████████████████| (done) 100%\n",
      "Model Details\n",
      "=============\n",
      "H2OGeneralizedLinearEstimator :  Generalized Linear Modeling\n",
      "Model Key:  GLM_model_python_1654852860706_3\n",
      "\n",
      "\n",
      "GLM Model: summary\n"
     ]
    },
    {
     "data": {
      "text/html": [
       "<div>\n",
       "<style scoped>\n",
       "    .dataframe tbody tr th:only-of-type {\n",
       "        vertical-align: middle;\n",
       "    }\n",
       "\n",
       "    .dataframe tbody tr th {\n",
       "        vertical-align: top;\n",
       "    }\n",
       "\n",
       "    .dataframe thead th {\n",
       "        text-align: right;\n",
       "    }\n",
       "</style>\n",
       "<table border=\"1\" class=\"dataframe\">\n",
       "  <thead>\n",
       "    <tr style=\"text-align: right;\">\n",
       "      <th></th>\n",
       "      <th></th>\n",
       "      <th>family</th>\n",
       "      <th>link</th>\n",
       "      <th>regularization</th>\n",
       "      <th>number_of_predictors_total</th>\n",
       "      <th>number_of_active_predictors</th>\n",
       "      <th>number_of_iterations</th>\n",
       "      <th>training_frame</th>\n",
       "    </tr>\n",
       "  </thead>\n",
       "  <tbody>\n",
       "    <tr>\n",
       "      <th>0</th>\n",
       "      <td></td>\n",
       "      <td>gaussian</td>\n",
       "      <td>identity</td>\n",
       "      <td>Elastic Net (alpha = 0.5, lambda = 3.979E-5 )</td>\n",
       "      <td>1</td>\n",
       "      <td>1</td>\n",
       "      <td>1</td>\n",
       "      <td>Key_Frame__upload_80a4f961eb1a6e417ff3a6b6382c4820.hex</td>\n",
       "    </tr>\n",
       "  </tbody>\n",
       "</table>\n",
       "</div>"
      ],
      "text/plain": [
       "       family      link                                 regularization  \\\n",
       "0    gaussian  identity  Elastic Net (alpha = 0.5, lambda = 3.979E-5 )   \n",
       "\n",
       "   number_of_predictors_total number_of_active_predictors  \\\n",
       "0                           1                           1   \n",
       "\n",
       "   number_of_iterations  \\\n",
       "0                     1   \n",
       "\n",
       "                                           training_frame  \n",
       "0  Key_Frame__upload_80a4f961eb1a6e417ff3a6b6382c4820.hex  "
      ]
     },
     "metadata": {},
     "output_type": "display_data"
    },
    {
     "name": "stdout",
     "output_type": "stream",
     "text": [
      "\n",
      "\n",
      "ModelMetricsRegressionGLM: glm\n",
      "** Reported on train data. **\n",
      "\n",
      "MSE: 0.048957568396150036\n",
      "RMSE: 0.2212635722303833\n",
      "MAE: 0.16515056178648277\n",
      "RMSLE: 0.21178903134545413\n",
      "R^2: 0.008019364109812965\n",
      "Mean Residual Deviance: 0.048957568396150036\n",
      "Null degrees of freedom: 5863\n",
      "Residual degrees of freedom: 5862\n",
      "Null deviance: 289.4080496010846\n",
      "Residual deviance: 287.0871810750238\n",
      "AIC: -1043.211747543307\n",
      "\n",
      "Scoring History: \n"
     ]
    },
    {
     "data": {
      "text/html": [
       "<div>\n",
       "<style scoped>\n",
       "    .dataframe tbody tr th:only-of-type {\n",
       "        vertical-align: middle;\n",
       "    }\n",
       "\n",
       "    .dataframe tbody tr th {\n",
       "        vertical-align: top;\n",
       "    }\n",
       "\n",
       "    .dataframe thead th {\n",
       "        text-align: right;\n",
       "    }\n",
       "</style>\n",
       "<table border=\"1\" class=\"dataframe\">\n",
       "  <thead>\n",
       "    <tr style=\"text-align: right;\">\n",
       "      <th></th>\n",
       "      <th></th>\n",
       "      <th>timestamp</th>\n",
       "      <th>duration</th>\n",
       "      <th>iterations</th>\n",
       "      <th>negative_log_likelihood</th>\n",
       "      <th>objective</th>\n",
       "      <th>training_rmse</th>\n",
       "      <th>training_deviance</th>\n",
       "      <th>training_mae</th>\n",
       "      <th>training_r2</th>\n",
       "    </tr>\n",
       "  </thead>\n",
       "  <tbody>\n",
       "    <tr>\n",
       "      <th>0</th>\n",
       "      <td></td>\n",
       "      <td>2022-06-10 11:22:28</td>\n",
       "      <td>0.000 sec</td>\n",
       "      <td>0</td>\n",
       "      <td>289.408049</td>\n",
       "      <td>0.049353</td>\n",
       "      <td></td>\n",
       "      <td></td>\n",
       "      <td></td>\n",
       "      <td></td>\n",
       "    </tr>\n",
       "    <tr>\n",
       "      <th>1</th>\n",
       "      <td></td>\n",
       "      <td>2022-06-10 11:22:28</td>\n",
       "      <td>0.415 sec</td>\n",
       "      <td>1</td>\n",
       "      <td></td>\n",
       "      <td></td>\n",
       "      <td>0.221264</td>\n",
       "      <td>0.048958</td>\n",
       "      <td>0.165151</td>\n",
       "      <td>0.008019</td>\n",
       "    </tr>\n",
       "  </tbody>\n",
       "</table>\n",
       "</div>"
      ],
      "text/plain": [
       "               timestamp    duration  iterations negative_log_likelihood  \\\n",
       "0    2022-06-10 11:22:28   0.000 sec           0              289.408049   \n",
       "1    2022-06-10 11:22:28   0.415 sec           1                           \n",
       "\n",
       "  objective training_rmse training_deviance training_mae training_r2  \n",
       "0  0.049353                                                           \n",
       "1                0.221264          0.048958     0.165151    0.008019  "
      ]
     },
     "metadata": {},
     "output_type": "display_data"
    },
    {
     "name": "stdout",
     "output_type": "stream",
     "text": [
      "\n",
      "Variable Importances: \n"
     ]
    },
    {
     "data": {
      "text/html": [
       "<div>\n",
       "<style scoped>\n",
       "    .dataframe tbody tr th:only-of-type {\n",
       "        vertical-align: middle;\n",
       "    }\n",
       "\n",
       "    .dataframe tbody tr th {\n",
       "        vertical-align: top;\n",
       "    }\n",
       "\n",
       "    .dataframe thead th {\n",
       "        text-align: right;\n",
       "    }\n",
       "</style>\n",
       "<table border=\"1\" class=\"dataframe\">\n",
       "  <thead>\n",
       "    <tr style=\"text-align: right;\">\n",
       "      <th></th>\n",
       "      <th>variable</th>\n",
       "      <th>relative_importance</th>\n",
       "      <th>scaled_importance</th>\n",
       "      <th>percentage</th>\n",
       "    </tr>\n",
       "  </thead>\n",
       "  <tbody>\n",
       "    <tr>\n",
       "      <th>0</th>\n",
       "      <td>SCORE</td>\n",
       "      <td>0.019855</td>\n",
       "      <td>1.0</td>\n",
       "      <td>1.0</td>\n",
       "    </tr>\n",
       "  </tbody>\n",
       "</table>\n",
       "</div>"
      ],
      "text/plain": [
       "  variable  relative_importance  scaled_importance  percentage\n",
       "0    SCORE             0.019855                1.0         1.0"
      ]
     },
     "metadata": {},
     "output_type": "display_data"
    },
    {
     "data": {
      "text/plain": []
     },
     "execution_count": 15,
     "metadata": {},
     "output_type": "execute_result"
    }
   ],
   "source": [
    "linear_model_6month = H2OGeneralizedLinearEstimator(family= \"gaussian\")\n",
    "linear_model_6month.train(x_6m, \"6MReturn\", training_frame= train_6m)"
   ]
  },
  {
   "cell_type": "markdown",
   "metadata": {},
   "source": [
    "12M Return"
   ]
  },
  {
   "cell_type": "code",
   "execution_count": 16,
   "metadata": {},
   "outputs": [
    {
     "name": "stdout",
     "output_type": "stream",
     "text": [
      "Parse progress: |████████████████████████████████████████████████████████████████| (done) 100%\n"
     ]
    }
   ],
   "source": [
    "cols_to_keep_12m = ['SCORE',\"12MReturn\"]\n",
    "train_12m = train.loc[:, cols_to_keep_12m]\n",
    "train_12m = h2o.H2OFrame(train_12m)\n",
    "\n",
    "x_12m = train_12m.columns\n",
    "y_12m = \"12MReturn\"\n",
    "x_12m.remove(y_12m)"
   ]
  },
  {
   "cell_type": "code",
   "execution_count": 17,
   "metadata": {},
   "outputs": [
    {
     "name": "stdout",
     "output_type": "stream",
     "text": [
      "glm Model Build progress: |██████████████████████████████████████████████████████| (done) 100%\n",
      "Model Details\n",
      "=============\n",
      "H2OGeneralizedLinearEstimator :  Generalized Linear Modeling\n",
      "Model Key:  GLM_model_python_1654852860706_4\n",
      "\n",
      "\n",
      "GLM Model: summary\n"
     ]
    },
    {
     "data": {
      "text/html": [
       "<div>\n",
       "<style scoped>\n",
       "    .dataframe tbody tr th:only-of-type {\n",
       "        vertical-align: middle;\n",
       "    }\n",
       "\n",
       "    .dataframe tbody tr th {\n",
       "        vertical-align: top;\n",
       "    }\n",
       "\n",
       "    .dataframe thead th {\n",
       "        text-align: right;\n",
       "    }\n",
       "</style>\n",
       "<table border=\"1\" class=\"dataframe\">\n",
       "  <thead>\n",
       "    <tr style=\"text-align: right;\">\n",
       "      <th></th>\n",
       "      <th></th>\n",
       "      <th>family</th>\n",
       "      <th>link</th>\n",
       "      <th>regularization</th>\n",
       "      <th>number_of_predictors_total</th>\n",
       "      <th>number_of_active_predictors</th>\n",
       "      <th>number_of_iterations</th>\n",
       "      <th>training_frame</th>\n",
       "    </tr>\n",
       "  </thead>\n",
       "  <tbody>\n",
       "    <tr>\n",
       "      <th>0</th>\n",
       "      <td></td>\n",
       "      <td>gaussian</td>\n",
       "      <td>identity</td>\n",
       "      <td>Elastic Net (alpha = 0.5, lambda = 6.84E-5 )</td>\n",
       "      <td>1</td>\n",
       "      <td>1</td>\n",
       "      <td>1</td>\n",
       "      <td>Key_Frame__upload_9535f3d6c47fc9fda5fc1d142fca41c9.hex</td>\n",
       "    </tr>\n",
       "  </tbody>\n",
       "</table>\n",
       "</div>"
      ],
      "text/plain": [
       "       family      link                                regularization  \\\n",
       "0    gaussian  identity  Elastic Net (alpha = 0.5, lambda = 6.84E-5 )   \n",
       "\n",
       "   number_of_predictors_total number_of_active_predictors  \\\n",
       "0                           1                           1   \n",
       "\n",
       "   number_of_iterations  \\\n",
       "0                     1   \n",
       "\n",
       "                                           training_frame  \n",
       "0  Key_Frame__upload_9535f3d6c47fc9fda5fc1d142fca41c9.hex  "
      ]
     },
     "metadata": {},
     "output_type": "display_data"
    },
    {
     "name": "stdout",
     "output_type": "stream",
     "text": [
      "\n",
      "\n",
      "ModelMetricsRegressionGLM: glm\n",
      "** Reported on train data. **\n",
      "\n",
      "MSE: 0.12065426360718418\n",
      "RMSE: 0.347353225992194\n",
      "MAE: 0.24497096713849675\n",
      "RMSLE: 0.2887555201272045\n",
      "R^2: 0.009602094159378294\n",
      "Mean Residual Deviance: 0.12065426360718418\n",
      "Null degrees of freedom: 5863\n",
      "Residual degrees of freedom: 5862\n",
      "Null deviance: 714.3761084510802\n",
      "Residual deviance: 707.516601792528\n",
      "AIC: 4245.970580314274\n",
      "\n",
      "Scoring History: \n"
     ]
    },
    {
     "data": {
      "text/html": [
       "<div>\n",
       "<style scoped>\n",
       "    .dataframe tbody tr th:only-of-type {\n",
       "        vertical-align: middle;\n",
       "    }\n",
       "\n",
       "    .dataframe tbody tr th {\n",
       "        vertical-align: top;\n",
       "    }\n",
       "\n",
       "    .dataframe thead th {\n",
       "        text-align: right;\n",
       "    }\n",
       "</style>\n",
       "<table border=\"1\" class=\"dataframe\">\n",
       "  <thead>\n",
       "    <tr style=\"text-align: right;\">\n",
       "      <th></th>\n",
       "      <th></th>\n",
       "      <th>timestamp</th>\n",
       "      <th>duration</th>\n",
       "      <th>iterations</th>\n",
       "      <th>negative_log_likelihood</th>\n",
       "      <th>objective</th>\n",
       "      <th>training_rmse</th>\n",
       "      <th>training_deviance</th>\n",
       "      <th>training_mae</th>\n",
       "      <th>training_r2</th>\n",
       "    </tr>\n",
       "  </thead>\n",
       "  <tbody>\n",
       "    <tr>\n",
       "      <th>0</th>\n",
       "      <td></td>\n",
       "      <td>2022-06-10 11:22:36</td>\n",
       "      <td>0.000 sec</td>\n",
       "      <td>0</td>\n",
       "      <td>714.376106</td>\n",
       "      <td>0.121824</td>\n",
       "      <td></td>\n",
       "      <td></td>\n",
       "      <td></td>\n",
       "      <td></td>\n",
       "    </tr>\n",
       "    <tr>\n",
       "      <th>1</th>\n",
       "      <td></td>\n",
       "      <td>2022-06-10 11:22:36</td>\n",
       "      <td>0.064 sec</td>\n",
       "      <td>1</td>\n",
       "      <td></td>\n",
       "      <td></td>\n",
       "      <td>0.347353</td>\n",
       "      <td>0.120654</td>\n",
       "      <td>0.244971</td>\n",
       "      <td>0.009602</td>\n",
       "    </tr>\n",
       "  </tbody>\n",
       "</table>\n",
       "</div>"
      ],
      "text/plain": [
       "               timestamp    duration  iterations negative_log_likelihood  \\\n",
       "0    2022-06-10 11:22:36   0.000 sec           0              714.376106   \n",
       "1    2022-06-10 11:22:36   0.064 sec           1                           \n",
       "\n",
       "  objective training_rmse training_deviance training_mae training_r2  \n",
       "0  0.121824                                                           \n",
       "1                0.347353          0.120654     0.244971    0.009602  "
      ]
     },
     "metadata": {},
     "output_type": "display_data"
    },
    {
     "name": "stdout",
     "output_type": "stream",
     "text": [
      "\n",
      "Variable Importances: \n"
     ]
    },
    {
     "data": {
      "text/html": [
       "<div>\n",
       "<style scoped>\n",
       "    .dataframe tbody tr th:only-of-type {\n",
       "        vertical-align: middle;\n",
       "    }\n",
       "\n",
       "    .dataframe tbody tr th {\n",
       "        vertical-align: top;\n",
       "    }\n",
       "\n",
       "    .dataframe thead th {\n",
       "        text-align: right;\n",
       "    }\n",
       "</style>\n",
       "<table border=\"1\" class=\"dataframe\">\n",
       "  <thead>\n",
       "    <tr style=\"text-align: right;\">\n",
       "      <th></th>\n",
       "      <th>variable</th>\n",
       "      <th>relative_importance</th>\n",
       "      <th>scaled_importance</th>\n",
       "      <th>percentage</th>\n",
       "    </tr>\n",
       "  </thead>\n",
       "  <tbody>\n",
       "    <tr>\n",
       "      <th>0</th>\n",
       "      <td>SCORE</td>\n",
       "      <td>0.034134</td>\n",
       "      <td>1.0</td>\n",
       "      <td>1.0</td>\n",
       "    </tr>\n",
       "  </tbody>\n",
       "</table>\n",
       "</div>"
      ],
      "text/plain": [
       "  variable  relative_importance  scaled_importance  percentage\n",
       "0    SCORE             0.034134                1.0         1.0"
      ]
     },
     "metadata": {},
     "output_type": "display_data"
    },
    {
     "data": {
      "text/plain": []
     },
     "execution_count": 17,
     "metadata": {},
     "output_type": "execute_result"
    }
   ],
   "source": [
    "linear_model_12month = H2OGeneralizedLinearEstimator(family= \"gaussian\")\n",
    "linear_model_12month.train(x_12m, \"12MReturn\", training_frame= train_12m)"
   ]
  },
  {
   "cell_type": "markdown",
   "metadata": {},
   "source": [
    "## Models performance on testing data"
   ]
  },
  {
   "cell_type": "code",
   "execution_count": 73,
   "metadata": {},
   "outputs": [
    {
     "name": "stdout",
     "output_type": "stream",
     "text": [
      "Parse progress: |████████████████████████████████████████████████████████████████| (done) 100%\n",
      "Parse progress: |████████████████████████████████████████████████████████████████| (done) 100%\n",
      "Parse progress: |████████████████████████████████████████████████████████████████| (done) 100%\n",
      "Parse progress: |████████████████████████████████████████████████████████████████| (done) 100%\n"
     ]
    }
   ],
   "source": [
    "cols_to_keep_1m = ['SCORE',\"1MReturn\"]\n",
    "test_1m = test.loc[:, cols_to_keep_1m]\n",
    "test_1m = h2o.H2OFrame(test_1m)\n",
    "\n",
    "cols_to_keep_3m = ['SCORE',\"3MReturn\"]\n",
    "test_3m = test.loc[:, cols_to_keep_3m]\n",
    "test_3m = h2o.H2OFrame(test_3m)\n",
    "\n",
    "cols_to_keep_6m = ['SCORE',\"6MReturn\"]\n",
    "test_6m = test.loc[:, cols_to_keep_6m]\n",
    "test_6m = h2o.H2OFrame(test_6m)\n",
    "\n",
    "cols_to_keep_12m = ['SCORE',\"12MReturn\"]\n",
    "test_12m = test.loc[:, cols_to_keep_12m]\n",
    "test_12m = h2o.H2OFrame(test_12m)"
   ]
  },
  {
   "cell_type": "code",
   "execution_count": 74,
   "metadata": {},
   "outputs": [],
   "source": [
    "perf_1m_test = linear_model_1month.model_performance(test_1m)\n",
    "perf_3m_test = linear_model_3month.model_performance(test_3m)\n",
    "perf_6m_test = linear_model_6month.model_performance(test_6m)\n",
    "perf_12m_test = linear_model_12month.model_performance(test_12m)"
   ]
  },
  {
   "cell_type": "markdown",
   "metadata": {},
   "source": [
    "## Saving results of benchmark modeling"
   ]
  },
  {
   "cell_type": "code",
   "execution_count": 67,
   "metadata": {},
   "outputs": [],
   "source": [
    "perf_1m_train = linear_model_1month.model_performance(train_1m)\n",
    "perf_3m_train = linear_model_3month.model_performance(train_3m)\n",
    "perf_6m_train = linear_model_6month.model_performance(train_6m)\n",
    "perf_12m_train = linear_model_12month.model_performance(train_12m)"
   ]
  },
  {
   "cell_type": "code",
   "execution_count": 47,
   "metadata": {},
   "outputs": [],
   "source": [
    "def modelmetrics_to_data_frame(model_metrics):\n",
    "    columns = ('MSE','RMSE',\"MAE\",\"RMSLE\",\"R^2\",\"Mean Residual Deviance\",\"Residual deviance\",'AIC')\n",
    "\n",
    "    df = pd.DataFrame(columns=columns)\n",
    "    to_append = [model_metrics.mse(), model_metrics.rmse(), model_metrics.mae(),model_metrics.rmsle(),model_metrics.r2(),\n",
    "                     model_metrics.mean_residual_deviance(),model_metrics.residual_deviance(),model_metrics.aic()]\n",
    "    \n",
    "    df.loc[1] = to_append\n",
    "\n",
    "    return df\n",
    "\n"
   ]
  },
  {
   "cell_type": "code",
   "execution_count": 68,
   "metadata": {},
   "outputs": [],
   "source": [
    "perf_1m_train_df = modelmetrics_to_data_frame(perf_1m_train)\n",
    "perf_3m_train_df = modelmetrics_to_data_frame(perf_3m_train)\n",
    "perf_6m_train_df = modelmetrics_to_data_frame(perf_6m_train)\n",
    "perf_12m_train_df = modelmetrics_to_data_frame(perf_12m_train)"
   ]
  },
  {
   "cell_type": "code",
   "execution_count": 69,
   "metadata": {},
   "outputs": [],
   "source": [
    "perf_1m_train_df['model'] = 'Benchmark linear regression 1m train'\n",
    "perf_3m_train_df['model'] = 'Benchmark linear regression 3m train'\n",
    "perf_6m_train_df['model'] = 'Benchmark linear regression 6m train'\n",
    "perf_12m_train_df['model'] = 'Benchmark linear regression 12m train'"
   ]
  },
  {
   "cell_type": "code",
   "execution_count": 70,
   "metadata": {},
   "outputs": [],
   "source": [
    "frames = [perf_1m_train_df, perf_3m_train_df, perf_6m_train_df, perf_12m_train_df]\n",
    "\n",
    "perf_train = pd.concat(frames)"
   ]
  },
  {
   "cell_type": "code",
   "execution_count": 71,
   "metadata": {},
   "outputs": [
    {
     "data": {
      "text/html": [
       "<div>\n",
       "<style scoped>\n",
       "    .dataframe tbody tr th:only-of-type {\n",
       "        vertical-align: middle;\n",
       "    }\n",
       "\n",
       "    .dataframe tbody tr th {\n",
       "        vertical-align: top;\n",
       "    }\n",
       "\n",
       "    .dataframe thead th {\n",
       "        text-align: right;\n",
       "    }\n",
       "</style>\n",
       "<table border=\"1\" class=\"dataframe\">\n",
       "  <thead>\n",
       "    <tr style=\"text-align: right;\">\n",
       "      <th></th>\n",
       "      <th>MSE</th>\n",
       "      <th>RMSE</th>\n",
       "      <th>MAE</th>\n",
       "      <th>RMSLE</th>\n",
       "      <th>R^2</th>\n",
       "      <th>Mean Residual Deviance</th>\n",
       "      <th>Residual deviance</th>\n",
       "      <th>AIC</th>\n",
       "      <th>model</th>\n",
       "    </tr>\n",
       "  </thead>\n",
       "  <tbody>\n",
       "    <tr>\n",
       "      <th>1</th>\n",
       "      <td>0.008129</td>\n",
       "      <td>0.090163</td>\n",
       "      <td>0.065222</td>\n",
       "      <td>0.097584</td>\n",
       "      <td>0.001513</td>\n",
       "      <td>0.008129</td>\n",
       "      <td>47.670116</td>\n",
       "      <td>-11571.913671</td>\n",
       "      <td>Benchmark linear regression 1m train</td>\n",
       "    </tr>\n",
       "    <tr>\n",
       "      <th>1</th>\n",
       "      <td>0.019651</td>\n",
       "      <td>0.140183</td>\n",
       "      <td>0.106700</td>\n",
       "      <td>0.143964</td>\n",
       "      <td>0.003801</td>\n",
       "      <td>0.019651</td>\n",
       "      <td>115.234407</td>\n",
       "      <td>-6395.973929</td>\n",
       "      <td>Benchmark linear regression 3m train</td>\n",
       "    </tr>\n",
       "    <tr>\n",
       "      <th>1</th>\n",
       "      <td>0.048958</td>\n",
       "      <td>0.221264</td>\n",
       "      <td>0.165151</td>\n",
       "      <td>0.211789</td>\n",
       "      <td>0.008019</td>\n",
       "      <td>0.048958</td>\n",
       "      <td>287.087181</td>\n",
       "      <td>-1043.211748</td>\n",
       "      <td>Benchmark linear regression 6m train</td>\n",
       "    </tr>\n",
       "    <tr>\n",
       "      <th>1</th>\n",
       "      <td>0.120654</td>\n",
       "      <td>0.347353</td>\n",
       "      <td>0.244971</td>\n",
       "      <td>0.288756</td>\n",
       "      <td>0.009602</td>\n",
       "      <td>0.120654</td>\n",
       "      <td>707.516602</td>\n",
       "      <td>4245.970580</td>\n",
       "      <td>Benchmark linear regression 12m train</td>\n",
       "    </tr>\n",
       "  </tbody>\n",
       "</table>\n",
       "</div>"
      ],
      "text/plain": [
       "        MSE      RMSE       MAE     RMSLE       R^2  Mean Residual Deviance  \\\n",
       "1  0.008129  0.090163  0.065222  0.097584  0.001513                0.008129   \n",
       "1  0.019651  0.140183  0.106700  0.143964  0.003801                0.019651   \n",
       "1  0.048958  0.221264  0.165151  0.211789  0.008019                0.048958   \n",
       "1  0.120654  0.347353  0.244971  0.288756  0.009602                0.120654   \n",
       "\n",
       "   Residual deviance           AIC                                  model  \n",
       "1          47.670116 -11571.913671   Benchmark linear regression 1m train  \n",
       "1         115.234407  -6395.973929   Benchmark linear regression 3m train  \n",
       "1         287.087181  -1043.211748   Benchmark linear regression 6m train  \n",
       "1         707.516602   4245.970580  Benchmark linear regression 12m train  "
      ]
     },
     "execution_count": 71,
     "metadata": {},
     "output_type": "execute_result"
    }
   ],
   "source": [
    "perf_train"
   ]
  },
  {
   "cell_type": "code",
   "execution_count": 72,
   "metadata": {},
   "outputs": [],
   "source": [
    "perf_train.to_csv(r'Assets\\benchmark_performance_train.csv')"
   ]
  },
  {
   "cell_type": "code",
   "execution_count": 75,
   "metadata": {},
   "outputs": [],
   "source": [
    "perf_1m_test_df = modelmetrics_to_data_frame(perf_1m_test)\n",
    "perf_3m_test_df = modelmetrics_to_data_frame(perf_3m_test)\n",
    "perf_6m_test_df = modelmetrics_to_data_frame(perf_6m_test)\n",
    "perf_12m_test_df = modelmetrics_to_data_frame(perf_12m_test)"
   ]
  },
  {
   "cell_type": "code",
   "execution_count": 76,
   "metadata": {},
   "outputs": [],
   "source": [
    "perf_1m_test_df['model'] = 'Benchmark linear regression 1m test'\n",
    "perf_3m_test_df['model'] = 'Benchmark linear regression 3m test'\n",
    "perf_6m_test_df['model'] = 'Benchmark linear regression 6m test'\n",
    "perf_12m_test_df['model'] = 'Benchmark linear regression 12m test'"
   ]
  },
  {
   "cell_type": "code",
   "execution_count": 77,
   "metadata": {},
   "outputs": [],
   "source": [
    "frames = [perf_1m_test_df, perf_3m_test_df, perf_6m_test_df, perf_12m_test_df]\n",
    "\n",
    "perf_test = pd.concat(frames)"
   ]
  },
  {
   "cell_type": "code",
   "execution_count": 78,
   "metadata": {},
   "outputs": [
    {
     "data": {
      "text/html": [
       "<div>\n",
       "<style scoped>\n",
       "    .dataframe tbody tr th:only-of-type {\n",
       "        vertical-align: middle;\n",
       "    }\n",
       "\n",
       "    .dataframe tbody tr th {\n",
       "        vertical-align: top;\n",
       "    }\n",
       "\n",
       "    .dataframe thead th {\n",
       "        text-align: right;\n",
       "    }\n",
       "</style>\n",
       "<table border=\"1\" class=\"dataframe\">\n",
       "  <thead>\n",
       "    <tr style=\"text-align: right;\">\n",
       "      <th></th>\n",
       "      <th>MSE</th>\n",
       "      <th>RMSE</th>\n",
       "      <th>MAE</th>\n",
       "      <th>RMSLE</th>\n",
       "      <th>R^2</th>\n",
       "      <th>Mean Residual Deviance</th>\n",
       "      <th>Residual deviance</th>\n",
       "      <th>AIC</th>\n",
       "      <th>model</th>\n",
       "    </tr>\n",
       "  </thead>\n",
       "  <tbody>\n",
       "    <tr>\n",
       "      <th>1</th>\n",
       "      <td>0.008385</td>\n",
       "      <td>0.091569</td>\n",
       "      <td>0.067875</td>\n",
       "      <td>0.096225</td>\n",
       "      <td>-0.082290</td>\n",
       "      <td>0.008385</td>\n",
       "      <td>19.645671</td>\n",
       "      <td>-4547.511283</td>\n",
       "      <td>Benchmark linear regression 1m test</td>\n",
       "    </tr>\n",
       "    <tr>\n",
       "      <th>1</th>\n",
       "      <td>0.023115</td>\n",
       "      <td>0.152035</td>\n",
       "      <td>0.110979</td>\n",
       "      <td>0.149934</td>\n",
       "      <td>-0.003807</td>\n",
       "      <td>0.023115</td>\n",
       "      <td>54.157831</td>\n",
       "      <td>-2171.602445</td>\n",
       "      <td>Benchmark linear regression 3m test</td>\n",
       "    </tr>\n",
       "    <tr>\n",
       "      <th>1</th>\n",
       "      <td>0.057266</td>\n",
       "      <td>0.239304</td>\n",
       "      <td>0.171791</td>\n",
       "      <td>0.204001</td>\n",
       "      <td>-0.113019</td>\n",
       "      <td>0.057266</td>\n",
       "      <td>134.175165</td>\n",
       "      <td>-45.930784</td>\n",
       "      <td>Benchmark linear regression 6m test</td>\n",
       "    </tr>\n",
       "    <tr>\n",
       "      <th>1</th>\n",
       "      <td>0.135841</td>\n",
       "      <td>0.368566</td>\n",
       "      <td>0.260128</td>\n",
       "      <td>0.297425</td>\n",
       "      <td>0.009684</td>\n",
       "      <td>0.135841</td>\n",
       "      <td>318.275929</td>\n",
       "      <td>1977.888330</td>\n",
       "      <td>Benchmark linear regression 12m test</td>\n",
       "    </tr>\n",
       "  </tbody>\n",
       "</table>\n",
       "</div>"
      ],
      "text/plain": [
       "        MSE      RMSE       MAE     RMSLE       R^2  Mean Residual Deviance  \\\n",
       "1  0.008385  0.091569  0.067875  0.096225 -0.082290                0.008385   \n",
       "1  0.023115  0.152035  0.110979  0.149934 -0.003807                0.023115   \n",
       "1  0.057266  0.239304  0.171791  0.204001 -0.113019                0.057266   \n",
       "1  0.135841  0.368566  0.260128  0.297425  0.009684                0.135841   \n",
       "\n",
       "   Residual deviance          AIC                                 model  \n",
       "1          19.645671 -4547.511283   Benchmark linear regression 1m test  \n",
       "1          54.157831 -2171.602445   Benchmark linear regression 3m test  \n",
       "1         134.175165   -45.930784   Benchmark linear regression 6m test  \n",
       "1         318.275929  1977.888330  Benchmark linear regression 12m test  "
      ]
     },
     "execution_count": 78,
     "metadata": {},
     "output_type": "execute_result"
    }
   ],
   "source": [
    "perf_test"
   ]
  },
  {
   "cell_type": "code",
   "execution_count": 79,
   "metadata": {},
   "outputs": [],
   "source": [
    "perf_test.to_csv(r'Assets\\benchmark_performance_test.csv')"
   ]
  }
 ],
 "metadata": {
  "interpreter": {
   "hash": "e1810f1b07ff6a9bd6e2ce811cb2206e3ea7393940b0ab24041e8daedbafedfc"
  },
  "kernelspec": {
   "display_name": "Python 3.10.4 64-bit",
   "language": "python",
   "name": "python3"
  },
  "language_info": {
   "codemirror_mode": {
    "name": "ipython",
    "version": 3
   },
   "file_extension": ".py",
   "mimetype": "text/x-python",
   "name": "python",
   "nbconvert_exporter": "python",
   "pygments_lexer": "ipython3",
   "version": "3.10.4"
  },
  "orig_nbformat": 4
 },
 "nbformat": 4,
 "nbformat_minor": 2
}
